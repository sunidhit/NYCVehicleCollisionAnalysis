{
 "cells": [
  {
   "cell_type": "markdown",
   "metadata": {
    "colab_type": "text",
    "id": "1SwdfohW7fAP"
   },
   "source": [
    "# Mini Project - Vehicle Collisions\n",
    "\n",
    "\n",
    "resources:\n",
    "[Vehicle Collision Data](https://data.cityofnewyork.us/Public-Safety/Motor-Vehicle-Collisions-Crashes/h9gi-nx95)\n",
    "\n",
    "[Socrata API Doc](https://dev.socrata.com/foundry/data.cityofnewyork.us/h9gi-nx95)\n",
    "\n",
    "[zipcode to neighborhood](https://www.health.ny.gov/statistics/cancer/registry/appendix/neighborhoods.htm)\n"
   ]
  },
  {
   "cell_type": "markdown",
   "metadata": {
    "colab_type": "text",
    "id": "rjFNO3cx701j"
   },
   "source": [
    "\n",
    "## Part 2 - Perform the Analysis (Data Transformation + Visualization)\n"
   ]
  },
  {
   "cell_type": "markdown",
   "metadata": {
    "colab_type": "text",
    "id": "PhpWpHyA8Oo7"
   },
   "source": [
    "### Environment Setup"
   ]
  },
  {
   "cell_type": "code",
   "execution_count": 0,
   "metadata": {
    "colab": {
     "base_uri": "https://localhost:8080/",
     "height": 121
    },
    "colab_type": "code",
    "id": "mh3YeUzj7CGk",
    "outputId": "f448a653-7967-40e1-a827-b182db0f8ecc"
   },
   "outputs": [
    {
     "name": "stdout",
     "output_type": "stream",
     "text": [
      "Requirement already satisfied: sodapy in /usr/local/lib/python3.6/dist-packages (2.1.0)\n",
      "Requirement already satisfied: requests>=2.20.0 in /usr/local/lib/python3.6/dist-packages (from sodapy) (2.23.0)\n",
      "Requirement already satisfied: urllib3!=1.25.0,!=1.25.1,<1.26,>=1.21.1 in /usr/local/lib/python3.6/dist-packages (from requests>=2.20.0->sodapy) (1.24.3)\n",
      "Requirement already satisfied: idna<3,>=2.5 in /usr/local/lib/python3.6/dist-packages (from requests>=2.20.0->sodapy) (2.9)\n",
      "Requirement already satisfied: chardet<4,>=3.0.2 in /usr/local/lib/python3.6/dist-packages (from requests>=2.20.0->sodapy) (3.0.4)\n",
      "Requirement already satisfied: certifi>=2017.4.17 in /usr/local/lib/python3.6/dist-packages (from requests>=2.20.0->sodapy) (2020.4.5.1)\n"
     ]
    }
   ],
   "source": [
    "!pip install sodapy"
   ]
  },
  {
   "cell_type": "code",
   "execution_count": 0,
   "metadata": {
    "colab": {},
    "colab_type": "code",
    "id": "RJ2Tp_YA6Bx6"
   },
   "outputs": [],
   "source": [
    "import pandas as pd\n",
    "import altair as alt\n",
    "from sodapy import Socrata\n",
    "import datetime as dt"
   ]
  },
  {
   "cell_type": "code",
   "execution_count": 0,
   "metadata": {
    "colab": {
     "base_uri": "https://localhost:8080/",
     "height": 34
    },
    "colab_type": "code",
    "id": "zcRb6UP33UkS",
    "outputId": "21920af3-92a0-44bb-f299-f595aed1e9df"
   },
   "outputs": [
    {
     "data": {
      "text/plain": [
       "DataTransformerRegistry.enable('default')"
      ]
     },
     "execution_count": 3,
     "metadata": {
      "tags": []
     },
     "output_type": "execute_result"
    }
   ],
   "source": [
    "alt.data_transformers.disable_max_rows()"
   ]
  },
  {
   "cell_type": "code",
   "execution_count": 0,
   "metadata": {
    "colab": {},
    "colab_type": "code",
    "id": "wuBtAGaF6EuI"
   },
   "outputs": [],
   "source": [
    "client = Socrata(\"data.cityofnewyork.us\", \"FSftCRf0oX5vPMmtWkvtr6DXD\")\n",
    "results = client.get(\"h9gi-nx95\", limit=2000000)"
   ]
  },
  {
   "cell_type": "code",
   "execution_count": 0,
   "metadata": {
    "colab": {
     "base_uri": "https://localhost:8080/",
     "height": 642
    },
    "colab_type": "code",
    "id": "0Cg1uG_l64JD",
    "outputId": "852deb06-3047-4d3a-ae92-d7dc8e1008f3"
   },
   "outputs": [
    {
     "name": "stdout",
     "output_type": "stream",
     "text": [
      "<class 'pandas.core.frame.DataFrame'>\n",
      "RangeIndex: 1676892 entries, 0 to 1676891\n",
      "Data columns (total 29 columns):\n",
      " #   Column                         Non-Null Count    Dtype \n",
      "---  ------                         --------------    ----- \n",
      " 0   crash_date                     1676892 non-null  object\n",
      " 1   crash_time                     1676892 non-null  object\n",
      " 2   cross_street_name              239705 non-null   object\n",
      " 3   number_of_persons_injured      1676875 non-null  object\n",
      " 4   number_of_persons_killed       1676861 non-null  object\n",
      " 5   number_of_pedestrians_injured  1676892 non-null  object\n",
      " 6   number_of_pedestrians_killed   1676892 non-null  object\n",
      " 7   number_of_cyclist_injured      1676892 non-null  object\n",
      " 8   number_of_cyclist_killed       1676892 non-null  object\n",
      " 9   number_of_motorist_injured     1676892 non-null  object\n",
      " 10  number_of_motorist_killed      1676892 non-null  object\n",
      " 11  contributing_factor_vehicle_1  1672360 non-null  object\n",
      " 12  contributing_factor_vehicle_2  1447840 non-null  object\n",
      " 13  collision_id                   1676892 non-null  object\n",
      " 14  vehicle_type_code1             1670905 non-null  object\n",
      " 15  vehicle_type_code2             1394640 non-null  object\n",
      " 16  on_street_name                 1344819 non-null  object\n",
      " 17  latitude                       1474789 non-null  object\n",
      " 18  longitude                      1474789 non-null  object\n",
      " 19  location                       1474789 non-null  object\n",
      " 20  borough                        1165366 non-null  object\n",
      " 21  zip_code                       1165160 non-null  object\n",
      " 22  off_street_name                1103467 non-null  object\n",
      " 23  contributing_factor_vehicle_3  109014 non-null   object\n",
      " 24  vehicle_type_code_3            137821 non-null   object\n",
      " 25  vehicle_type_code_4            50603 non-null    object\n",
      " 26  contributing_factor_vehicle_4  22873 non-null    object\n",
      " 27  contributing_factor_vehicle_5  5869 non-null     object\n",
      " 28  vehicle_type_code_5            10944 non-null    object\n",
      "dtypes: object(29)\n",
      "memory usage: 371.0+ MB\n"
     ]
    }
   ],
   "source": [
    "data_df = pd.DataFrame.from_records(results)\n",
    "data_df.info()"
   ]
  },
  {
   "cell_type": "markdown",
   "metadata": {
    "colab_type": "text",
    "id": "azMVo-CelFcR"
   },
   "source": [
    "### Clean Data\n",
    "Turn all text strings to uppercase to optimize grouping"
   ]
  },
  {
   "cell_type": "code",
   "execution_count": 0,
   "metadata": {
    "colab": {},
    "colab_type": "code",
    "id": "oWzRqwjrasnB"
   },
   "outputs": [],
   "source": [
    "text_columns = ['on_street_name', 'off_street_name', 'contributing_factor_vehicle_1', 'contributing_factor_vehicle_2', 'vehicle_type_code1', 'vehicle_type_code2', 'contributing_factor_vehicle_3', 'contributing_factor_vehicle_4', 'contributing_factor_vehicle_5', 'vehicle_type_code_3', 'vehicle_type_code_4', 'vehicle_type_code_5' ]\n",
    "for column in text_columns:\n",
    "  data_df[column] = data_df[column].str.upper() \n"
   ]
  },
  {
   "cell_type": "markdown",
   "metadata": {
    "colab_type": "text",
    "id": "tiiWTP6HlSPa"
   },
   "source": [
    "Clean data: fill all empty cells/NaN with 'MISSING' so it can be differentiated from other reasons such as 'UNSPECIFIED' "
   ]
  },
  {
   "cell_type": "code",
   "execution_count": 0,
   "metadata": {
    "colab": {},
    "colab_type": "code",
    "id": "h0kgrx4f_ahU"
   },
   "outputs": [],
   "source": [
    "data_df[text_columns] = data_df[text_columns].fillna('MISSING')"
   ]
  },
  {
   "cell_type": "markdown",
   "metadata": {
    "colab_type": "text",
    "id": "823ZaUnRTGUL"
   },
   "source": [
    "Extract datetime, month, day, weekday, weeknumber, hour"
   ]
  },
  {
   "cell_type": "code",
   "execution_count": 0,
   "metadata": {
    "colab": {},
    "colab_type": "code",
    "id": "rhmB-WP4SSw8"
   },
   "outputs": [],
   "source": [
    "data_df[\"crash_dt\"] = pd.to_datetime(data_df['crash_date'])\n",
    "data_df[\"year\"] = data_df.crash_dt.dt.year\n",
    "data_df[\"month\"] = data_df.crash_dt.dt.month\n",
    "data_df[\"weeknumber\"] = data_df.crash_dt.dt.weekofyear\n",
    "data_df[\"day\"] = data_df.crash_dt.dt.day\n",
    "data_df[\"dayofyear\"] = data_df.crash_dt.dt.dayofyear\n",
    "data_df[\"weekday\"] = data_df.crash_dt.dt.weekday\n",
    "data_df['hour'] = pd.to_datetime(data_df['crash_time'], format='%H:%M').dt.hour"
   ]
  },
  {
   "cell_type": "markdown",
   "metadata": {
    "colab_type": "text",
    "id": "MDYyZxHn8Dri"
   },
   "source": [
    "### Top Contributing Factors and Vehicle Types"
   ]
  },
  {
   "cell_type": "code",
   "execution_count": 0,
   "metadata": {
    "colab": {
     "base_uri": "https://localhost:8080/",
     "height": 592
    },
    "colab_type": "code",
    "id": "8VHf8Fx0i41F",
    "outputId": "7fa32c9e-516b-424d-fbcc-8f04650106c8"
   },
   "outputs": [
    {
     "data": {
      "text/html": [
       "\n",
       "<div id=\"altair-viz-385e0df1ab864fb0b30376486ca0bebb\"></div>\n",
       "<script type=\"text/javascript\">\n",
       "  (function(spec, embedOpt){\n",
       "    let outputDiv = document.currentScript.previousElementSibling;\n",
       "    if (outputDiv.id !== \"altair-viz-385e0df1ab864fb0b30376486ca0bebb\") {\n",
       "      outputDiv = document.getElementById(\"altair-viz-385e0df1ab864fb0b30376486ca0bebb\");\n",
       "    }\n",
       "    const paths = {\n",
       "      \"vega\": \"https://cdn.jsdelivr.net/npm//vega@5?noext\",\n",
       "      \"vega-lib\": \"https://cdn.jsdelivr.net/npm//vega-lib?noext\",\n",
       "      \"vega-lite\": \"https://cdn.jsdelivr.net/npm//vega-lite@4.8.1?noext\",\n",
       "      \"vega-embed\": \"https://cdn.jsdelivr.net/npm//vega-embed@6?noext\",\n",
       "    };\n",
       "\n",
       "    function loadScript(lib) {\n",
       "      return new Promise(function(resolve, reject) {\n",
       "        var s = document.createElement('script');\n",
       "        s.src = paths[lib];\n",
       "        s.async = true;\n",
       "        s.onload = () => resolve(paths[lib]);\n",
       "        s.onerror = () => reject(`Error loading script: ${paths[lib]}`);\n",
       "        document.getElementsByTagName(\"head\")[0].appendChild(s);\n",
       "      });\n",
       "    }\n",
       "\n",
       "    function showError(err) {\n",
       "      outputDiv.innerHTML = `<div class=\"error\" style=\"color:red;\">${err}</div>`;\n",
       "      throw err;\n",
       "    }\n",
       "\n",
       "    function displayChart(vegaEmbed) {\n",
       "      vegaEmbed(outputDiv, spec, embedOpt)\n",
       "        .catch(err => showError(`Javascript Error: ${err.message}<br>This usually means there's a typo in your chart specification. See the javascript console for the full traceback.`));\n",
       "    }\n",
       "\n",
       "    if(typeof define === \"function\" && define.amd) {\n",
       "      requirejs.config({paths});\n",
       "      require([\"vega-embed\"], displayChart, err => showError(`Error loading script: ${err.message}`));\n",
       "    } else if (typeof vegaEmbed === \"function\") {\n",
       "      displayChart(vegaEmbed);\n",
       "    } else {\n",
       "      loadScript(\"vega\")\n",
       "        .then(() => loadScript(\"vega-lite\"))\n",
       "        .then(() => loadScript(\"vega-embed\"))\n",
       "        .catch(showError)\n",
       "        .then(() => displayChart(vegaEmbed));\n",
       "    }\n",
       "  })({\"config\": {\"view\": {\"continuousWidth\": 400, \"continuousHeight\": 300}}, \"layer\": [{\"mark\": \"bar\", \"encoding\": {\"x\": {\"type\": \"nominal\", \"axis\": {\"labelAngle\": -45}, \"field\": \"contributing_factor_vehicle_1\", \"sort\": \"-y\"}, \"y\": {\"type\": \"quantitative\", \"field\": \"counts\"}}}, {\"mark\": {\"type\": \"text\", \"align\": \"center\", \"baseline\": \"bottom\"}, \"encoding\": {\"text\": {\"type\": \"quantitative\", \"field\": \"counts\"}, \"x\": {\"type\": \"nominal\", \"axis\": {\"labelAngle\": -45}, \"field\": \"contributing_factor_vehicle_1\", \"sort\": \"-y\"}, \"y\": {\"type\": \"quantitative\", \"field\": \"counts\"}}}], \"data\": {\"name\": \"data-76cec8f1fe67093c998523296cfe110c\"}, \"height\": 400, \"width\": 800, \"$schema\": \"https://vega.github.io/schema/vega-lite/v4.8.1.json\", \"datasets\": {\"data-76cec8f1fe67093c998523296cfe110c\": [{\"contributing_factor_vehicle_1\": \"UNSPECIFIED\", \"counts\": 607905}, {\"contributing_factor_vehicle_1\": \"DRIVER INATTENTION/DISTRACTION\", \"counts\": 317234}, {\"contributing_factor_vehicle_1\": \"FAILURE TO YIELD RIGHT-OF-WAY\", \"counts\": 96299}, {\"contributing_factor_vehicle_1\": \"FOLLOWING TOO CLOSELY\", \"counts\": 85434}, {\"contributing_factor_vehicle_1\": \"BACKING UNSAFELY\", \"counts\": 64359}, {\"contributing_factor_vehicle_1\": \"OTHER VEHICULAR\", \"counts\": 53050}, {\"contributing_factor_vehicle_1\": \"FATIGUED/DROWSY\", \"counts\": 46930}, {\"contributing_factor_vehicle_1\": \"TURNING IMPROPERLY\", \"counts\": 42489}, {\"contributing_factor_vehicle_1\": \"PASSING OR LANE USAGE IMPROPER\", \"counts\": 40599}, {\"contributing_factor_vehicle_1\": \"PASSING TOO CLOSELY\", \"counts\": 37181}, {\"contributing_factor_vehicle_1\": \"UNSAFE LANE CHANGING\", \"counts\": 32618}, {\"contributing_factor_vehicle_1\": \"TRAFFIC CONTROL DISREGARDED\", \"counts\": 25650}, {\"contributing_factor_vehicle_1\": \"DRIVER INEXPERIENCE\", \"counts\": 24658}, {\"contributing_factor_vehicle_1\": \"LOST CONSCIOUSNESS\", \"counts\": 19731}, {\"contributing_factor_vehicle_1\": \"PAVEMENT SLIPPERY\", \"counts\": 16684}]}}, {\"mode\": \"vega-lite\"});\n",
       "</script>"
      ],
      "text/plain": [
       "alt.LayerChart(...)"
      ]
     },
     "execution_count": 9,
     "metadata": {
      "tags": []
     },
     "output_type": "execute_result"
    }
   ],
   "source": [
    "source = data_df.groupby('contributing_factor_vehicle_1').size().sort_values(ascending=False).to_frame('counts').reset_index().nlargest(15, 'counts')\n",
    "\n",
    "bars = alt.Chart().mark_bar().encode(\n",
    "    x=alt.X('contributing_factor_vehicle_1:N', sort='-y', axis=alt.Axis(labelAngle=-45)),\n",
    "    y=alt.Y('counts:Q'),\n",
    "    #color='borough'\n",
    ")\n",
    "\n",
    "texts = bars.mark_text(\n",
    "    align='center',\n",
    "    baseline='bottom',\n",
    ").encode(\n",
    "    text='counts:Q'\n",
    ")\n",
    "\n",
    "alt.layer(bars, texts, data=source).properties(\n",
    "    width=800,\n",
    "    height=400\n",
    ")"
   ]
  },
  {
   "cell_type": "code",
   "execution_count": 0,
   "metadata": {
    "colab": {
     "base_uri": "https://localhost:8080/",
     "height": 592
    },
    "colab_type": "code",
    "id": "V69uFwCrGzWD",
    "outputId": "19ea88d3-4538-4ff5-ab76-3fcaa5989158"
   },
   "outputs": [
    {
     "data": {
      "text/html": [
       "\n",
       "<div id=\"altair-viz-c232927d152646c999118bf41886eb47\"></div>\n",
       "<script type=\"text/javascript\">\n",
       "  (function(spec, embedOpt){\n",
       "    let outputDiv = document.currentScript.previousElementSibling;\n",
       "    if (outputDiv.id !== \"altair-viz-c232927d152646c999118bf41886eb47\") {\n",
       "      outputDiv = document.getElementById(\"altair-viz-c232927d152646c999118bf41886eb47\");\n",
       "    }\n",
       "    const paths = {\n",
       "      \"vega\": \"https://cdn.jsdelivr.net/npm//vega@5?noext\",\n",
       "      \"vega-lib\": \"https://cdn.jsdelivr.net/npm//vega-lib?noext\",\n",
       "      \"vega-lite\": \"https://cdn.jsdelivr.net/npm//vega-lite@4.8.1?noext\",\n",
       "      \"vega-embed\": \"https://cdn.jsdelivr.net/npm//vega-embed@6?noext\",\n",
       "    };\n",
       "\n",
       "    function loadScript(lib) {\n",
       "      return new Promise(function(resolve, reject) {\n",
       "        var s = document.createElement('script');\n",
       "        s.src = paths[lib];\n",
       "        s.async = true;\n",
       "        s.onload = () => resolve(paths[lib]);\n",
       "        s.onerror = () => reject(`Error loading script: ${paths[lib]}`);\n",
       "        document.getElementsByTagName(\"head\")[0].appendChild(s);\n",
       "      });\n",
       "    }\n",
       "\n",
       "    function showError(err) {\n",
       "      outputDiv.innerHTML = `<div class=\"error\" style=\"color:red;\">${err}</div>`;\n",
       "      throw err;\n",
       "    }\n",
       "\n",
       "    function displayChart(vegaEmbed) {\n",
       "      vegaEmbed(outputDiv, spec, embedOpt)\n",
       "        .catch(err => showError(`Javascript Error: ${err.message}<br>This usually means there's a typo in your chart specification. See the javascript console for the full traceback.`));\n",
       "    }\n",
       "\n",
       "    if(typeof define === \"function\" && define.amd) {\n",
       "      requirejs.config({paths});\n",
       "      require([\"vega-embed\"], displayChart, err => showError(`Error loading script: ${err.message}`));\n",
       "    } else if (typeof vegaEmbed === \"function\") {\n",
       "      displayChart(vegaEmbed);\n",
       "    } else {\n",
       "      loadScript(\"vega\")\n",
       "        .then(() => loadScript(\"vega-lite\"))\n",
       "        .then(() => loadScript(\"vega-embed\"))\n",
       "        .catch(showError)\n",
       "        .then(() => displayChart(vegaEmbed));\n",
       "    }\n",
       "  })({\"config\": {\"view\": {\"continuousWidth\": 400, \"continuousHeight\": 300}}, \"layer\": [{\"mark\": \"bar\", \"encoding\": {\"x\": {\"type\": \"nominal\", \"axis\": {\"labelAngle\": -45}, \"field\": \"contributing_factor_vehicle_2\", \"sort\": \"-y\"}, \"y\": {\"type\": \"quantitative\", \"field\": \"counts\"}}}, {\"mark\": {\"type\": \"text\", \"align\": \"center\", \"baseline\": \"bottom\"}, \"encoding\": {\"text\": {\"type\": \"quantitative\", \"field\": \"counts\"}, \"x\": {\"type\": \"nominal\", \"axis\": {\"labelAngle\": -45}, \"field\": \"contributing_factor_vehicle_2\", \"sort\": \"-y\"}, \"y\": {\"type\": \"quantitative\", \"field\": \"counts\"}}}], \"data\": {\"name\": \"data-c3ab5751b80a76a01cc3bac76a612979\"}, \"height\": 400, \"width\": 800, \"$schema\": \"https://vega.github.io/schema/vega-lite/v4.8.1.json\", \"datasets\": {\"data-c3ab5751b80a76a01cc3bac76a612979\": [{\"contributing_factor_vehicle_2\": \"UNSPECIFIED\", \"counts\": 1216462}, {\"contributing_factor_vehicle_2\": \"MISSING\", \"counts\": 229052}, {\"contributing_factor_vehicle_2\": \"DRIVER INATTENTION/DISTRACTION\", \"counts\": 77253}, {\"contributing_factor_vehicle_2\": \"OTHER VEHICULAR\", \"counts\": 27661}, {\"contributing_factor_vehicle_2\": \"FAILURE TO YIELD RIGHT-OF-WAY\", \"counts\": 14502}, {\"contributing_factor_vehicle_2\": \"FOLLOWING TOO CLOSELY\", \"counts\": 14429}, {\"contributing_factor_vehicle_2\": \"FATIGUED/DROWSY\", \"counts\": 10828}, {\"contributing_factor_vehicle_2\": \"PASSING OR LANE USAGE IMPROPER\", \"counts\": 10034}, {\"contributing_factor_vehicle_2\": \"TURNING IMPROPERLY\", \"counts\": 7910}, {\"contributing_factor_vehicle_2\": \"BACKING UNSAFELY\", \"counts\": 7238}, {\"contributing_factor_vehicle_2\": \"PASSING TOO CLOSELY\", \"counts\": 7041}, {\"contributing_factor_vehicle_2\": \"DRIVER INEXPERIENCE\", \"counts\": 5620}, {\"contributing_factor_vehicle_2\": \"UNSAFE LANE CHANGING\", \"counts\": 5599}, {\"contributing_factor_vehicle_2\": \"TRAFFIC CONTROL DISREGARDED\", \"counts\": 5513}, {\"contributing_factor_vehicle_2\": \"LOST CONSCIOUSNESS\", \"counts\": 5225}]}}, {\"mode\": \"vega-lite\"});\n",
       "</script>"
      ],
      "text/plain": [
       "alt.LayerChart(...)"
      ]
     },
     "execution_count": 10,
     "metadata": {
      "tags": []
     },
     "output_type": "execute_result"
    }
   ],
   "source": [
    "source = data_df.groupby('contributing_factor_vehicle_2').size().sort_values(ascending=False).to_frame('counts').reset_index().nlargest(15, 'counts')\n",
    "\n",
    "bars = alt.Chart().mark_bar().encode(\n",
    "    x=alt.X('contributing_factor_vehicle_2:N', sort='-y', axis=alt.Axis(labelAngle=-45)),\n",
    "    y=alt.Y('counts:Q'),\n",
    ")\n",
    "\n",
    "texts = bars.mark_text(\n",
    "    align='center',\n",
    "    baseline='bottom',\n",
    ").encode(\n",
    "    text='counts:Q'\n",
    ")\n",
    "\n",
    "alt.layer(bars, texts, data=source).properties(\n",
    "    width=800,\n",
    "    height=400\n",
    ")"
   ]
  },
  {
   "cell_type": "code",
   "execution_count": 0,
   "metadata": {
    "colab": {
     "base_uri": "https://localhost:8080/",
     "height": 589
    },
    "colab_type": "code",
    "id": "ZuB2PFubljfT",
    "outputId": "12c3a954-8857-480d-94c8-84db8a03209d"
   },
   "outputs": [
    {
     "data": {
      "text/html": [
       "\n",
       "<div id=\"altair-viz-6800570418484dc3bc0f2c7c2b7df81e\"></div>\n",
       "<script type=\"text/javascript\">\n",
       "  (function(spec, embedOpt){\n",
       "    let outputDiv = document.currentScript.previousElementSibling;\n",
       "    if (outputDiv.id !== \"altair-viz-6800570418484dc3bc0f2c7c2b7df81e\") {\n",
       "      outputDiv = document.getElementById(\"altair-viz-6800570418484dc3bc0f2c7c2b7df81e\");\n",
       "    }\n",
       "    const paths = {\n",
       "      \"vega\": \"https://cdn.jsdelivr.net/npm//vega@5?noext\",\n",
       "      \"vega-lib\": \"https://cdn.jsdelivr.net/npm//vega-lib?noext\",\n",
       "      \"vega-lite\": \"https://cdn.jsdelivr.net/npm//vega-lite@4.8.1?noext\",\n",
       "      \"vega-embed\": \"https://cdn.jsdelivr.net/npm//vega-embed@6?noext\",\n",
       "    };\n",
       "\n",
       "    function loadScript(lib) {\n",
       "      return new Promise(function(resolve, reject) {\n",
       "        var s = document.createElement('script');\n",
       "        s.src = paths[lib];\n",
       "        s.async = true;\n",
       "        s.onload = () => resolve(paths[lib]);\n",
       "        s.onerror = () => reject(`Error loading script: ${paths[lib]}`);\n",
       "        document.getElementsByTagName(\"head\")[0].appendChild(s);\n",
       "      });\n",
       "    }\n",
       "\n",
       "    function showError(err) {\n",
       "      outputDiv.innerHTML = `<div class=\"error\" style=\"color:red;\">${err}</div>`;\n",
       "      throw err;\n",
       "    }\n",
       "\n",
       "    function displayChart(vegaEmbed) {\n",
       "      vegaEmbed(outputDiv, spec, embedOpt)\n",
       "        .catch(err => showError(`Javascript Error: ${err.message}<br>This usually means there's a typo in your chart specification. See the javascript console for the full traceback.`));\n",
       "    }\n",
       "\n",
       "    if(typeof define === \"function\" && define.amd) {\n",
       "      requirejs.config({paths});\n",
       "      require([\"vega-embed\"], displayChart, err => showError(`Error loading script: ${err.message}`));\n",
       "    } else if (typeof vegaEmbed === \"function\") {\n",
       "      displayChart(vegaEmbed);\n",
       "    } else {\n",
       "      loadScript(\"vega\")\n",
       "        .then(() => loadScript(\"vega-lite\"))\n",
       "        .then(() => loadScript(\"vega-embed\"))\n",
       "        .catch(showError)\n",
       "        .then(() => displayChart(vegaEmbed));\n",
       "    }\n",
       "  })({\"config\": {\"view\": {\"continuousWidth\": 400, \"continuousHeight\": 300}}, \"layer\": [{\"mark\": \"bar\", \"encoding\": {\"x\": {\"type\": \"nominal\", \"axis\": {\"labelAngle\": -45}, \"field\": \"vehicle_type_code1\", \"sort\": \"-y\"}, \"y\": {\"type\": \"quantitative\", \"field\": \"counts\"}}}, {\"mark\": {\"type\": \"text\", \"align\": \"center\", \"baseline\": \"bottom\"}, \"encoding\": {\"text\": {\"type\": \"quantitative\", \"field\": \"counts\"}, \"x\": {\"type\": \"nominal\", \"axis\": {\"labelAngle\": -45}, \"field\": \"vehicle_type_code1\", \"sort\": \"-y\"}, \"y\": {\"type\": \"quantitative\", \"field\": \"counts\"}}}], \"data\": {\"name\": \"data-4a931716da4e4fa00aa6d6d53c898552\"}, \"height\": 400, \"width\": 800, \"$schema\": \"https://vega.github.io/schema/vega-lite/v4.8.1.json\", \"datasets\": {\"data-4a931716da4e4fa00aa6d6d53c898552\": [{\"vehicle_type_code1\": \"PASSENGER VEHICLE\", \"counts\": 715236}, {\"vehicle_type_code1\": \"SPORT UTILITY / STATION WAGON\", \"counts\": 313500}, {\"vehicle_type_code1\": \"SEDAN\", \"counts\": 187354}, {\"vehicle_type_code1\": \"STATION WAGON/SPORT UTILITY VEHICLE\", \"counts\": 153501}, {\"vehicle_type_code1\": \"TAXI\", \"counts\": 70017}, {\"vehicle_type_code1\": \"PICK-UP TRUCK\", \"counts\": 35521}, {\"vehicle_type_code1\": \"VAN\", \"counts\": 29897}, {\"vehicle_type_code1\": \"OTHER\", \"counts\": 23986}, {\"vehicle_type_code1\": \"BUS\", \"counts\": 21948}, {\"vehicle_type_code1\": \"UNKNOWN\", \"counts\": 19929}, {\"vehicle_type_code1\": \"SMALL COM VEH(4 TIRES) \", \"counts\": 14559}, {\"vehicle_type_code1\": \"LARGE COM VEH(6 OR MORE TIRES)\", \"counts\": 14527}, {\"vehicle_type_code1\": \"LIVERY VEHICLE\", \"counts\": 10481}, {\"vehicle_type_code1\": \"BOX TRUCK\", \"counts\": 9566}, {\"vehicle_type_code1\": \"MOTORCYCLE\", \"counts\": 8742}]}}, {\"mode\": \"vega-lite\"});\n",
       "</script>"
      ],
      "text/plain": [
       "alt.LayerChart(...)"
      ]
     },
     "execution_count": 11,
     "metadata": {
      "tags": []
     },
     "output_type": "execute_result"
    }
   ],
   "source": [
    "source = data_df.groupby('vehicle_type_code1').size().sort_values(ascending=False).to_frame('counts').reset_index().nlargest(15, 'counts')\n",
    "\n",
    "bars = alt.Chart().mark_bar().encode(\n",
    "    x=alt.X('vehicle_type_code1:N', sort='-y', axis=alt.Axis(labelAngle=-45)),\n",
    "    y=alt.Y('counts:Q'),\n",
    ")\n",
    "\n",
    "texts = bars.mark_text(\n",
    "    align='center',\n",
    "    baseline='bottom',\n",
    ").encode(\n",
    "    text='counts:Q'\n",
    ")\n",
    "\n",
    "alt.layer(bars, texts, data=source).properties(\n",
    "    width=800,\n",
    "    height=400\n",
    ")"
   ]
  },
  {
   "cell_type": "code",
   "execution_count": 0,
   "metadata": {
    "colab": {
     "base_uri": "https://localhost:8080/",
     "height": 589
    },
    "colab_type": "code",
    "id": "4EzGEnK6lu29",
    "outputId": "49276a26-3f9f-4556-db34-776c4a9e06c9"
   },
   "outputs": [
    {
     "data": {
      "text/html": [
       "\n",
       "<div id=\"altair-viz-47487739c0f34124afc101902f785717\"></div>\n",
       "<script type=\"text/javascript\">\n",
       "  (function(spec, embedOpt){\n",
       "    let outputDiv = document.currentScript.previousElementSibling;\n",
       "    if (outputDiv.id !== \"altair-viz-47487739c0f34124afc101902f785717\") {\n",
       "      outputDiv = document.getElementById(\"altair-viz-47487739c0f34124afc101902f785717\");\n",
       "    }\n",
       "    const paths = {\n",
       "      \"vega\": \"https://cdn.jsdelivr.net/npm//vega@5?noext\",\n",
       "      \"vega-lib\": \"https://cdn.jsdelivr.net/npm//vega-lib?noext\",\n",
       "      \"vega-lite\": \"https://cdn.jsdelivr.net/npm//vega-lite@4.8.1?noext\",\n",
       "      \"vega-embed\": \"https://cdn.jsdelivr.net/npm//vega-embed@6?noext\",\n",
       "    };\n",
       "\n",
       "    function loadScript(lib) {\n",
       "      return new Promise(function(resolve, reject) {\n",
       "        var s = document.createElement('script');\n",
       "        s.src = paths[lib];\n",
       "        s.async = true;\n",
       "        s.onload = () => resolve(paths[lib]);\n",
       "        s.onerror = () => reject(`Error loading script: ${paths[lib]}`);\n",
       "        document.getElementsByTagName(\"head\")[0].appendChild(s);\n",
       "      });\n",
       "    }\n",
       "\n",
       "    function showError(err) {\n",
       "      outputDiv.innerHTML = `<div class=\"error\" style=\"color:red;\">${err}</div>`;\n",
       "      throw err;\n",
       "    }\n",
       "\n",
       "    function displayChart(vegaEmbed) {\n",
       "      vegaEmbed(outputDiv, spec, embedOpt)\n",
       "        .catch(err => showError(`Javascript Error: ${err.message}<br>This usually means there's a typo in your chart specification. See the javascript console for the full traceback.`));\n",
       "    }\n",
       "\n",
       "    if(typeof define === \"function\" && define.amd) {\n",
       "      requirejs.config({paths});\n",
       "      require([\"vega-embed\"], displayChart, err => showError(`Error loading script: ${err.message}`));\n",
       "    } else if (typeof vegaEmbed === \"function\") {\n",
       "      displayChart(vegaEmbed);\n",
       "    } else {\n",
       "      loadScript(\"vega\")\n",
       "        .then(() => loadScript(\"vega-lite\"))\n",
       "        .then(() => loadScript(\"vega-embed\"))\n",
       "        .catch(showError)\n",
       "        .then(() => displayChart(vegaEmbed));\n",
       "    }\n",
       "  })({\"config\": {\"view\": {\"continuousWidth\": 400, \"continuousHeight\": 300}}, \"layer\": [{\"mark\": \"bar\", \"encoding\": {\"x\": {\"type\": \"nominal\", \"axis\": {\"labelAngle\": -45}, \"field\": \"vehicle_type_code2\", \"sort\": \"-y\"}, \"y\": {\"type\": \"quantitative\", \"field\": \"counts\"}}}, {\"mark\": {\"type\": \"text\", \"align\": \"center\", \"baseline\": \"bottom\"}, \"encoding\": {\"text\": {\"type\": \"quantitative\", \"field\": \"counts\"}, \"x\": {\"type\": \"nominal\", \"axis\": {\"labelAngle\": -45}, \"field\": \"vehicle_type_code2\", \"sort\": \"-y\"}, \"y\": {\"type\": \"quantitative\", \"field\": \"counts\"}}}], \"data\": {\"name\": \"data-ed51a4b656befe80a7cd371814f35b2a\"}, \"height\": 400, \"width\": 800, \"$schema\": \"https://vega.github.io/schema/vega-lite/v4.8.1.json\", \"datasets\": {\"data-ed51a4b656befe80a7cd371814f35b2a\": [{\"vehicle_type_code2\": \"PASSENGER VEHICLE\", \"counts\": 537550}, {\"vehicle_type_code2\": \"MISSING\", \"counts\": 282252}, {\"vehicle_type_code2\": \"SPORT UTILITY / STATION WAGON\", \"counts\": 237846}, {\"vehicle_type_code2\": \"SEDAN\", \"counts\": 138829}, {\"vehicle_type_code2\": \"STATION WAGON/SPORT UTILITY VEHICLE\", \"counts\": 118031}, {\"vehicle_type_code2\": \"UNKNOWN\", \"counts\": 81455}, {\"vehicle_type_code2\": \"TAXI\", \"counts\": 57020}, {\"vehicle_type_code2\": \"PICK-UP TRUCK\", \"counts\": 33150}, {\"vehicle_type_code2\": \"VAN\", \"counts\": 27297}, {\"vehicle_type_code2\": \"BICYCLE\", \"counts\": 26945}, {\"vehicle_type_code2\": \"OTHER\", \"counts\": 25785}, {\"vehicle_type_code2\": \"BUS\", \"counts\": 18120}, {\"vehicle_type_code2\": \"SMALL COM VEH(4 TIRES) \", \"counts\": 15869}, {\"vehicle_type_code2\": \"LARGE COM VEH(6 OR MORE TIRES)\", \"counts\": 13970}, {\"vehicle_type_code2\": \"BOX TRUCK\", \"counts\": 10200}]}}, {\"mode\": \"vega-lite\"});\n",
       "</script>"
      ],
      "text/plain": [
       "alt.LayerChart(...)"
      ]
     },
     "execution_count": 12,
     "metadata": {
      "tags": []
     },
     "output_type": "execute_result"
    }
   ],
   "source": [
    "source = data_df.groupby('vehicle_type_code2').size().sort_values(ascending=False).to_frame('counts').reset_index().nlargest(15, 'counts')\n",
    "\n",
    "bars = alt.Chart().mark_bar().encode(\n",
    "    x=alt.X('vehicle_type_code2:N', sort='-y', axis=alt.Axis(labelAngle=-45)),\n",
    "    y=alt.Y('counts:Q'),\n",
    ")\n",
    "\n",
    "texts = bars.mark_text(\n",
    "    align='center',\n",
    "    baseline='bottom',\n",
    ").encode(\n",
    "    text='counts:Q'\n",
    ")\n",
    "\n",
    "alt.layer(bars, texts, data=source).properties(\n",
    "    width=800,\n",
    "    height=400\n",
    ")"
   ]
  },
  {
   "cell_type": "markdown",
   "metadata": {
    "colab_type": "text",
    "id": "2z9HGK-b_GaB"
   },
   "source": [
    "### Year/Day Heatmap"
   ]
  },
  {
   "cell_type": "code",
   "execution_count": 0,
   "metadata": {
    "colab": {
     "base_uri": "https://localhost:8080/",
     "height": 247
    },
    "colab_type": "code",
    "id": "BzZOKN22l1CN",
    "outputId": "d7289304-b82b-44ac-d076-6e4cef8f7375"
   },
   "outputs": [
    {
     "data": {
      "text/html": [
       "\n",
       "<div id=\"altair-viz-beb0e3b32cc2473ca35e9ab3c010bdf9\"></div>\n",
       "<script type=\"text/javascript\">\n",
       "  (function(spec, embedOpt){\n",
       "    let outputDiv = document.currentScript.previousElementSibling;\n",
       "    if (outputDiv.id !== \"altair-viz-beb0e3b32cc2473ca35e9ab3c010bdf9\") {\n",
       "      outputDiv = document.getElementById(\"altair-viz-beb0e3b32cc2473ca35e9ab3c010bdf9\");\n",
       "    }\n",
       "    const paths = {\n",
       "      \"vega\": \"https://cdn.jsdelivr.net/npm//vega@5?noext\",\n",
       "      \"vega-lib\": \"https://cdn.jsdelivr.net/npm//vega-lib?noext\",\n",
       "      \"vega-lite\": \"https://cdn.jsdelivr.net/npm//vega-lite@4.8.1?noext\",\n",
       "      \"vega-embed\": \"https://cdn.jsdelivr.net/npm//vega-embed@6?noext\",\n",
       "    };\n",
       "\n",
       "    function loadScript(lib) {\n",
       "      return new Promise(function(resolve, reject) {\n",
       "        var s = document.createElement('script');\n",
       "        s.src = paths[lib];\n",
       "        s.async = true;\n",
       "        s.onload = () => resolve(paths[lib]);\n",
       "        s.onerror = () => reject(`Error loading script: ${paths[lib]}`);\n",
       "        document.getElementsByTagName(\"head\")[0].appendChild(s);\n",
       "      });\n",
       "    }\n",
       "\n",
       "    function showError(err) {\n",
       "      outputDiv.innerHTML = `<div class=\"error\" style=\"color:red;\">${err}</div>`;\n",
       "      throw err;\n",
       "    }\n",
       "\n",
       "    function displayChart(vegaEmbed) {\n",
       "      vegaEmbed(outputDiv, spec, embedOpt)\n",
       "        .catch(err => showError(`Javascript Error: ${err.message}<br>This usually means there's a typo in your chart specification. See the javascript console for the full traceback.`));\n",
       "    }\n",
       "\n",
       "    if(typeof define === \"function\" && define.amd) {\n",
       "      requirejs.config({paths});\n",
       "      require([\"vega-embed\"], displayChart, err => showError(`Error loading script: ${err.message}`));\n",
       "    } else if (typeof vegaEmbed === \"function\") {\n",
       "      displayChart(vegaEmbed);\n",
       "    } else {\n",
       "      loadScript(\"vega\")\n",
       "        .then(() => loadScript(\"vega-lite\"))\n",
       "        .then(() => loadScript(\"vega-embed\"))\n",
       "        .catch(showError)\n",
       "        .then(() => displayChart(vegaEmbed));\n",
       "    }\n",
       "  })({\"config\": {\"view\": {\"continuousWidth\": 400, \"continuousHeight\": 300}}, \"data\": {\"name\": \"data-09d6032ccd0e33bc3f8cc60efb6c02fa\"}, \"mark\": \"rect\", \"encoding\": {\"color\": {\"type\": \"quantitative\", \"bin\": {\"extent\": [93, 1161], \"step\": 100}, \"field\": \"counts\", \"legend\": {\"title\": \"Total Records\"}, \"scale\": {\"scheme\": \"yellowgreenblue\"}}, \"x\": {\"type\": \"ordinal\", \"axis\": {\"labelAngle\": 0, \"tickCount\": 30}, \"field\": \"dayofyear\", \"title\": \"Day of Year\"}, \"y\": {\"type\": \"ordinal\", \"axis\": {\"labelAngle\": 0}, \"field\": \"year\", \"title\": \"Year\"}}, \"width\": 800, \"$schema\": \"https://vega.github.io/schema/vega-lite/v4.8.1.json\", \"datasets\": {\"data-09d6032ccd0e33bc3f8cc60efb6c02fa\": [{\"year\": 2012, \"dayofyear\": 183, \"counts\": 538}, {\"year\": 2012, \"dayofyear\": 184, \"counts\": 564}, {\"year\": 2012, \"dayofyear\": 185, \"counts\": 664}, {\"year\": 2012, \"dayofyear\": 186, \"counts\": 432}, {\"year\": 2012, \"dayofyear\": 187, \"counts\": 591}, {\"year\": 2012, \"dayofyear\": 188, \"counts\": 638}, {\"year\": 2012, \"dayofyear\": 189, \"counts\": 490}, {\"year\": 2012, \"dayofyear\": 190, \"counts\": 464}, {\"year\": 2012, \"dayofyear\": 191, \"counts\": 533}, {\"year\": 2012, \"dayofyear\": 192, \"counts\": 524}, {\"year\": 2012, \"dayofyear\": 193, \"counts\": 565}, {\"year\": 2012, \"dayofyear\": 194, \"counts\": 577}, {\"year\": 2012, \"dayofyear\": 195, \"counts\": 603}, {\"year\": 2012, \"dayofyear\": 196, \"counts\": 536}, {\"year\": 2012, \"dayofyear\": 197, \"counts\": 494}, {\"year\": 2012, \"dayofyear\": 198, \"counts\": 528}, {\"year\": 2012, \"dayofyear\": 199, \"counts\": 648}, {\"year\": 2012, \"dayofyear\": 200, \"counts\": 559}, {\"year\": 2012, \"dayofyear\": 201, \"counts\": 522}, {\"year\": 2012, \"dayofyear\": 202, \"counts\": 604}, {\"year\": 2012, \"dayofyear\": 203, \"counts\": 528}, {\"year\": 2012, \"dayofyear\": 204, \"counts\": 498}, {\"year\": 2012, \"dayofyear\": 205, \"counts\": 505}, {\"year\": 2012, \"dayofyear\": 206, \"counts\": 574}, {\"year\": 2012, \"dayofyear\": 207, \"counts\": 612}, {\"year\": 2012, \"dayofyear\": 208, \"counts\": 604}, {\"year\": 2012, \"dayofyear\": 209, \"counts\": 637}, {\"year\": 2012, \"dayofyear\": 210, \"counts\": 513}, {\"year\": 2012, \"dayofyear\": 211, \"counts\": 376}, {\"year\": 2012, \"dayofyear\": 212, \"counts\": 530}, {\"year\": 2012, \"dayofyear\": 213, \"counts\": 540}, {\"year\": 2012, \"dayofyear\": 214, \"counts\": 615}, {\"year\": 2012, \"dayofyear\": 215, \"counts\": 570}, {\"year\": 2012, \"dayofyear\": 216, \"counts\": 589}, {\"year\": 2012, \"dayofyear\": 217, \"counts\": 568}, {\"year\": 2012, \"dayofyear\": 218, \"counts\": 518}, {\"year\": 2012, \"dayofyear\": 219, \"counts\": 593}, {\"year\": 2012, \"dayofyear\": 220, \"counts\": 547}, {\"year\": 2012, \"dayofyear\": 221, \"counts\": 528}, {\"year\": 2012, \"dayofyear\": 222, \"counts\": 581}, {\"year\": 2012, \"dayofyear\": 223, \"counts\": 617}, {\"year\": 2012, \"dayofyear\": 224, \"counts\": 507}, {\"year\": 2012, \"dayofyear\": 225, \"counts\": 505}, {\"year\": 2012, \"dayofyear\": 226, \"counts\": 504}, {\"year\": 2012, \"dayofyear\": 227, \"counts\": 520}, {\"year\": 2012, \"dayofyear\": 228, \"counts\": 602}, {\"year\": 2012, \"dayofyear\": 229, \"counts\": 613}, {\"year\": 2012, \"dayofyear\": 230, \"counts\": 574}, {\"year\": 2012, \"dayofyear\": 231, \"counts\": 540}, {\"year\": 2012, \"dayofyear\": 232, \"counts\": 467}, {\"year\": 2012, \"dayofyear\": 233, \"counts\": 473}, {\"year\": 2012, \"dayofyear\": 234, \"counts\": 482}, {\"year\": 2012, \"dayofyear\": 235, \"counts\": 504}, {\"year\": 2012, \"dayofyear\": 236, \"counts\": 574}, {\"year\": 2012, \"dayofyear\": 237, \"counts\": 601}, {\"year\": 2012, \"dayofyear\": 238, \"counts\": 474}, {\"year\": 2012, \"dayofyear\": 239, \"counts\": 471}, {\"year\": 2012, \"dayofyear\": 240, \"counts\": 548}, {\"year\": 2012, \"dayofyear\": 241, \"counts\": 587}, {\"year\": 2012, \"dayofyear\": 242, \"counts\": 550}, {\"year\": 2012, \"dayofyear\": 243, \"counts\": 618}, {\"year\": 2012, \"dayofyear\": 244, \"counts\": 701}, {\"year\": 2012, \"dayofyear\": 245, \"counts\": 515}, {\"year\": 2012, \"dayofyear\": 246, \"counts\": 421}, {\"year\": 2012, \"dayofyear\": 247, \"counts\": 373}, {\"year\": 2012, \"dayofyear\": 248, \"counts\": 606}, {\"year\": 2012, \"dayofyear\": 249, \"counts\": 601}, {\"year\": 2012, \"dayofyear\": 250, \"counts\": 572}, {\"year\": 2012, \"dayofyear\": 251, \"counts\": 680}, {\"year\": 2012, \"dayofyear\": 252, \"counts\": 598}, {\"year\": 2012, \"dayofyear\": 253, \"counts\": 464}, {\"year\": 2012, \"dayofyear\": 254, \"counts\": 637}, {\"year\": 2012, \"dayofyear\": 255, \"counts\": 521}, {\"year\": 2012, \"dayofyear\": 256, \"counts\": 651}, {\"year\": 2012, \"dayofyear\": 257, \"counts\": 632}, {\"year\": 2012, \"dayofyear\": 258, \"counts\": 609}, {\"year\": 2012, \"dayofyear\": 259, \"counts\": 557}, {\"year\": 2012, \"dayofyear\": 260, \"counts\": 458}, {\"year\": 2012, \"dayofyear\": 261, \"counts\": 452}, {\"year\": 2012, \"dayofyear\": 262, \"counts\": 556}, {\"year\": 2012, \"dayofyear\": 263, \"counts\": 612}, {\"year\": 2012, \"dayofyear\": 264, \"counts\": 522}, {\"year\": 2012, \"dayofyear\": 265, \"counts\": 654}, {\"year\": 2012, \"dayofyear\": 266, \"counts\": 547}, {\"year\": 2012, \"dayofyear\": 267, \"counts\": 480}, {\"year\": 2012, \"dayofyear\": 268, \"counts\": 562}, {\"year\": 2012, \"dayofyear\": 269, \"counts\": 593}, {\"year\": 2012, \"dayofyear\": 270, \"counts\": 404}, {\"year\": 2012, \"dayofyear\": 271, \"counts\": 620}, {\"year\": 2012, \"dayofyear\": 272, \"counts\": 703}, {\"year\": 2012, \"dayofyear\": 273, \"counts\": 485}, {\"year\": 2012, \"dayofyear\": 274, \"counts\": 449}, {\"year\": 2012, \"dayofyear\": 275, \"counts\": 555}, {\"year\": 2012, \"dayofyear\": 276, \"counts\": 593}, {\"year\": 2012, \"dayofyear\": 277, \"counts\": 502}, {\"year\": 2012, \"dayofyear\": 278, \"counts\": 554}, {\"year\": 2012, \"dayofyear\": 279, \"counts\": 693}, {\"year\": 2012, \"dayofyear\": 280, \"counts\": 500}, {\"year\": 2012, \"dayofyear\": 281, \"counts\": 481}, {\"year\": 2012, \"dayofyear\": 282, \"counts\": 376}, {\"year\": 2012, \"dayofyear\": 283, \"counts\": 570}, {\"year\": 2012, \"dayofyear\": 284, \"counts\": 640}, {\"year\": 2012, \"dayofyear\": 285, \"counts\": 657}, {\"year\": 2012, \"dayofyear\": 286, \"counts\": 594}, {\"year\": 2012, \"dayofyear\": 287, \"counts\": 547}, {\"year\": 2012, \"dayofyear\": 288, \"counts\": 517}, {\"year\": 2012, \"dayofyear\": 289, \"counts\": 607}, {\"year\": 2012, \"dayofyear\": 290, \"counts\": 602}, {\"year\": 2012, \"dayofyear\": 291, \"counts\": 615}, {\"year\": 2012, \"dayofyear\": 292, \"counts\": 630}, {\"year\": 2012, \"dayofyear\": 293, \"counts\": 738}, {\"year\": 2012, \"dayofyear\": 294, \"counts\": 587}, {\"year\": 2012, \"dayofyear\": 295, \"counts\": 426}, {\"year\": 2012, \"dayofyear\": 296, \"counts\": 608}, {\"year\": 2012, \"dayofyear\": 297, \"counts\": 522}, {\"year\": 2012, \"dayofyear\": 298, \"counts\": 494}, {\"year\": 2012, \"dayofyear\": 299, \"counts\": 511}, {\"year\": 2012, \"dayofyear\": 300, \"counts\": 598}, {\"year\": 2012, \"dayofyear\": 301, \"counts\": 524}, {\"year\": 2012, \"dayofyear\": 302, \"counts\": 403}, {\"year\": 2012, \"dayofyear\": 303, \"counts\": 298}, {\"year\": 2012, \"dayofyear\": 304, \"counts\": 372}, {\"year\": 2012, \"dayofyear\": 305, \"counts\": 549}, {\"year\": 2012, \"dayofyear\": 306, \"counts\": 439}, {\"year\": 2012, \"dayofyear\": 307, \"counts\": 345}, {\"year\": 2012, \"dayofyear\": 308, \"counts\": 307}, {\"year\": 2012, \"dayofyear\": 309, \"counts\": 344}, {\"year\": 2012, \"dayofyear\": 310, \"counts\": 479}, {\"year\": 2012, \"dayofyear\": 311, \"counts\": 514}, {\"year\": 2012, \"dayofyear\": 312, \"counts\": 718}, {\"year\": 2012, \"dayofyear\": 313, \"counts\": 550}, {\"year\": 2012, \"dayofyear\": 314, \"counts\": 688}, {\"year\": 2012, \"dayofyear\": 315, \"counts\": 444}, {\"year\": 2012, \"dayofyear\": 316, \"counts\": 526}, {\"year\": 2012, \"dayofyear\": 317, \"counts\": 547}, {\"year\": 2012, \"dayofyear\": 318, \"counts\": 648}, {\"year\": 2012, \"dayofyear\": 319, \"counts\": 625}, {\"year\": 2012, \"dayofyear\": 320, \"counts\": 623}, {\"year\": 2012, \"dayofyear\": 321, \"counts\": 672}, {\"year\": 2012, \"dayofyear\": 322, \"counts\": 542}, {\"year\": 2012, \"dayofyear\": 323, \"counts\": 446}, {\"year\": 2012, \"dayofyear\": 324, \"counts\": 585}, {\"year\": 2012, \"dayofyear\": 325, \"counts\": 671}, {\"year\": 2012, \"dayofyear\": 326, \"counts\": 689}, {\"year\": 2012, \"dayofyear\": 327, \"counts\": 384}, {\"year\": 2012, \"dayofyear\": 328, \"counts\": 481}, {\"year\": 2012, \"dayofyear\": 329, \"counts\": 458}, {\"year\": 2012, \"dayofyear\": 330, \"counts\": 415}, {\"year\": 2012, \"dayofyear\": 331, \"counts\": 563}, {\"year\": 2012, \"dayofyear\": 332, \"counts\": 583}, {\"year\": 2012, \"dayofyear\": 333, \"counts\": 512}, {\"year\": 2012, \"dayofyear\": 334, \"counts\": 515}, {\"year\": 2012, \"dayofyear\": 335, \"counts\": 576}, {\"year\": 2012, \"dayofyear\": 336, \"counts\": 480}, {\"year\": 2012, \"dayofyear\": 337, \"counts\": 455}, {\"year\": 2012, \"dayofyear\": 338, \"counts\": 621}, {\"year\": 2012, \"dayofyear\": 339, \"counts\": 621}, {\"year\": 2012, \"dayofyear\": 340, \"counts\": 514}, {\"year\": 2012, \"dayofyear\": 341, \"counts\": 620}, {\"year\": 2012, \"dayofyear\": 342, \"counts\": 714}, {\"year\": 2012, \"dayofyear\": 343, \"counts\": 580}, {\"year\": 2012, \"dayofyear\": 344, \"counts\": 544}, {\"year\": 2012, \"dayofyear\": 345, \"counts\": 619}, {\"year\": 2012, \"dayofyear\": 346, \"counts\": 578}, {\"year\": 2012, \"dayofyear\": 347, \"counts\": 550}, {\"year\": 2012, \"dayofyear\": 348, \"counts\": 545}, {\"year\": 2012, \"dayofyear\": 349, \"counts\": 648}, {\"year\": 2012, \"dayofyear\": 350, \"counts\": 523}, {\"year\": 2012, \"dayofyear\": 351, \"counts\": 500}, {\"year\": 2012, \"dayofyear\": 352, \"counts\": 649}, {\"year\": 2012, \"dayofyear\": 353, \"counts\": 645}, {\"year\": 2012, \"dayofyear\": 354, \"counts\": 590}, {\"year\": 2012, \"dayofyear\": 355, \"counts\": 606}, {\"year\": 2012, \"dayofyear\": 356, \"counts\": 751}, {\"year\": 2012, \"dayofyear\": 357, \"counts\": 542}, {\"year\": 2012, \"dayofyear\": 358, \"counts\": 408}, {\"year\": 2012, \"dayofyear\": 359, \"counts\": 518}, {\"year\": 2012, \"dayofyear\": 360, \"counts\": 354}, {\"year\": 2012, \"dayofyear\": 361, \"counts\": 531}, {\"year\": 2012, \"dayofyear\": 362, \"counts\": 525}, {\"year\": 2012, \"dayofyear\": 363, \"counts\": 557}, {\"year\": 2012, \"dayofyear\": 364, \"counts\": 442}, {\"year\": 2012, \"dayofyear\": 365, \"counts\": 411}, {\"year\": 2012, \"dayofyear\": 366, \"counts\": 482}, {\"year\": 2013, \"dayofyear\": 1, \"counts\": 381}, {\"year\": 2013, \"dayofyear\": 2, \"counts\": 480}, {\"year\": 2013, \"dayofyear\": 3, \"counts\": 549}, {\"year\": 2013, \"dayofyear\": 4, \"counts\": 505}, {\"year\": 2013, \"dayofyear\": 5, \"counts\": 389}, {\"year\": 2013, \"dayofyear\": 6, \"counts\": 393}, {\"year\": 2013, \"dayofyear\": 7, \"counts\": 521}, {\"year\": 2013, \"dayofyear\": 8, \"counts\": 513}, {\"year\": 2013, \"dayofyear\": 9, \"counts\": 487}, {\"year\": 2013, \"dayofyear\": 10, \"counts\": 555}, {\"year\": 2013, \"dayofyear\": 11, \"counts\": 660}, {\"year\": 2013, \"dayofyear\": 12, \"counts\": 475}, {\"year\": 2013, \"dayofyear\": 13, \"counts\": 373}, {\"year\": 2013, \"dayofyear\": 14, \"counts\": 542}, {\"year\": 2013, \"dayofyear\": 15, \"counts\": 516}, {\"year\": 2013, \"dayofyear\": 16, \"counts\": 578}, {\"year\": 2013, \"dayofyear\": 17, \"counts\": 491}, {\"year\": 2013, \"dayofyear\": 18, \"counts\": 561}, {\"year\": 2013, \"dayofyear\": 19, \"counts\": 484}, {\"year\": 2013, \"dayofyear\": 20, \"counts\": 393}, {\"year\": 2013, \"dayofyear\": 21, \"counts\": 355}, {\"year\": 2013, \"dayofyear\": 22, \"counts\": 544}, {\"year\": 2013, \"dayofyear\": 23, \"counts\": 545}, {\"year\": 2013, \"dayofyear\": 24, \"counts\": 554}, {\"year\": 2013, \"dayofyear\": 25, \"counts\": 674}, {\"year\": 2013, \"dayofyear\": 26, \"counts\": 558}, {\"year\": 2013, \"dayofyear\": 27, \"counts\": 429}, {\"year\": 2013, \"dayofyear\": 28, \"counts\": 507}, {\"year\": 2013, \"dayofyear\": 29, \"counts\": 542}, {\"year\": 2013, \"dayofyear\": 30, \"counts\": 497}, {\"year\": 2013, \"dayofyear\": 31, \"counts\": 592}, {\"year\": 2013, \"dayofyear\": 32, \"counts\": 574}, {\"year\": 2013, \"dayofyear\": 33, \"counts\": 534}, {\"year\": 2013, \"dayofyear\": 34, \"counts\": 445}, {\"year\": 2013, \"dayofyear\": 35, \"counts\": 553}, {\"year\": 2013, \"dayofyear\": 36, \"counts\": 566}, {\"year\": 2013, \"dayofyear\": 37, \"counts\": 566}, {\"year\": 2013, \"dayofyear\": 38, \"counts\": 526}, {\"year\": 2013, \"dayofyear\": 39, \"counts\": 703}, {\"year\": 2013, \"dayofyear\": 40, \"counts\": 403}, {\"year\": 2013, \"dayofyear\": 41, \"counts\": 400}, {\"year\": 2013, \"dayofyear\": 42, \"counts\": 475}, {\"year\": 2013, \"dayofyear\": 43, \"counts\": 498}, {\"year\": 2013, \"dayofyear\": 44, \"counts\": 570}, {\"year\": 2013, \"dayofyear\": 45, \"counts\": 631}, {\"year\": 2013, \"dayofyear\": 46, \"counts\": 604}, {\"year\": 2013, \"dayofyear\": 47, \"counts\": 449}, {\"year\": 2013, \"dayofyear\": 48, \"counts\": 447}, {\"year\": 2013, \"dayofyear\": 49, \"counts\": 398}, {\"year\": 2013, \"dayofyear\": 50, \"counts\": 477}, {\"year\": 2013, \"dayofyear\": 51, \"counts\": 510}, {\"year\": 2013, \"dayofyear\": 52, \"counts\": 498}, {\"year\": 2013, \"dayofyear\": 53, \"counts\": 531}, {\"year\": 2013, \"dayofyear\": 54, \"counts\": 521}, {\"year\": 2013, \"dayofyear\": 55, \"counts\": 426}, {\"year\": 2013, \"dayofyear\": 56, \"counts\": 490}, {\"year\": 2013, \"dayofyear\": 57, \"counts\": 537}, {\"year\": 2013, \"dayofyear\": 58, \"counts\": 550}, {\"year\": 2013, \"dayofyear\": 59, \"counts\": 517}, {\"year\": 2013, \"dayofyear\": 60, \"counts\": 603}, {\"year\": 2013, \"dayofyear\": 61, \"counts\": 474}, {\"year\": 2013, \"dayofyear\": 62, \"counts\": 502}, {\"year\": 2013, \"dayofyear\": 63, \"counts\": 597}, {\"year\": 2013, \"dayofyear\": 64, \"counts\": 527}, {\"year\": 2013, \"dayofyear\": 65, \"counts\": 475}, {\"year\": 2013, \"dayofyear\": 66, \"counts\": 535}, {\"year\": 2013, \"dayofyear\": 67, \"counts\": 851}, {\"year\": 2013, \"dayofyear\": 68, \"counts\": 569}, {\"year\": 2013, \"dayofyear\": 69, \"counts\": 415}, {\"year\": 2013, \"dayofyear\": 70, \"counts\": 522}, {\"year\": 2013, \"dayofyear\": 71, \"counts\": 547}, {\"year\": 2013, \"dayofyear\": 72, \"counts\": 636}, {\"year\": 2013, \"dayofyear\": 73, \"counts\": 557}, {\"year\": 2013, \"dayofyear\": 74, \"counts\": 607}, {\"year\": 2013, \"dayofyear\": 75, \"counts\": 521}, {\"year\": 2013, \"dayofyear\": 76, \"counts\": 426}, {\"year\": 2013, \"dayofyear\": 77, \"counts\": 623}, {\"year\": 2013, \"dayofyear\": 78, \"counts\": 559}, {\"year\": 2013, \"dayofyear\": 79, \"counts\": 540}, {\"year\": 2013, \"dayofyear\": 80, \"counts\": 508}, {\"year\": 2013, \"dayofyear\": 81, \"counts\": 604}, {\"year\": 2013, \"dayofyear\": 82, \"counts\": 488}, {\"year\": 2013, \"dayofyear\": 83, \"counts\": 451}, {\"year\": 2013, \"dayofyear\": 84, \"counts\": 498}, {\"year\": 2013, \"dayofyear\": 85, \"counts\": 425}, {\"year\": 2013, \"dayofyear\": 86, \"counts\": 441}, {\"year\": 2013, \"dayofyear\": 87, \"counts\": 549}, {\"year\": 2013, \"dayofyear\": 88, \"counts\": 520}, {\"year\": 2013, \"dayofyear\": 89, \"counts\": 513}, {\"year\": 2013, \"dayofyear\": 90, \"counts\": 426}, {\"year\": 2013, \"dayofyear\": 91, \"counts\": 479}, {\"year\": 2013, \"dayofyear\": 92, \"counts\": 437}, {\"year\": 2013, \"dayofyear\": 93, \"counts\": 532}, {\"year\": 2013, \"dayofyear\": 94, \"counts\": 566}, {\"year\": 2013, \"dayofyear\": 95, \"counts\": 582}, {\"year\": 2013, \"dayofyear\": 96, \"counts\": 531}, {\"year\": 2013, \"dayofyear\": 97, \"counts\": 451}, {\"year\": 2013, \"dayofyear\": 98, \"counts\": 582}, {\"year\": 2013, \"dayofyear\": 99, \"counts\": 613}, {\"year\": 2013, \"dayofyear\": 100, \"counts\": 580}, {\"year\": 2013, \"dayofyear\": 101, \"counts\": 517}, {\"year\": 2013, \"dayofyear\": 102, \"counts\": 649}, {\"year\": 2013, \"dayofyear\": 103, \"counts\": 555}, {\"year\": 2013, \"dayofyear\": 104, \"counts\": 472}, {\"year\": 2013, \"dayofyear\": 105, \"counts\": 603}, {\"year\": 2013, \"dayofyear\": 106, \"counts\": 564}, {\"year\": 2013, \"dayofyear\": 107, \"counts\": 535}, {\"year\": 2013, \"dayofyear\": 108, \"counts\": 553}, {\"year\": 2013, \"dayofyear\": 109, \"counts\": 570}, {\"year\": 2013, \"dayofyear\": 110, \"counts\": 532}, {\"year\": 2013, \"dayofyear\": 111, \"counts\": 471}, {\"year\": 2013, \"dayofyear\": 112, \"counts\": 565}, {\"year\": 2013, \"dayofyear\": 113, \"counts\": 513}, {\"year\": 2013, \"dayofyear\": 114, \"counts\": 598}, {\"year\": 2013, \"dayofyear\": 115, \"counts\": 583}, {\"year\": 2013, \"dayofyear\": 116, \"counts\": 675}, {\"year\": 2013, \"dayofyear\": 117, \"counts\": 517}, {\"year\": 2013, \"dayofyear\": 118, \"counts\": 440}, {\"year\": 2013, \"dayofyear\": 119, \"counts\": 598}, {\"year\": 2013, \"dayofyear\": 120, \"counts\": 576}, {\"year\": 2013, \"dayofyear\": 121, \"counts\": 576}, {\"year\": 2013, \"dayofyear\": 122, \"counts\": 585}, {\"year\": 2013, \"dayofyear\": 123, \"counts\": 686}, {\"year\": 2013, \"dayofyear\": 124, \"counts\": 580}, {\"year\": 2013, \"dayofyear\": 125, \"counts\": 515}, {\"year\": 2013, \"dayofyear\": 126, \"counts\": 561}, {\"year\": 2013, \"dayofyear\": 127, \"counts\": 592}, {\"year\": 2013, \"dayofyear\": 128, \"counts\": 620}, {\"year\": 2013, \"dayofyear\": 129, \"counts\": 602}, {\"year\": 2013, \"dayofyear\": 130, \"counts\": 698}, {\"year\": 2013, \"dayofyear\": 131, \"counts\": 523}, {\"year\": 2013, \"dayofyear\": 132, \"counts\": 527}, {\"year\": 2013, \"dayofyear\": 133, \"counts\": 577}, {\"year\": 2013, \"dayofyear\": 134, \"counts\": 565}, {\"year\": 2013, \"dayofyear\": 135, \"counts\": 532}, {\"year\": 2013, \"dayofyear\": 136, \"counts\": 559}, {\"year\": 2013, \"dayofyear\": 137, \"counts\": 741}, {\"year\": 2013, \"dayofyear\": 138, \"counts\": 506}, {\"year\": 2013, \"dayofyear\": 139, \"counts\": 544}, {\"year\": 2013, \"dayofyear\": 140, \"counts\": 657}, {\"year\": 2013, \"dayofyear\": 141, \"counts\": 697}, {\"year\": 2013, \"dayofyear\": 142, \"counts\": 570}, {\"year\": 2013, \"dayofyear\": 143, \"counts\": 735}, {\"year\": 2013, \"dayofyear\": 144, \"counts\": 668}, {\"year\": 2013, \"dayofyear\": 145, \"counts\": 514}, {\"year\": 2013, \"dayofyear\": 146, \"counts\": 455}, {\"year\": 2013, \"dayofyear\": 147, \"counts\": 420}, {\"year\": 2013, \"dayofyear\": 148, \"counts\": 686}, {\"year\": 2013, \"dayofyear\": 149, \"counts\": 574}, {\"year\": 2013, \"dayofyear\": 150, \"counts\": 685}, {\"year\": 2013, \"dayofyear\": 151, \"counts\": 736}, {\"year\": 2013, \"dayofyear\": 152, \"counts\": 631}, {\"year\": 2013, \"dayofyear\": 153, \"counts\": 487}, {\"year\": 2013, \"dayofyear\": 154, \"counts\": 707}, {\"year\": 2013, \"dayofyear\": 155, \"counts\": 613}, {\"year\": 2013, \"dayofyear\": 156, \"counts\": 599}, {\"year\": 2013, \"dayofyear\": 157, \"counts\": 605}, {\"year\": 2013, \"dayofyear\": 158, \"counts\": 791}, {\"year\": 2013, \"dayofyear\": 159, \"counts\": 571}, {\"year\": 2013, \"dayofyear\": 160, \"counts\": 533}, {\"year\": 2013, \"dayofyear\": 161, \"counts\": 624}, {\"year\": 2013, \"dayofyear\": 162, \"counts\": 635}, {\"year\": 2013, \"dayofyear\": 163, \"counts\": 615}, {\"year\": 2013, \"dayofyear\": 164, \"counts\": 534}, {\"year\": 2013, \"dayofyear\": 165, \"counts\": 693}, {\"year\": 2013, \"dayofyear\": 166, \"counts\": 596}, {\"year\": 2013, \"dayofyear\": 167, \"counts\": 477}, {\"year\": 2013, \"dayofyear\": 168, \"counts\": 614}, {\"year\": 2013, \"dayofyear\": 169, \"counts\": 613}, {\"year\": 2013, \"dayofyear\": 170, \"counts\": 622}, {\"year\": 2013, \"dayofyear\": 171, \"counts\": 681}, {\"year\": 2013, \"dayofyear\": 172, \"counts\": 690}, {\"year\": 2013, \"dayofyear\": 173, \"counts\": 599}, {\"year\": 2013, \"dayofyear\": 174, \"counts\": 505}, {\"year\": 2013, \"dayofyear\": 175, \"counts\": 680}, {\"year\": 2013, \"dayofyear\": 176, \"counts\": 648}, {\"year\": 2013, \"dayofyear\": 177, \"counts\": 621}, {\"year\": 2013, \"dayofyear\": 178, \"counts\": 598}, {\"year\": 2013, \"dayofyear\": 179, \"counts\": 608}, {\"year\": 2013, \"dayofyear\": 180, \"counts\": 591}, {\"year\": 2013, \"dayofyear\": 181, \"counts\": 423}, {\"year\": 2013, \"dayofyear\": 182, \"counts\": 633}, {\"year\": 2013, \"dayofyear\": 183, \"counts\": 601}, {\"year\": 2013, \"dayofyear\": 184, \"counts\": 635}, {\"year\": 2013, \"dayofyear\": 185, \"counts\": 438}, {\"year\": 2013, \"dayofyear\": 186, \"counts\": 576}, {\"year\": 2013, \"dayofyear\": 187, \"counts\": 517}, {\"year\": 2013, \"dayofyear\": 188, \"counts\": 475}, {\"year\": 2013, \"dayofyear\": 189, \"counts\": 617}, {\"year\": 2013, \"dayofyear\": 190, \"counts\": 583}, {\"year\": 2013, \"dayofyear\": 191, \"counts\": 614}, {\"year\": 2013, \"dayofyear\": 192, \"counts\": 550}, {\"year\": 2013, \"dayofyear\": 193, \"counts\": 599}, {\"year\": 2013, \"dayofyear\": 194, \"counts\": 575}, {\"year\": 2013, \"dayofyear\": 195, \"counts\": 471}, {\"year\": 2013, \"dayofyear\": 196, \"counts\": 581}, {\"year\": 2013, \"dayofyear\": 197, \"counts\": 582}, {\"year\": 2013, \"dayofyear\": 198, \"counts\": 609}, {\"year\": 2013, \"dayofyear\": 199, \"counts\": 636}, {\"year\": 2013, \"dayofyear\": 200, \"counts\": 697}, {\"year\": 2013, \"dayofyear\": 201, \"counts\": 551}, {\"year\": 2013, \"dayofyear\": 202, \"counts\": 447}, {\"year\": 2013, \"dayofyear\": 203, \"counts\": 591}, {\"year\": 2013, \"dayofyear\": 204, \"counts\": 571}, {\"year\": 2013, \"dayofyear\": 205, \"counts\": 571}, {\"year\": 2013, \"dayofyear\": 206, \"counts\": 507}, {\"year\": 2013, \"dayofyear\": 207, \"counts\": 617}, {\"year\": 2013, \"dayofyear\": 208, \"counts\": 516}, {\"year\": 2013, \"dayofyear\": 209, \"counts\": 485}, {\"year\": 2013, \"dayofyear\": 210, \"counts\": 597}, {\"year\": 2013, \"dayofyear\": 211, \"counts\": 584}, {\"year\": 2013, \"dayofyear\": 212, \"counts\": 553}, {\"year\": 2013, \"dayofyear\": 213, \"counts\": 643}, {\"year\": 2013, \"dayofyear\": 214, \"counts\": 626}, {\"year\": 2013, \"dayofyear\": 215, \"counts\": 492}, {\"year\": 2013, \"dayofyear\": 216, \"counts\": 454}, {\"year\": 2013, \"dayofyear\": 217, \"counts\": 545}, {\"year\": 2013, \"dayofyear\": 218, \"counts\": 543}, {\"year\": 2013, \"dayofyear\": 219, \"counts\": 508}, {\"year\": 2013, \"dayofyear\": 220, \"counts\": 549}, {\"year\": 2013, \"dayofyear\": 221, \"counts\": 579}, {\"year\": 2013, \"dayofyear\": 222, \"counts\": 495}, {\"year\": 2013, \"dayofyear\": 223, \"counts\": 481}, {\"year\": 2013, \"dayofyear\": 224, \"counts\": 519}, {\"year\": 2013, \"dayofyear\": 225, \"counts\": 552}, {\"year\": 2013, \"dayofyear\": 226, \"counts\": 622}, {\"year\": 2013, \"dayofyear\": 227, \"counts\": 599}, {\"year\": 2013, \"dayofyear\": 228, \"counts\": 678}, {\"year\": 2013, \"dayofyear\": 229, \"counts\": 504}, {\"year\": 2013, \"dayofyear\": 230, \"counts\": 442}, {\"year\": 2013, \"dayofyear\": 231, \"counts\": 462}, {\"year\": 2013, \"dayofyear\": 232, \"counts\": 542}, {\"year\": 2013, \"dayofyear\": 233, \"counts\": 562}, {\"year\": 2013, \"dayofyear\": 234, \"counts\": 578}, {\"year\": 2013, \"dayofyear\": 235, \"counts\": 636}, {\"year\": 2013, \"dayofyear\": 236, \"counts\": 527}, {\"year\": 2013, \"dayofyear\": 237, \"counts\": 459}, {\"year\": 2013, \"dayofyear\": 238, \"counts\": 521}, {\"year\": 2013, \"dayofyear\": 239, \"counts\": 506}, {\"year\": 2013, \"dayofyear\": 240, \"counts\": 482}, {\"year\": 2013, \"dayofyear\": 241, \"counts\": 572}, {\"year\": 2013, \"dayofyear\": 242, \"counts\": 599}, {\"year\": 2013, \"dayofyear\": 243, \"counts\": 480}, {\"year\": 2013, \"dayofyear\": 244, \"counts\": 480}, {\"year\": 2013, \"dayofyear\": 245, \"counts\": 431}, {\"year\": 2013, \"dayofyear\": 246, \"counts\": 551}, {\"year\": 2013, \"dayofyear\": 247, \"counts\": 604}, {\"year\": 2013, \"dayofyear\": 248, \"counts\": 493}, {\"year\": 2013, \"dayofyear\": 249, \"counts\": 524}, {\"year\": 2013, \"dayofyear\": 250, \"counts\": 585}, {\"year\": 2013, \"dayofyear\": 251, \"counts\": 500}, {\"year\": 2013, \"dayofyear\": 252, \"counts\": 632}, {\"year\": 2013, \"dayofyear\": 253, \"counts\": 629}, {\"year\": 2013, \"dayofyear\": 254, \"counts\": 576}, {\"year\": 2013, \"dayofyear\": 255, \"counts\": 695}, {\"year\": 2013, \"dayofyear\": 256, \"counts\": 652}, {\"year\": 2013, \"dayofyear\": 257, \"counts\": 519}, {\"year\": 2013, \"dayofyear\": 258, \"counts\": 476}, {\"year\": 2013, \"dayofyear\": 259, \"counts\": 570}, {\"year\": 2013, \"dayofyear\": 260, \"counts\": 627}, {\"year\": 2013, \"dayofyear\": 261, \"counts\": 571}, {\"year\": 2013, \"dayofyear\": 262, \"counts\": 536}, {\"year\": 2013, \"dayofyear\": 263, \"counts\": 631}, {\"year\": 2013, \"dayofyear\": 264, \"counts\": 546}, {\"year\": 2013, \"dayofyear\": 265, \"counts\": 585}, {\"year\": 2013, \"dayofyear\": 266, \"counts\": 661}, {\"year\": 2013, \"dayofyear\": 267, \"counts\": 615}, {\"year\": 2013, \"dayofyear\": 268, \"counts\": 539}, {\"year\": 2013, \"dayofyear\": 269, \"counts\": 516}, {\"year\": 2013, \"dayofyear\": 270, \"counts\": 553}, {\"year\": 2013, \"dayofyear\": 271, \"counts\": 547}, {\"year\": 2013, \"dayofyear\": 272, \"counts\": 506}, {\"year\": 2013, \"dayofyear\": 273, \"counts\": 605}, {\"year\": 2013, \"dayofyear\": 274, \"counts\": 616}, {\"year\": 2013, \"dayofyear\": 275, \"counts\": 647}, {\"year\": 2013, \"dayofyear\": 276, \"counts\": 590}, {\"year\": 2013, \"dayofyear\": 277, \"counts\": 658}, {\"year\": 2013, \"dayofyear\": 278, \"counts\": 497}, {\"year\": 2013, \"dayofyear\": 279, \"counts\": 404}, {\"year\": 2013, \"dayofyear\": 280, \"counts\": 618}, {\"year\": 2013, \"dayofyear\": 281, \"counts\": 574}, {\"year\": 2013, \"dayofyear\": 282, \"counts\": 529}, {\"year\": 2013, \"dayofyear\": 283, \"counts\": 559}, {\"year\": 2013, \"dayofyear\": 284, \"counts\": 621}, {\"year\": 2013, \"dayofyear\": 285, \"counts\": 556}, {\"year\": 2013, \"dayofyear\": 286, \"counts\": 502}, {\"year\": 2013, \"dayofyear\": 287, \"counts\": 440}, {\"year\": 2013, \"dayofyear\": 288, \"counts\": 615}, {\"year\": 2013, \"dayofyear\": 289, \"counts\": 548}, {\"year\": 2013, \"dayofyear\": 290, \"counts\": 574}, {\"year\": 2013, \"dayofyear\": 291, \"counts\": 680}, {\"year\": 2013, \"dayofyear\": 292, \"counts\": 471}, {\"year\": 2013, \"dayofyear\": 293, \"counts\": 490}, {\"year\": 2013, \"dayofyear\": 294, \"counts\": 616}, {\"year\": 2013, \"dayofyear\": 295, \"counts\": 540}, {\"year\": 2013, \"dayofyear\": 296, \"counts\": 558}, {\"year\": 2013, \"dayofyear\": 297, \"counts\": 632}, {\"year\": 2013, \"dayofyear\": 298, \"counts\": 647}, {\"year\": 2013, \"dayofyear\": 299, \"counts\": 626}, {\"year\": 2013, \"dayofyear\": 300, \"counts\": 512}, {\"year\": 2013, \"dayofyear\": 301, \"counts\": 620}, {\"year\": 2013, \"dayofyear\": 302, \"counts\": 600}, {\"year\": 2013, \"dayofyear\": 303, \"counts\": 558}, {\"year\": 2013, \"dayofyear\": 304, \"counts\": 615}, {\"year\": 2013, \"dayofyear\": 305, \"counts\": 710}, {\"year\": 2013, \"dayofyear\": 306, \"counts\": 551}, {\"year\": 2013, \"dayofyear\": 307, \"counts\": 415}, {\"year\": 2013, \"dayofyear\": 308, \"counts\": 658}, {\"year\": 2013, \"dayofyear\": 309, \"counts\": 510}, {\"year\": 2013, \"dayofyear\": 310, \"counts\": 635}, {\"year\": 2013, \"dayofyear\": 311, \"counts\": 646}, {\"year\": 2013, \"dayofyear\": 312, \"counts\": 682}, {\"year\": 2013, \"dayofyear\": 313, \"counts\": 571}, {\"year\": 2013, \"dayofyear\": 314, \"counts\": 474}, {\"year\": 2013, \"dayofyear\": 315, \"counts\": 456}, {\"year\": 2013, \"dayofyear\": 316, \"counts\": 647}, {\"year\": 2013, \"dayofyear\": 317, \"counts\": 593}, {\"year\": 2013, \"dayofyear\": 318, \"counts\": 620}, {\"year\": 2013, \"dayofyear\": 319, \"counts\": 617}, {\"year\": 2013, \"dayofyear\": 320, \"counts\": 612}, {\"year\": 2013, \"dayofyear\": 321, \"counts\": 532}, {\"year\": 2013, \"dayofyear\": 322, \"counts\": 611}, {\"year\": 2013, \"dayofyear\": 323, \"counts\": 600}, {\"year\": 2013, \"dayofyear\": 324, \"counts\": 607}, {\"year\": 2013, \"dayofyear\": 325, \"counts\": 628}, {\"year\": 2013, \"dayofyear\": 326, \"counts\": 702}, {\"year\": 2013, \"dayofyear\": 327, \"counts\": 536}, {\"year\": 2013, \"dayofyear\": 328, \"counts\": 494}, {\"year\": 2013, \"dayofyear\": 329, \"counts\": 710}, {\"year\": 2013, \"dayofyear\": 330, \"counts\": 867}, {\"year\": 2013, \"dayofyear\": 331, \"counts\": 742}, {\"year\": 2013, \"dayofyear\": 332, \"counts\": 429}, {\"year\": 2013, \"dayofyear\": 333, \"counts\": 437}, {\"year\": 2013, \"dayofyear\": 334, \"counts\": 479}, {\"year\": 2013, \"dayofyear\": 335, \"counts\": 420}, {\"year\": 2013, \"dayofyear\": 336, \"counts\": 549}, {\"year\": 2013, \"dayofyear\": 337, \"counts\": 553}, {\"year\": 2013, \"dayofyear\": 338, \"counts\": 520}, {\"year\": 2013, \"dayofyear\": 339, \"counts\": 573}, {\"year\": 2013, \"dayofyear\": 340, \"counts\": 759}, {\"year\": 2013, \"dayofyear\": 341, \"counts\": 567}, {\"year\": 2013, \"dayofyear\": 342, \"counts\": 456}, {\"year\": 2013, \"dayofyear\": 343, \"counts\": 639}, {\"year\": 2013, \"dayofyear\": 344, \"counts\": 539}, {\"year\": 2013, \"dayofyear\": 345, \"counts\": 605}, {\"year\": 2013, \"dayofyear\": 346, \"counts\": 648}, {\"year\": 2013, \"dayofyear\": 347, \"counts\": 695}, {\"year\": 2013, \"dayofyear\": 348, \"counts\": 690}, {\"year\": 2013, \"dayofyear\": 349, \"counts\": 450}, {\"year\": 2013, \"dayofyear\": 350, \"counts\": 640}, {\"year\": 2013, \"dayofyear\": 351, \"counts\": 703}, {\"year\": 2013, \"dayofyear\": 352, \"counts\": 701}, {\"year\": 2013, \"dayofyear\": 353, \"counts\": 607}, {\"year\": 2013, \"dayofyear\": 354, \"counts\": 674}, {\"year\": 2013, \"dayofyear\": 355, \"counts\": 594}, {\"year\": 2013, \"dayofyear\": 356, \"counts\": 505}, {\"year\": 2013, \"dayofyear\": 357, \"counts\": 707}, {\"year\": 2013, \"dayofyear\": 358, \"counts\": 515}, {\"year\": 2013, \"dayofyear\": 359, \"counts\": 257}, {\"year\": 2013, \"dayofyear\": 360, \"counts\": 428}, {\"year\": 2013, \"dayofyear\": 361, \"counts\": 476}, {\"year\": 2013, \"dayofyear\": 362, \"counts\": 475}, {\"year\": 2013, \"dayofyear\": 363, \"counts\": 394}, {\"year\": 2013, \"dayofyear\": 364, \"counts\": 476}, {\"year\": 2013, \"dayofyear\": 365, \"counts\": 465}, {\"year\": 2014, \"dayofyear\": 1, \"counts\": 399}, {\"year\": 2014, \"dayofyear\": 2, \"counts\": 603}, {\"year\": 2014, \"dayofyear\": 3, \"counts\": 423}, {\"year\": 2014, \"dayofyear\": 4, \"counts\": 418}, {\"year\": 2014, \"dayofyear\": 5, \"counts\": 320}, {\"year\": 2014, \"dayofyear\": 6, \"counts\": 518}, {\"year\": 2014, \"dayofyear\": 7, \"counts\": 491}, {\"year\": 2014, \"dayofyear\": 8, \"counts\": 616}, {\"year\": 2014, \"dayofyear\": 9, \"counts\": 561}, {\"year\": 2014, \"dayofyear\": 10, \"counts\": 667}, {\"year\": 2014, \"dayofyear\": 11, \"counts\": 465}, {\"year\": 2014, \"dayofyear\": 12, \"counts\": 388}, {\"year\": 2014, \"dayofyear\": 13, \"counts\": 568}, {\"year\": 2014, \"dayofyear\": 14, \"counts\": 559}, {\"year\": 2014, \"dayofyear\": 15, \"counts\": 583}, {\"year\": 2014, \"dayofyear\": 16, \"counts\": 521}, {\"year\": 2014, \"dayofyear\": 17, \"counts\": 589}, {\"year\": 2014, \"dayofyear\": 18, \"counts\": 448}, {\"year\": 2014, \"dayofyear\": 19, \"counts\": 380}, {\"year\": 2014, \"dayofyear\": 20, \"counts\": 360}, {\"year\": 2014, \"dayofyear\": 21, \"counts\": 1161}, {\"year\": 2014, \"dayofyear\": 22, \"counts\": 498}, {\"year\": 2014, \"dayofyear\": 23, \"counts\": 612}, {\"year\": 2014, \"dayofyear\": 24, \"counts\": 705}, {\"year\": 2014, \"dayofyear\": 25, \"counts\": 475}, {\"year\": 2014, \"dayofyear\": 26, \"counts\": 465}, {\"year\": 2014, \"dayofyear\": 27, \"counts\": 511}, {\"year\": 2014, \"dayofyear\": 28, \"counts\": 504}, {\"year\": 2014, \"dayofyear\": 29, \"counts\": 649}, {\"year\": 2014, \"dayofyear\": 30, \"counts\": 657}, {\"year\": 2014, \"dayofyear\": 31, \"counts\": 560}, {\"year\": 2014, \"dayofyear\": 32, \"counts\": 507}, {\"year\": 2014, \"dayofyear\": 33, \"counts\": 417}, {\"year\": 2014, \"dayofyear\": 34, \"counts\": 960}, {\"year\": 2014, \"dayofyear\": 35, \"counts\": 613}, {\"year\": 2014, \"dayofyear\": 36, \"counts\": 468}, {\"year\": 2014, \"dayofyear\": 37, \"counts\": 569}, {\"year\": 2014, \"dayofyear\": 38, \"counts\": 675}, {\"year\": 2014, \"dayofyear\": 39, \"counts\": 424}, {\"year\": 2014, \"dayofyear\": 40, \"counts\": 450}, {\"year\": 2014, \"dayofyear\": 41, \"counts\": 678}, {\"year\": 2014, \"dayofyear\": 42, \"counts\": 636}, {\"year\": 2014, \"dayofyear\": 43, \"counts\": 640}, {\"year\": 2014, \"dayofyear\": 44, \"counts\": 447}, {\"year\": 2014, \"dayofyear\": 45, \"counts\": 792}, {\"year\": 2014, \"dayofyear\": 46, \"counts\": 516}, {\"year\": 2014, \"dayofyear\": 47, \"counts\": 464}, {\"year\": 2014, \"dayofyear\": 48, \"counts\": 491}, {\"year\": 2014, \"dayofyear\": 49, \"counts\": 518}, {\"year\": 2014, \"dayofyear\": 50, \"counts\": 552}, {\"year\": 2014, \"dayofyear\": 51, \"counts\": 556}, {\"year\": 2014, \"dayofyear\": 52, \"counts\": 545}, {\"year\": 2014, \"dayofyear\": 53, \"counts\": 587}, {\"year\": 2014, \"dayofyear\": 54, \"counts\": 414}, {\"year\": 2014, \"dayofyear\": 55, \"counts\": 569}, {\"year\": 2014, \"dayofyear\": 56, \"counts\": 513}, {\"year\": 2014, \"dayofyear\": 57, \"counts\": 511}, {\"year\": 2014, \"dayofyear\": 58, \"counts\": 571}, {\"year\": 2014, \"dayofyear\": 59, \"counts\": 655}, {\"year\": 2014, \"dayofyear\": 60, \"counts\": 497}, {\"year\": 2014, \"dayofyear\": 61, \"counts\": 344}, {\"year\": 2014, \"dayofyear\": 62, \"counts\": 440}, {\"year\": 2014, \"dayofyear\": 63, \"counts\": 532}, {\"year\": 2014, \"dayofyear\": 64, \"counts\": 491}, {\"year\": 2014, \"dayofyear\": 65, \"counts\": 558}, {\"year\": 2014, \"dayofyear\": 66, \"counts\": 533}, {\"year\": 2014, \"dayofyear\": 67, \"counts\": 515}, {\"year\": 2014, \"dayofyear\": 68, \"counts\": 404}, {\"year\": 2014, \"dayofyear\": 69, \"counts\": 513}, {\"year\": 2014, \"dayofyear\": 70, \"counts\": 510}, {\"year\": 2014, \"dayofyear\": 71, \"counts\": 515}, {\"year\": 2014, \"dayofyear\": 72, \"counts\": 545}, {\"year\": 2014, \"dayofyear\": 73, \"counts\": 585}, {\"year\": 2014, \"dayofyear\": 74, \"counts\": 519}, {\"year\": 2014, \"dayofyear\": 75, \"counts\": 412}, {\"year\": 2014, \"dayofyear\": 76, \"counts\": 519}, {\"year\": 2014, \"dayofyear\": 77, \"counts\": 551}, {\"year\": 2014, \"dayofyear\": 78, \"counts\": 525}, {\"year\": 2014, \"dayofyear\": 79, \"counts\": 627}, {\"year\": 2014, \"dayofyear\": 80, \"counts\": 589}, {\"year\": 2014, \"dayofyear\": 81, \"counts\": 493}, {\"year\": 2014, \"dayofyear\": 82, \"counts\": 427}, {\"year\": 2014, \"dayofyear\": 83, \"counts\": 547}, {\"year\": 2014, \"dayofyear\": 84, \"counts\": 474}, {\"year\": 2014, \"dayofyear\": 85, \"counts\": 563}, {\"year\": 2014, \"dayofyear\": 86, \"counts\": 538}, {\"year\": 2014, \"dayofyear\": 87, \"counts\": 530}, {\"year\": 2014, \"dayofyear\": 88, \"counts\": 569}, {\"year\": 2014, \"dayofyear\": 89, \"counts\": 437}, {\"year\": 2014, \"dayofyear\": 90, \"counts\": 559}, {\"year\": 2014, \"dayofyear\": 91, \"counts\": 549}, {\"year\": 2014, \"dayofyear\": 92, \"counts\": 519}, {\"year\": 2014, \"dayofyear\": 93, \"counts\": 592}, {\"year\": 2014, \"dayofyear\": 94, \"counts\": 622}, {\"year\": 2014, \"dayofyear\": 95, \"counts\": 580}, {\"year\": 2014, \"dayofyear\": 96, \"counts\": 484}, {\"year\": 2014, \"dayofyear\": 97, \"counts\": 533}, {\"year\": 2014, \"dayofyear\": 98, \"counts\": 606}, {\"year\": 2014, \"dayofyear\": 99, \"counts\": 595}, {\"year\": 2014, \"dayofyear\": 100, \"counts\": 645}, {\"year\": 2014, \"dayofyear\": 101, \"counts\": 609}, {\"year\": 2014, \"dayofyear\": 102, \"counts\": 578}, {\"year\": 2014, \"dayofyear\": 103, \"counts\": 482}, {\"year\": 2014, \"dayofyear\": 104, \"counts\": 514}, {\"year\": 2014, \"dayofyear\": 105, \"counts\": 452}, {\"year\": 2014, \"dayofyear\": 106, \"counts\": 570}, {\"year\": 2014, \"dayofyear\": 107, \"counts\": 508}, {\"year\": 2014, \"dayofyear\": 108, \"counts\": 496}, {\"year\": 2014, \"dayofyear\": 109, \"counts\": 525}, {\"year\": 2014, \"dayofyear\": 110, \"counts\": 393}, {\"year\": 2014, \"dayofyear\": 111, \"counts\": 521}, {\"year\": 2014, \"dayofyear\": 112, \"counts\": 459}, {\"year\": 2014, \"dayofyear\": 113, \"counts\": 536}, {\"year\": 2014, \"dayofyear\": 114, \"counts\": 586}, {\"year\": 2014, \"dayofyear\": 115, \"counts\": 617}, {\"year\": 2014, \"dayofyear\": 116, \"counts\": 548}, {\"year\": 2014, \"dayofyear\": 117, \"counts\": 449}, {\"year\": 2014, \"dayofyear\": 118, \"counts\": 597}, {\"year\": 2014, \"dayofyear\": 119, \"counts\": 555}, {\"year\": 2014, \"dayofyear\": 120, \"counts\": 651}, {\"year\": 2014, \"dayofyear\": 121, \"counts\": 650}, {\"year\": 2014, \"dayofyear\": 122, \"counts\": 698}, {\"year\": 2014, \"dayofyear\": 123, \"counts\": 590}, {\"year\": 2014, \"dayofyear\": 124, \"counts\": 451}, {\"year\": 2014, \"dayofyear\": 125, \"counts\": 618}, {\"year\": 2014, \"dayofyear\": 126, \"counts\": 565}, {\"year\": 2014, \"dayofyear\": 127, \"counts\": 603}, {\"year\": 2014, \"dayofyear\": 128, \"counts\": 596}, {\"year\": 2014, \"dayofyear\": 129, \"counts\": 584}, {\"year\": 2014, \"dayofyear\": 130, \"counts\": 549}, {\"year\": 2014, \"dayofyear\": 131, \"counts\": 584}, {\"year\": 2014, \"dayofyear\": 132, \"counts\": 581}, {\"year\": 2014, \"dayofyear\": 133, \"counts\": 560}, {\"year\": 2014, \"dayofyear\": 134, \"counts\": 638}, {\"year\": 2014, \"dayofyear\": 135, \"counts\": 659}, {\"year\": 2014, \"dayofyear\": 136, \"counts\": 700}, {\"year\": 2014, \"dayofyear\": 137, \"counts\": 619}, {\"year\": 2014, \"dayofyear\": 138, \"counts\": 507}, {\"year\": 2014, \"dayofyear\": 139, \"counts\": 572}, {\"year\": 2014, \"dayofyear\": 140, \"counts\": 650}, {\"year\": 2014, \"dayofyear\": 141, \"counts\": 575}, {\"year\": 2014, \"dayofyear\": 142, \"counts\": 593}, {\"year\": 2014, \"dayofyear\": 143, \"counts\": 660}, {\"year\": 2014, \"dayofyear\": 144, \"counts\": 486}, {\"year\": 2014, \"dayofyear\": 145, \"counts\": 472}, {\"year\": 2014, \"dayofyear\": 146, \"counts\": 433}, {\"year\": 2014, \"dayofyear\": 147, \"counts\": 645}, {\"year\": 2014, \"dayofyear\": 148, \"counts\": 538}, {\"year\": 2014, \"dayofyear\": 149, \"counts\": 663}, {\"year\": 2014, \"dayofyear\": 150, \"counts\": 650}, {\"year\": 2014, \"dayofyear\": 151, \"counts\": 587}, {\"year\": 2014, \"dayofyear\": 152, \"counts\": 604}, {\"year\": 2014, \"dayofyear\": 153, \"counts\": 643}, {\"year\": 2014, \"dayofyear\": 154, \"counts\": 663}, {\"year\": 2014, \"dayofyear\": 155, \"counts\": 582}, {\"year\": 2014, \"dayofyear\": 156, \"counts\": 569}, {\"year\": 2014, \"dayofyear\": 157, \"counts\": 743}, {\"year\": 2014, \"dayofyear\": 158, \"counts\": 623}, {\"year\": 2014, \"dayofyear\": 159, \"counts\": 516}, {\"year\": 2014, \"dayofyear\": 160, \"counts\": 528}, {\"year\": 2014, \"dayofyear\": 161, \"counts\": 569}, {\"year\": 2014, \"dayofyear\": 162, \"counts\": 576}, {\"year\": 2014, \"dayofyear\": 163, \"counts\": 563}, {\"year\": 2014, \"dayofyear\": 164, \"counts\": 708}, {\"year\": 2014, \"dayofyear\": 165, \"counts\": 613}, {\"year\": 2014, \"dayofyear\": 166, \"counts\": 475}, {\"year\": 2014, \"dayofyear\": 167, \"counts\": 622}, {\"year\": 2014, \"dayofyear\": 168, \"counts\": 666}, {\"year\": 2014, \"dayofyear\": 169, \"counts\": 663}, {\"year\": 2014, \"dayofyear\": 170, \"counts\": 675}, {\"year\": 2014, \"dayofyear\": 171, \"counts\": 765}, {\"year\": 2014, \"dayofyear\": 172, \"counts\": 557}, {\"year\": 2014, \"dayofyear\": 173, \"counts\": 477}, {\"year\": 2014, \"dayofyear\": 174, \"counts\": 644}, {\"year\": 2014, \"dayofyear\": 175, \"counts\": 632}, {\"year\": 2014, \"dayofyear\": 176, \"counts\": 646}, {\"year\": 2014, \"dayofyear\": 177, \"counts\": 670}, {\"year\": 2014, \"dayofyear\": 178, \"counts\": 660}, {\"year\": 2014, \"dayofyear\": 179, \"counts\": 611}, {\"year\": 2014, \"dayofyear\": 180, \"counts\": 537}, {\"year\": 2014, \"dayofyear\": 181, \"counts\": 610}, {\"year\": 2014, \"dayofyear\": 182, \"counts\": 616}, {\"year\": 2014, \"dayofyear\": 183, \"counts\": 658}, {\"year\": 2014, \"dayofyear\": 184, \"counts\": 740}, {\"year\": 2014, \"dayofyear\": 185, \"counts\": 360}, {\"year\": 2014, \"dayofyear\": 186, \"counts\": 505}, {\"year\": 2014, \"dayofyear\": 187, \"counts\": 451}, {\"year\": 2014, \"dayofyear\": 188, \"counts\": 614}, {\"year\": 2014, \"dayofyear\": 189, \"counts\": 594}, {\"year\": 2014, \"dayofyear\": 190, \"counts\": 569}, {\"year\": 2014, \"dayofyear\": 191, \"counts\": 584}, {\"year\": 2014, \"dayofyear\": 192, \"counts\": 642}, {\"year\": 2014, \"dayofyear\": 193, \"counts\": 550}, {\"year\": 2014, \"dayofyear\": 194, \"counts\": 439}, {\"year\": 2014, \"dayofyear\": 195, \"counts\": 567}, {\"year\": 2014, \"dayofyear\": 196, \"counts\": 587}, {\"year\": 2014, \"dayofyear\": 197, \"counts\": 551}, {\"year\": 2014, \"dayofyear\": 198, \"counts\": 587}, {\"year\": 2014, \"dayofyear\": 199, \"counts\": 624}, {\"year\": 2014, \"dayofyear\": 200, \"counts\": 480}, {\"year\": 2014, \"dayofyear\": 201, \"counts\": 451}, {\"year\": 2014, \"dayofyear\": 202, \"counts\": 557}, {\"year\": 2014, \"dayofyear\": 203, \"counts\": 587}, {\"year\": 2014, \"dayofyear\": 204, \"counts\": 591}, {\"year\": 2014, \"dayofyear\": 205, \"counts\": 539}, {\"year\": 2014, \"dayofyear\": 206, \"counts\": 653}, {\"year\": 2014, \"dayofyear\": 207, \"counts\": 534}, {\"year\": 2014, \"dayofyear\": 208, \"counts\": 476}, {\"year\": 2014, \"dayofyear\": 209, \"counts\": 595}, {\"year\": 2014, \"dayofyear\": 210, \"counts\": 526}, {\"year\": 2014, \"dayofyear\": 211, \"counts\": 605}, {\"year\": 2014, \"dayofyear\": 212, \"counts\": 626}, {\"year\": 2014, \"dayofyear\": 213, \"counts\": 667}, {\"year\": 2014, \"dayofyear\": 214, \"counts\": 540}, {\"year\": 2014, \"dayofyear\": 215, \"counts\": 476}, {\"year\": 2014, \"dayofyear\": 216, \"counts\": 589}, {\"year\": 2014, \"dayofyear\": 217, \"counts\": 606}, {\"year\": 2014, \"dayofyear\": 218, \"counts\": 562}, {\"year\": 2014, \"dayofyear\": 219, \"counts\": 585}, {\"year\": 2014, \"dayofyear\": 220, \"counts\": 601}, {\"year\": 2014, \"dayofyear\": 221, \"counts\": 538}, {\"year\": 2014, \"dayofyear\": 222, \"counts\": 512}, {\"year\": 2014, \"dayofyear\": 223, \"counts\": 604}, {\"year\": 2014, \"dayofyear\": 224, \"counts\": 491}, {\"year\": 2014, \"dayofyear\": 225, \"counts\": 572}, {\"year\": 2014, \"dayofyear\": 226, \"counts\": 625}, {\"year\": 2014, \"dayofyear\": 227, \"counts\": 522}, {\"year\": 2014, \"dayofyear\": 228, \"counts\": 490}, {\"year\": 2014, \"dayofyear\": 229, \"counts\": 476}, {\"year\": 2014, \"dayofyear\": 230, \"counts\": 595}, {\"year\": 2014, \"dayofyear\": 231, \"counts\": 516}, {\"year\": 2014, \"dayofyear\": 232, \"counts\": 551}, {\"year\": 2014, \"dayofyear\": 233, \"counts\": 567}, {\"year\": 2014, \"dayofyear\": 234, \"counts\": 568}, {\"year\": 2014, \"dayofyear\": 235, \"counts\": 454}, {\"year\": 2014, \"dayofyear\": 236, \"counts\": 437}, {\"year\": 2014, \"dayofyear\": 237, \"counts\": 549}, {\"year\": 2014, \"dayofyear\": 238, \"counts\": 608}, {\"year\": 2014, \"dayofyear\": 239, \"counts\": 538}, {\"year\": 2014, \"dayofyear\": 240, \"counts\": 618}, {\"year\": 2014, \"dayofyear\": 241, \"counts\": 631}, {\"year\": 2014, \"dayofyear\": 242, \"counts\": 510}, {\"year\": 2014, \"dayofyear\": 243, \"counts\": 495}, {\"year\": 2014, \"dayofyear\": 244, \"counts\": 392}, {\"year\": 2014, \"dayofyear\": 245, \"counts\": 700}, {\"year\": 2014, \"dayofyear\": 246, \"counts\": 580}, {\"year\": 2014, \"dayofyear\": 247, \"counts\": 727}, {\"year\": 2014, \"dayofyear\": 248, \"counts\": 647}, {\"year\": 2014, \"dayofyear\": 249, \"counts\": 553}, {\"year\": 2014, \"dayofyear\": 250, \"counts\": 477}, {\"year\": 2014, \"dayofyear\": 251, \"counts\": 598}, {\"year\": 2014, \"dayofyear\": 252, \"counts\": 592}, {\"year\": 2014, \"dayofyear\": 253, \"counts\": 618}, {\"year\": 2014, \"dayofyear\": 254, \"counts\": 619}, {\"year\": 2014, \"dayofyear\": 255, \"counts\": 730}, {\"year\": 2014, \"dayofyear\": 256, \"counts\": 558}, {\"year\": 2014, \"dayofyear\": 257, \"counts\": 528}, {\"year\": 2014, \"dayofyear\": 258, \"counts\": 610}, {\"year\": 2014, \"dayofyear\": 259, \"counts\": 613}, {\"year\": 2014, \"dayofyear\": 260, \"counts\": 658}, {\"year\": 2014, \"dayofyear\": 261, \"counts\": 650}, {\"year\": 2014, \"dayofyear\": 262, \"counts\": 648}, {\"year\": 2014, \"dayofyear\": 263, \"counts\": 594}, {\"year\": 2014, \"dayofyear\": 264, \"counts\": 515}, {\"year\": 2014, \"dayofyear\": 265, \"counts\": 662}, {\"year\": 2014, \"dayofyear\": 266, \"counts\": 592}, {\"year\": 2014, \"dayofyear\": 267, \"counts\": 566}, {\"year\": 2014, \"dayofyear\": 268, \"counts\": 491}, {\"year\": 2014, \"dayofyear\": 269, \"counts\": 643}, {\"year\": 2014, \"dayofyear\": 270, \"counts\": 600}, {\"year\": 2014, \"dayofyear\": 271, \"counts\": 512}, {\"year\": 2014, \"dayofyear\": 272, \"counts\": 566}, {\"year\": 2014, \"dayofyear\": 273, \"counts\": 589}, {\"year\": 2014, \"dayofyear\": 274, \"counts\": 559}, {\"year\": 2014, \"dayofyear\": 275, \"counts\": 558}, {\"year\": 2014, \"dayofyear\": 276, \"counts\": 719}, {\"year\": 2014, \"dayofyear\": 277, \"counts\": 531}, {\"year\": 2014, \"dayofyear\": 278, \"counts\": 505}, {\"year\": 2014, \"dayofyear\": 279, \"counts\": 639}, {\"year\": 2014, \"dayofyear\": 280, \"counts\": 620}, {\"year\": 2014, \"dayofyear\": 281, \"counts\": 639}, {\"year\": 2014, \"dayofyear\": 282, \"counts\": 499}, {\"year\": 2014, \"dayofyear\": 283, \"counts\": 541}, {\"year\": 2014, \"dayofyear\": 284, \"counts\": 546}, {\"year\": 2014, \"dayofyear\": 285, \"counts\": 473}, {\"year\": 2014, \"dayofyear\": 286, \"counts\": 451}, {\"year\": 2014, \"dayofyear\": 287, \"counts\": 697}, {\"year\": 2014, \"dayofyear\": 288, \"counts\": 575}, {\"year\": 2014, \"dayofyear\": 289, \"counts\": 602}, {\"year\": 2014, \"dayofyear\": 290, \"counts\": 648}, {\"year\": 2014, \"dayofyear\": 291, \"counts\": 494}, {\"year\": 2014, \"dayofyear\": 292, \"counts\": 483}, {\"year\": 2014, \"dayofyear\": 293, \"counts\": 591}, {\"year\": 2014, \"dayofyear\": 294, \"counts\": 607}, {\"year\": 2014, \"dayofyear\": 295, \"counts\": 708}, {\"year\": 2014, \"dayofyear\": 296, \"counts\": 639}, {\"year\": 2014, \"dayofyear\": 297, \"counts\": 669}, {\"year\": 2014, \"dayofyear\": 298, \"counts\": 515}, {\"year\": 2014, \"dayofyear\": 299, \"counts\": 515}, {\"year\": 2014, \"dayofyear\": 300, \"counts\": 642}, {\"year\": 2014, \"dayofyear\": 301, \"counts\": 571}, {\"year\": 2014, \"dayofyear\": 302, \"counts\": 556}, {\"year\": 2014, \"dayofyear\": 303, \"counts\": 626}, {\"year\": 2014, \"dayofyear\": 304, \"counts\": 668}, {\"year\": 2014, \"dayofyear\": 305, \"counts\": 656}, {\"year\": 2014, \"dayofyear\": 306, \"counts\": 532}, {\"year\": 2014, \"dayofyear\": 307, \"counts\": 625}, {\"year\": 2014, \"dayofyear\": 308, \"counts\": 538}, {\"year\": 2014, \"dayofyear\": 309, \"counts\": 554}, {\"year\": 2014, \"dayofyear\": 310, \"counts\": 652}, {\"year\": 2014, \"dayofyear\": 311, \"counts\": 641}, {\"year\": 2014, \"dayofyear\": 312, \"counts\": 543}, {\"year\": 2014, \"dayofyear\": 313, \"counts\": 419}, {\"year\": 2014, \"dayofyear\": 314, \"counts\": 560}, {\"year\": 2014, \"dayofyear\": 315, \"counts\": 493}, {\"year\": 2014, \"dayofyear\": 316, \"counts\": 546}, {\"year\": 2014, \"dayofyear\": 317, \"counts\": 696}, {\"year\": 2014, \"dayofyear\": 318, \"counts\": 654}, {\"year\": 2014, \"dayofyear\": 319, \"counts\": 529}, {\"year\": 2014, \"dayofyear\": 320, \"counts\": 429}, {\"year\": 2014, \"dayofyear\": 321, \"counts\": 666}, {\"year\": 2014, \"dayofyear\": 322, \"counts\": 712}, {\"year\": 2014, \"dayofyear\": 323, \"counts\": 633}, {\"year\": 2014, \"dayofyear\": 324, \"counts\": 635}, {\"year\": 2014, \"dayofyear\": 325, \"counts\": 677}, {\"year\": 2014, \"dayofyear\": 326, \"counts\": 512}, {\"year\": 2014, \"dayofyear\": 327, \"counts\": 425}, {\"year\": 2014, \"dayofyear\": 328, \"counts\": 722}, {\"year\": 2014, \"dayofyear\": 329, \"counts\": 599}, {\"year\": 2014, \"dayofyear\": 330, \"counts\": 742}, {\"year\": 2014, \"dayofyear\": 331, \"counts\": 378}, {\"year\": 2014, \"dayofyear\": 332, \"counts\": 444}, {\"year\": 2014, \"dayofyear\": 333, \"counts\": 394}, {\"year\": 2014, \"dayofyear\": 334, \"counts\": 377}, {\"year\": 2014, \"dayofyear\": 335, \"counts\": 644}, {\"year\": 2014, \"dayofyear\": 336, \"counts\": 611}, {\"year\": 2014, \"dayofyear\": 337, \"counts\": 569}, {\"year\": 2014, \"dayofyear\": 338, \"counts\": 606}, {\"year\": 2014, \"dayofyear\": 339, \"counts\": 673}, {\"year\": 2014, \"dayofyear\": 340, \"counts\": 628}, {\"year\": 2014, \"dayofyear\": 341, \"counts\": 493}, {\"year\": 2014, \"dayofyear\": 342, \"counts\": 579}, {\"year\": 2014, \"dayofyear\": 343, \"counts\": 645}, {\"year\": 2014, \"dayofyear\": 344, \"counts\": 649}, {\"year\": 2014, \"dayofyear\": 345, \"counts\": 669}, {\"year\": 2014, \"dayofyear\": 346, \"counts\": 687}, {\"year\": 2014, \"dayofyear\": 347, \"counts\": 594}, {\"year\": 2014, \"dayofyear\": 348, \"counts\": 439}, {\"year\": 2014, \"dayofyear\": 349, \"counts\": 720}, {\"year\": 2014, \"dayofyear\": 350, \"counts\": 645}, {\"year\": 2014, \"dayofyear\": 351, \"counts\": 555}, {\"year\": 2014, \"dayofyear\": 352, \"counts\": 621}, {\"year\": 2014, \"dayofyear\": 353, \"counts\": 652}, {\"year\": 2014, \"dayofyear\": 354, \"counts\": 505}, {\"year\": 2014, \"dayofyear\": 355, \"counts\": 409}, {\"year\": 2014, \"dayofyear\": 356, \"counts\": 566}, {\"year\": 2014, \"dayofyear\": 357, \"counts\": 732}, {\"year\": 2014, \"dayofyear\": 358, \"counts\": 519}, {\"year\": 2014, \"dayofyear\": 359, \"counts\": 303}, {\"year\": 2014, \"dayofyear\": 360, \"counts\": 446}, {\"year\": 2014, \"dayofyear\": 361, \"counts\": 406}, {\"year\": 2014, \"dayofyear\": 362, \"counts\": 349}, {\"year\": 2014, \"dayofyear\": 363, \"counts\": 411}, {\"year\": 2014, \"dayofyear\": 364, \"counts\": 469}, {\"year\": 2014, \"dayofyear\": 365, \"counts\": 461}, {\"year\": 2015, \"dayofyear\": 1, \"counts\": 395}, {\"year\": 2015, \"dayofyear\": 2, \"counts\": 442}, {\"year\": 2015, \"dayofyear\": 3, \"counts\": 456}, {\"year\": 2015, \"dayofyear\": 4, \"counts\": 381}, {\"year\": 2015, \"dayofyear\": 5, \"counts\": 498}, {\"year\": 2015, \"dayofyear\": 6, \"counts\": 777}, {\"year\": 2015, \"dayofyear\": 7, \"counts\": 538}, {\"year\": 2015, \"dayofyear\": 8, \"counts\": 573}, {\"year\": 2015, \"dayofyear\": 9, \"counts\": 751}, {\"year\": 2015, \"dayofyear\": 10, \"counts\": 481}, {\"year\": 2015, \"dayofyear\": 11, \"counts\": 341}, {\"year\": 2015, \"dayofyear\": 12, \"counts\": 580}, {\"year\": 2015, \"dayofyear\": 13, \"counts\": 613}, {\"year\": 2015, \"dayofyear\": 14, \"counts\": 506}, {\"year\": 2015, \"dayofyear\": 15, \"counts\": 548}, {\"year\": 2015, \"dayofyear\": 16, \"counts\": 563}, {\"year\": 2015, \"dayofyear\": 17, \"counts\": 495}, {\"year\": 2015, \"dayofyear\": 18, \"counts\": 961}, {\"year\": 2015, \"dayofyear\": 19, \"counts\": 496}, {\"year\": 2015, \"dayofyear\": 20, \"counts\": 500}, {\"year\": 2015, \"dayofyear\": 21, \"counts\": 495}, {\"year\": 2015, \"dayofyear\": 22, \"counts\": 508}, {\"year\": 2015, \"dayofyear\": 23, \"counts\": 598}, {\"year\": 2015, \"dayofyear\": 24, \"counts\": 428}, {\"year\": 2015, \"dayofyear\": 25, \"counts\": 406}, {\"year\": 2015, \"dayofyear\": 26, \"counts\": 484}, {\"year\": 2015, \"dayofyear\": 27, \"counts\": 188}, {\"year\": 2015, \"dayofyear\": 28, \"counts\": 458}, {\"year\": 2015, \"dayofyear\": 29, \"counts\": 519}, {\"year\": 2015, \"dayofyear\": 30, \"counts\": 622}, {\"year\": 2015, \"dayofyear\": 31, \"counts\": 526}, {\"year\": 2015, \"dayofyear\": 32, \"counts\": 361}, {\"year\": 2015, \"dayofyear\": 33, \"counts\": 680}, {\"year\": 2015, \"dayofyear\": 34, \"counts\": 740}, {\"year\": 2015, \"dayofyear\": 35, \"counts\": 585}, {\"year\": 2015, \"dayofyear\": 36, \"counts\": 569}, {\"year\": 2015, \"dayofyear\": 37, \"counts\": 652}, {\"year\": 2015, \"dayofyear\": 38, \"counts\": 449}, {\"year\": 2015, \"dayofyear\": 39, \"counts\": 394}, {\"year\": 2015, \"dayofyear\": 40, \"counts\": 547}, {\"year\": 2015, \"dayofyear\": 41, \"counts\": 571}, {\"year\": 2015, \"dayofyear\": 42, \"counts\": 610}, {\"year\": 2015, \"dayofyear\": 43, \"counts\": 526}, {\"year\": 2015, \"dayofyear\": 44, \"counts\": 757}, {\"year\": 2015, \"dayofyear\": 45, \"counts\": 436}, {\"year\": 2015, \"dayofyear\": 46, \"counts\": 454}, {\"year\": 2015, \"dayofyear\": 47, \"counts\": 402}, {\"year\": 2015, \"dayofyear\": 48, \"counts\": 620}, {\"year\": 2015, \"dayofyear\": 49, \"counts\": 626}, {\"year\": 2015, \"dayofyear\": 50, \"counts\": 515}, {\"year\": 2015, \"dayofyear\": 51, \"counts\": 621}, {\"year\": 2015, \"dayofyear\": 52, \"counts\": 517}, {\"year\": 2015, \"dayofyear\": 53, \"counts\": 519}, {\"year\": 2015, \"dayofyear\": 54, \"counts\": 574}, {\"year\": 2015, \"dayofyear\": 55, \"counts\": 580}, {\"year\": 2015, \"dayofyear\": 56, \"counts\": 628}, {\"year\": 2015, \"dayofyear\": 57, \"counts\": 539}, {\"year\": 2015, \"dayofyear\": 58, \"counts\": 703}, {\"year\": 2015, \"dayofyear\": 59, \"counts\": 538}, {\"year\": 2015, \"dayofyear\": 60, \"counts\": 693}, {\"year\": 2015, \"dayofyear\": 61, \"counts\": 650}, {\"year\": 2015, \"dayofyear\": 62, \"counts\": 631}, {\"year\": 2015, \"dayofyear\": 63, \"counts\": 574}, {\"year\": 2015, \"dayofyear\": 64, \"counts\": 830}, {\"year\": 2015, \"dayofyear\": 65, \"counts\": 939}, {\"year\": 2015, \"dayofyear\": 66, \"counts\": 578}, {\"year\": 2015, \"dayofyear\": 67, \"counts\": 464}, {\"year\": 2015, \"dayofyear\": 68, \"counts\": 661}, {\"year\": 2015, \"dayofyear\": 69, \"counts\": 584}, {\"year\": 2015, \"dayofyear\": 70, \"counts\": 565}, {\"year\": 2015, \"dayofyear\": 71, \"counts\": 586}, {\"year\": 2015, \"dayofyear\": 72, \"counts\": 609}, {\"year\": 2015, \"dayofyear\": 73, \"counts\": 507}, {\"year\": 2015, \"dayofyear\": 74, \"counts\": 459}, {\"year\": 2015, \"dayofyear\": 75, \"counts\": 529}, {\"year\": 2015, \"dayofyear\": 76, \"counts\": 528}, {\"year\": 2015, \"dayofyear\": 77, \"counts\": 547}, {\"year\": 2015, \"dayofyear\": 78, \"counts\": 582}, {\"year\": 2015, \"dayofyear\": 79, \"counts\": 570}, {\"year\": 2015, \"dayofyear\": 80, \"counts\": 507}, {\"year\": 2015, \"dayofyear\": 81, \"counts\": 432}, {\"year\": 2015, \"dayofyear\": 82, \"counts\": 586}, {\"year\": 2015, \"dayofyear\": 83, \"counts\": 601}, {\"year\": 2015, \"dayofyear\": 84, \"counts\": 538}, {\"year\": 2015, \"dayofyear\": 85, \"counts\": 525}, {\"year\": 2015, \"dayofyear\": 86, \"counts\": 532}, {\"year\": 2015, \"dayofyear\": 87, \"counts\": 459}, {\"year\": 2015, \"dayofyear\": 88, \"counts\": 505}, {\"year\": 2015, \"dayofyear\": 89, \"counts\": 556}, {\"year\": 2015, \"dayofyear\": 90, \"counts\": 628}, {\"year\": 2015, \"dayofyear\": 91, \"counts\": 648}, {\"year\": 2015, \"dayofyear\": 92, \"counts\": 653}, {\"year\": 2015, \"dayofyear\": 93, \"counts\": 491}, {\"year\": 2015, \"dayofyear\": 94, \"counts\": 507}, {\"year\": 2015, \"dayofyear\": 95, \"counts\": 422}, {\"year\": 2015, \"dayofyear\": 96, \"counts\": 510}, {\"year\": 2015, \"dayofyear\": 97, \"counts\": 452}, {\"year\": 2015, \"dayofyear\": 98, \"counts\": 457}, {\"year\": 2015, \"dayofyear\": 99, \"counts\": 452}, {\"year\": 2015, \"dayofyear\": 100, \"counts\": 486}, {\"year\": 2015, \"dayofyear\": 101, \"counts\": 576}, {\"year\": 2015, \"dayofyear\": 102, \"counts\": 443}, {\"year\": 2015, \"dayofyear\": 103, \"counts\": 554}, {\"year\": 2015, \"dayofyear\": 104, \"counts\": 542}, {\"year\": 2015, \"dayofyear\": 105, \"counts\": 595}, {\"year\": 2015, \"dayofyear\": 106, \"counts\": 560}, {\"year\": 2015, \"dayofyear\": 107, \"counts\": 679}, {\"year\": 2015, \"dayofyear\": 108, \"counts\": 605}, {\"year\": 2015, \"dayofyear\": 109, \"counts\": 471}, {\"year\": 2015, \"dayofyear\": 110, \"counts\": 630}, {\"year\": 2015, \"dayofyear\": 111, \"counts\": 645}, {\"year\": 2015, \"dayofyear\": 112, \"counts\": 568}, {\"year\": 2015, \"dayofyear\": 113, \"counts\": 612}, {\"year\": 2015, \"dayofyear\": 114, \"counts\": 676}, {\"year\": 2015, \"dayofyear\": 115, \"counts\": 592}, {\"year\": 2015, \"dayofyear\": 116, \"counts\": 477}, {\"year\": 2015, \"dayofyear\": 117, \"counts\": 558}, {\"year\": 2015, \"dayofyear\": 118, \"counts\": 613}, {\"year\": 2015, \"dayofyear\": 119, \"counts\": 679}, {\"year\": 2015, \"dayofyear\": 120, \"counts\": 640}, {\"year\": 2015, \"dayofyear\": 121, \"counts\": 642}, {\"year\": 2015, \"dayofyear\": 122, \"counts\": 540}, {\"year\": 2015, \"dayofyear\": 123, \"counts\": 555}, {\"year\": 2015, \"dayofyear\": 124, \"counts\": 641}, {\"year\": 2015, \"dayofyear\": 125, \"counts\": 638}, {\"year\": 2015, \"dayofyear\": 126, \"counts\": 568}, {\"year\": 2015, \"dayofyear\": 127, \"counts\": 684}, {\"year\": 2015, \"dayofyear\": 128, \"counts\": 709}, {\"year\": 2015, \"dayofyear\": 129, \"counts\": 560}, {\"year\": 2015, \"dayofyear\": 130, \"counts\": 549}, {\"year\": 2015, \"dayofyear\": 131, \"counts\": 645}, {\"year\": 2015, \"dayofyear\": 132, \"counts\": 684}, {\"year\": 2015, \"dayofyear\": 133, \"counts\": 655}, {\"year\": 2015, \"dayofyear\": 134, \"counts\": 654}, {\"year\": 2015, \"dayofyear\": 135, \"counts\": 723}, {\"year\": 2015, \"dayofyear\": 136, \"counts\": 650}, {\"year\": 2015, \"dayofyear\": 137, \"counts\": 543}, {\"year\": 2015, \"dayofyear\": 138, \"counts\": 566}, {\"year\": 2015, \"dayofyear\": 139, \"counts\": 606}, {\"year\": 2015, \"dayofyear\": 140, \"counts\": 666}, {\"year\": 2015, \"dayofyear\": 141, \"counts\": 615}, {\"year\": 2015, \"dayofyear\": 142, \"counts\": 727}, {\"year\": 2015, \"dayofyear\": 143, \"counts\": 546}, {\"year\": 2015, \"dayofyear\": 144, \"counts\": 432}, {\"year\": 2015, \"dayofyear\": 145, \"counts\": 420}, {\"year\": 2015, \"dayofyear\": 146, \"counts\": 686}, {\"year\": 2015, \"dayofyear\": 147, \"counts\": 697}, {\"year\": 2015, \"dayofyear\": 148, \"counts\": 682}, {\"year\": 2015, \"dayofyear\": 149, \"counts\": 813}, {\"year\": 2015, \"dayofyear\": 150, \"counts\": 622}, {\"year\": 2015, \"dayofyear\": 151, \"counts\": 555}, {\"year\": 2015, \"dayofyear\": 152, \"counts\": 691}, {\"year\": 2015, \"dayofyear\": 153, \"counts\": 642}, {\"year\": 2015, \"dayofyear\": 154, \"counts\": 658}, {\"year\": 2015, \"dayofyear\": 155, \"counts\": 552}, {\"year\": 2015, \"dayofyear\": 156, \"counts\": 692}, {\"year\": 2015, \"dayofyear\": 157, \"counts\": 598}, {\"year\": 2015, \"dayofyear\": 158, \"counts\": 559}, {\"year\": 2015, \"dayofyear\": 159, \"counts\": 634}, {\"year\": 2015, \"dayofyear\": 160, \"counts\": 652}, {\"year\": 2015, \"dayofyear\": 161, \"counts\": 667}, {\"year\": 2015, \"dayofyear\": 162, \"counts\": 666}, {\"year\": 2015, \"dayofyear\": 163, \"counts\": 451}, {\"year\": 2015, \"dayofyear\": 164, \"counts\": 395}, {\"year\": 2015, \"dayofyear\": 165, \"counts\": 578}, {\"year\": 2015, \"dayofyear\": 166, \"counts\": 506}, {\"year\": 2015, \"dayofyear\": 167, \"counts\": 593}, {\"year\": 2015, \"dayofyear\": 168, \"counts\": 706}, {\"year\": 2015, \"dayofyear\": 169, \"counts\": 615}, {\"year\": 2015, \"dayofyear\": 170, \"counts\": 732}, {\"year\": 2015, \"dayofyear\": 171, \"counts\": 505}, {\"year\": 2015, \"dayofyear\": 172, \"counts\": 620}, {\"year\": 2015, \"dayofyear\": 173, \"counts\": 774}, {\"year\": 2015, \"dayofyear\": 174, \"counts\": 703}, {\"year\": 2015, \"dayofyear\": 175, \"counts\": 778}, {\"year\": 2015, \"dayofyear\": 176, \"counts\": 670}, {\"year\": 2015, \"dayofyear\": 177, \"counts\": 774}, {\"year\": 2015, \"dayofyear\": 178, \"counts\": 595}, {\"year\": 2015, \"dayofyear\": 179, \"counts\": 535}, {\"year\": 2015, \"dayofyear\": 180, \"counts\": 662}, {\"year\": 2015, \"dayofyear\": 181, \"counts\": 622}, {\"year\": 2015, \"dayofyear\": 182, \"counts\": 683}, {\"year\": 2015, \"dayofyear\": 183, \"counts\": 603}, {\"year\": 2015, \"dayofyear\": 184, \"counts\": 549}, {\"year\": 2015, \"dayofyear\": 185, \"counts\": 389}, {\"year\": 2015, \"dayofyear\": 186, \"counts\": 467}, {\"year\": 2015, \"dayofyear\": 187, \"counts\": 598}, {\"year\": 2015, \"dayofyear\": 188, \"counts\": 646}, {\"year\": 2015, \"dayofyear\": 189, \"counts\": 620}, {\"year\": 2015, \"dayofyear\": 190, \"counts\": 567}, {\"year\": 2015, \"dayofyear\": 191, \"counts\": 709}, {\"year\": 2015, \"dayofyear\": 192, \"counts\": 597}, {\"year\": 2015, \"dayofyear\": 193, \"counts\": 521}, {\"year\": 2015, \"dayofyear\": 194, \"counts\": 668}, {\"year\": 2015, \"dayofyear\": 195, \"counts\": 657}, {\"year\": 2015, \"dayofyear\": 196, \"counts\": 611}, {\"year\": 2015, \"dayofyear\": 197, \"counts\": 686}, {\"year\": 2015, \"dayofyear\": 198, \"counts\": 659}, {\"year\": 2015, \"dayofyear\": 199, \"counts\": 561}, {\"year\": 2015, \"dayofyear\": 200, \"counts\": 545}, {\"year\": 2015, \"dayofyear\": 201, \"counts\": 727}, {\"year\": 2015, \"dayofyear\": 202, \"counts\": 606}, {\"year\": 2015, \"dayofyear\": 203, \"counts\": 618}, {\"year\": 2015, \"dayofyear\": 204, \"counts\": 623}, {\"year\": 2015, \"dayofyear\": 205, \"counts\": 490}, {\"year\": 2015, \"dayofyear\": 206, \"counts\": 451}, {\"year\": 2015, \"dayofyear\": 207, \"counts\": 551}, {\"year\": 2015, \"dayofyear\": 208, \"counts\": 626}, {\"year\": 2015, \"dayofyear\": 209, \"counts\": 643}, {\"year\": 2015, \"dayofyear\": 210, \"counts\": 629}, {\"year\": 2015, \"dayofyear\": 211, \"counts\": 717}, {\"year\": 2015, \"dayofyear\": 212, \"counts\": 753}, {\"year\": 2015, \"dayofyear\": 213, \"counts\": 668}, {\"year\": 2015, \"dayofyear\": 214, \"counts\": 550}, {\"year\": 2015, \"dayofyear\": 215, \"counts\": 705}, {\"year\": 2015, \"dayofyear\": 216, \"counts\": 666}, {\"year\": 2015, \"dayofyear\": 217, \"counts\": 619}, {\"year\": 2015, \"dayofyear\": 218, \"counts\": 630}, {\"year\": 2015, \"dayofyear\": 219, \"counts\": 726}, {\"year\": 2015, \"dayofyear\": 220, \"counts\": 545}, {\"year\": 2015, \"dayofyear\": 221, \"counts\": 489}, {\"year\": 2015, \"dayofyear\": 222, \"counts\": 611}, {\"year\": 2015, \"dayofyear\": 223, \"counts\": 601}, {\"year\": 2015, \"dayofyear\": 224, \"counts\": 643}, {\"year\": 2015, \"dayofyear\": 225, \"counts\": 714}, {\"year\": 2015, \"dayofyear\": 226, \"counts\": 729}, {\"year\": 2015, \"dayofyear\": 227, \"counts\": 582}, {\"year\": 2015, \"dayofyear\": 228, \"counts\": 552}, {\"year\": 2015, \"dayofyear\": 229, \"counts\": 592}, {\"year\": 2015, \"dayofyear\": 230, \"counts\": 623}, {\"year\": 2015, \"dayofyear\": 231, \"counts\": 594}, {\"year\": 2015, \"dayofyear\": 232, \"counts\": 600}, {\"year\": 2015, \"dayofyear\": 233, \"counts\": 753}, {\"year\": 2015, \"dayofyear\": 234, \"counts\": 581}, {\"year\": 2015, \"dayofyear\": 235, \"counts\": 492}, {\"year\": 2015, \"dayofyear\": 236, \"counts\": 575}, {\"year\": 2015, \"dayofyear\": 237, \"counts\": 595}, {\"year\": 2015, \"dayofyear\": 238, \"counts\": 606}, {\"year\": 2015, \"dayofyear\": 239, \"counts\": 614}, {\"year\": 2015, \"dayofyear\": 240, \"counts\": 609}, {\"year\": 2015, \"dayofyear\": 241, \"counts\": 539}, {\"year\": 2015, \"dayofyear\": 242, \"counts\": 563}, {\"year\": 2015, \"dayofyear\": 243, \"counts\": 614}, {\"year\": 2015, \"dayofyear\": 244, \"counts\": 626}, {\"year\": 2015, \"dayofyear\": 245, \"counts\": 654}, {\"year\": 2015, \"dayofyear\": 246, \"counts\": 665}, {\"year\": 2015, \"dayofyear\": 247, \"counts\": 643}, {\"year\": 2015, \"dayofyear\": 248, \"counts\": 541}, {\"year\": 2015, \"dayofyear\": 249, \"counts\": 504}, {\"year\": 2015, \"dayofyear\": 250, \"counts\": 485}, {\"year\": 2015, \"dayofyear\": 251, \"counts\": 795}, {\"year\": 2015, \"dayofyear\": 252, \"counts\": 740}, {\"year\": 2015, \"dayofyear\": 253, \"counts\": 716}, {\"year\": 2015, \"dayofyear\": 254, \"counts\": 765}, {\"year\": 2015, \"dayofyear\": 255, \"counts\": 554}, {\"year\": 2015, \"dayofyear\": 256, \"counts\": 478}, {\"year\": 2015, \"dayofyear\": 257, \"counts\": 579}, {\"year\": 2015, \"dayofyear\": 258, \"counts\": 579}, {\"year\": 2015, \"dayofyear\": 259, \"counts\": 748}, {\"year\": 2015, \"dayofyear\": 260, \"counts\": 744}, {\"year\": 2015, \"dayofyear\": 261, \"counts\": 760}, {\"year\": 2015, \"dayofyear\": 262, \"counts\": 655}, {\"year\": 2015, \"dayofyear\": 263, \"counts\": 556}, {\"year\": 2015, \"dayofyear\": 264, \"counts\": 624}, {\"year\": 2015, \"dayofyear\": 265, \"counts\": 571}, {\"year\": 2015, \"dayofyear\": 266, \"counts\": 501}, {\"year\": 2015, \"dayofyear\": 267, \"counts\": 619}, {\"year\": 2015, \"dayofyear\": 268, \"counts\": 585}, {\"year\": 2015, \"dayofyear\": 269, \"counts\": 557}, {\"year\": 2015, \"dayofyear\": 270, \"counts\": 493}, {\"year\": 2015, \"dayofyear\": 271, \"counts\": 586}, {\"year\": 2015, \"dayofyear\": 272, \"counts\": 557}, {\"year\": 2015, \"dayofyear\": 273, \"counts\": 634}, {\"year\": 2015, \"dayofyear\": 274, \"counts\": 683}, {\"year\": 2015, \"dayofyear\": 275, \"counts\": 798}, {\"year\": 2015, \"dayofyear\": 276, \"counts\": 556}, {\"year\": 2015, \"dayofyear\": 277, \"counts\": 536}, {\"year\": 2015, \"dayofyear\": 278, \"counts\": 597}, {\"year\": 2015, \"dayofyear\": 279, \"counts\": 631}, {\"year\": 2015, \"dayofyear\": 280, \"counts\": 668}, {\"year\": 2015, \"dayofyear\": 281, \"counts\": 666}, {\"year\": 2015, \"dayofyear\": 282, \"counts\": 764}, {\"year\": 2015, \"dayofyear\": 283, \"counts\": 649}, {\"year\": 2015, \"dayofyear\": 284, \"counts\": 559}, {\"year\": 2015, \"dayofyear\": 285, \"counts\": 505}, {\"year\": 2015, \"dayofyear\": 286, \"counts\": 724}, {\"year\": 2015, \"dayofyear\": 287, \"counts\": 658}, {\"year\": 2015, \"dayofyear\": 288, \"counts\": 683}, {\"year\": 2015, \"dayofyear\": 289, \"counts\": 676}, {\"year\": 2015, \"dayofyear\": 290, \"counts\": 565}, {\"year\": 2015, \"dayofyear\": 291, \"counts\": 551}, {\"year\": 2015, \"dayofyear\": 292, \"counts\": 667}, {\"year\": 2015, \"dayofyear\": 293, \"counts\": 714}, {\"year\": 2015, \"dayofyear\": 294, \"counts\": 720}, {\"year\": 2015, \"dayofyear\": 295, \"counts\": 666}, {\"year\": 2015, \"dayofyear\": 296, \"counts\": 742}, {\"year\": 2015, \"dayofyear\": 297, \"counts\": 519}, {\"year\": 2015, \"dayofyear\": 298, \"counts\": 522}, {\"year\": 2015, \"dayofyear\": 299, \"counts\": 698}, {\"year\": 2015, \"dayofyear\": 300, \"counts\": 631}, {\"year\": 2015, \"dayofyear\": 301, \"counts\": 689}, {\"year\": 2015, \"dayofyear\": 302, \"counts\": 767}, {\"year\": 2015, \"dayofyear\": 303, \"counts\": 688}, {\"year\": 2015, \"dayofyear\": 304, \"counts\": 357}, {\"year\": 2015, \"dayofyear\": 305, \"counts\": 312}, {\"year\": 2015, \"dayofyear\": 306, \"counts\": 613}, {\"year\": 2015, \"dayofyear\": 307, \"counts\": 655}, {\"year\": 2015, \"dayofyear\": 308, \"counts\": 672}, {\"year\": 2015, \"dayofyear\": 309, \"counts\": 690}, {\"year\": 2015, \"dayofyear\": 310, \"counts\": 616}, {\"year\": 2015, \"dayofyear\": 311, \"counts\": 500}, {\"year\": 2015, \"dayofyear\": 312, \"counts\": 472}, {\"year\": 2015, \"dayofyear\": 313, \"counts\": 615}, {\"year\": 2015, \"dayofyear\": 314, \"counts\": 757}, {\"year\": 2015, \"dayofyear\": 315, \"counts\": 530}, {\"year\": 2015, \"dayofyear\": 316, \"counts\": 637}, {\"year\": 2015, \"dayofyear\": 317, \"counts\": 677}, {\"year\": 2015, \"dayofyear\": 318, \"counts\": 613}, {\"year\": 2015, \"dayofyear\": 319, \"counts\": 500}, {\"year\": 2015, \"dayofyear\": 320, \"counts\": 618}, {\"year\": 2015, \"dayofyear\": 321, \"counts\": 684}, {\"year\": 2015, \"dayofyear\": 322, \"counts\": 628}, {\"year\": 2015, \"dayofyear\": 323, \"counts\": 797}, {\"year\": 2015, \"dayofyear\": 324, \"counts\": 819}, {\"year\": 2015, \"dayofyear\": 325, \"counts\": 597}, {\"year\": 2015, \"dayofyear\": 326, \"counts\": 431}, {\"year\": 2015, \"dayofyear\": 327, \"counts\": 704}, {\"year\": 2015, \"dayofyear\": 328, \"counts\": 733}, {\"year\": 2015, \"dayofyear\": 329, \"counts\": 717}, {\"year\": 2015, \"dayofyear\": 330, \"counts\": 383}, {\"year\": 2015, \"dayofyear\": 331, \"counts\": 480}, {\"year\": 2015, \"dayofyear\": 332, \"counts\": 508}, {\"year\": 2015, \"dayofyear\": 333, \"counts\": 453}, {\"year\": 2015, \"dayofyear\": 334, \"counts\": 611}, {\"year\": 2015, \"dayofyear\": 335, \"counts\": 746}, {\"year\": 2015, \"dayofyear\": 336, \"counts\": 655}, {\"year\": 2015, \"dayofyear\": 337, \"counts\": 623}, {\"year\": 2015, \"dayofyear\": 338, \"counts\": 680}, {\"year\": 2015, \"dayofyear\": 339, \"counts\": 629}, {\"year\": 2015, \"dayofyear\": 340, \"counts\": 485}, {\"year\": 2015, \"dayofyear\": 341, \"counts\": 668}, {\"year\": 2015, \"dayofyear\": 342, \"counts\": 618}, {\"year\": 2015, \"dayofyear\": 343, \"counts\": 575}, {\"year\": 2015, \"dayofyear\": 344, \"counts\": 668}, {\"year\": 2015, \"dayofyear\": 345, \"counts\": 694}, {\"year\": 2015, \"dayofyear\": 346, \"counts\": 578}, {\"year\": 2015, \"dayofyear\": 347, \"counts\": 549}, {\"year\": 2015, \"dayofyear\": 348, \"counts\": 637}, {\"year\": 2015, \"dayofyear\": 349, \"counts\": 755}, {\"year\": 2015, \"dayofyear\": 350, \"counts\": 673}, {\"year\": 2015, \"dayofyear\": 351, \"counts\": 745}, {\"year\": 2015, \"dayofyear\": 352, \"counts\": 767}, {\"year\": 2015, \"dayofyear\": 353, \"counts\": 624}, {\"year\": 2015, \"dayofyear\": 354, \"counts\": 500}, {\"year\": 2015, \"dayofyear\": 355, \"counts\": 612}, {\"year\": 2015, \"dayofyear\": 356, \"counts\": 699}, {\"year\": 2015, \"dayofyear\": 357, \"counts\": 805}, {\"year\": 2015, \"dayofyear\": 358, \"counts\": 603}, {\"year\": 2015, \"dayofyear\": 359, \"counts\": 321}, {\"year\": 2015, \"dayofyear\": 360, \"counts\": 395}, {\"year\": 2015, \"dayofyear\": 361, \"counts\": 518}, {\"year\": 2015, \"dayofyear\": 362, \"counts\": 490}, {\"year\": 2015, \"dayofyear\": 363, \"counts\": 533}, {\"year\": 2015, \"dayofyear\": 364, \"counts\": 501}, {\"year\": 2015, \"dayofyear\": 365, \"counts\": 527}, {\"year\": 2016, \"dayofyear\": 1, \"counts\": 393}, {\"year\": 2016, \"dayofyear\": 2, \"counts\": 422}, {\"year\": 2016, \"dayofyear\": 3, \"counts\": 432}, {\"year\": 2016, \"dayofyear\": 4, \"counts\": 601}, {\"year\": 2016, \"dayofyear\": 5, \"counts\": 640}, {\"year\": 2016, \"dayofyear\": 6, \"counts\": 625}, {\"year\": 2016, \"dayofyear\": 7, \"counts\": 542}, {\"year\": 2016, \"dayofyear\": 8, \"counts\": 602}, {\"year\": 2016, \"dayofyear\": 9, \"counts\": 554}, {\"year\": 2016, \"dayofyear\": 10, \"counts\": 462}, {\"year\": 2016, \"dayofyear\": 11, \"counts\": 680}, {\"year\": 2016, \"dayofyear\": 12, \"counts\": 637}, {\"year\": 2016, \"dayofyear\": 13, \"counts\": 605}, {\"year\": 2016, \"dayofyear\": 14, \"counts\": 597}, {\"year\": 2016, \"dayofyear\": 15, \"counts\": 722}, {\"year\": 2016, \"dayofyear\": 16, \"counts\": 563}, {\"year\": 2016, \"dayofyear\": 17, \"counts\": 451}, {\"year\": 2016, \"dayofyear\": 18, \"counts\": 481}, {\"year\": 2016, \"dayofyear\": 19, \"counts\": 662}, {\"year\": 2016, \"dayofyear\": 20, \"counts\": 623}, {\"year\": 2016, \"dayofyear\": 21, \"counts\": 666}, {\"year\": 2016, \"dayofyear\": 22, \"counts\": 702}, {\"year\": 2016, \"dayofyear\": 23, \"counts\": 402}, {\"year\": 2016, \"dayofyear\": 24, \"counts\": 517}, {\"year\": 2016, \"dayofyear\": 25, \"counts\": 658}, {\"year\": 2016, \"dayofyear\": 26, \"counts\": 734}, {\"year\": 2016, \"dayofyear\": 27, \"counts\": 670}, {\"year\": 2016, \"dayofyear\": 28, \"counts\": 681}, {\"year\": 2016, \"dayofyear\": 29, \"counts\": 645}, {\"year\": 2016, \"dayofyear\": 30, \"counts\": 596}, {\"year\": 2016, \"dayofyear\": 31, \"counts\": 532}, {\"year\": 2016, \"dayofyear\": 32, \"counts\": 716}, {\"year\": 2016, \"dayofyear\": 33, \"counts\": 711}, {\"year\": 2016, \"dayofyear\": 34, \"counts\": 579}, {\"year\": 2016, \"dayofyear\": 35, \"counts\": 609}, {\"year\": 2016, \"dayofyear\": 36, \"counts\": 607}, {\"year\": 2016, \"dayofyear\": 37, \"counts\": 553}, {\"year\": 2016, \"dayofyear\": 38, \"counts\": 423}, {\"year\": 2016, \"dayofyear\": 39, \"counts\": 501}, {\"year\": 2016, \"dayofyear\": 40, \"counts\": 571}, {\"year\": 2016, \"dayofyear\": 41, \"counts\": 537}, {\"year\": 2016, \"dayofyear\": 42, \"counts\": 622}, {\"year\": 2016, \"dayofyear\": 43, \"counts\": 628}, {\"year\": 2016, \"dayofyear\": 44, \"counts\": 480}, {\"year\": 2016, \"dayofyear\": 45, \"counts\": 309}, {\"year\": 2016, \"dayofyear\": 46, \"counts\": 291}, {\"year\": 2016, \"dayofyear\": 47, \"counts\": 615}, {\"year\": 2016, \"dayofyear\": 48, \"counts\": 525}, {\"year\": 2016, \"dayofyear\": 49, \"counts\": 592}, {\"year\": 2016, \"dayofyear\": 50, \"counts\": 532}, {\"year\": 2016, \"dayofyear\": 51, \"counts\": 555}, {\"year\": 2016, \"dayofyear\": 52, \"counts\": 481}, {\"year\": 2016, \"dayofyear\": 53, \"counts\": 615}, {\"year\": 2016, \"dayofyear\": 54, \"counts\": 623}, {\"year\": 2016, \"dayofyear\": 55, \"counts\": 660}, {\"year\": 2016, \"dayofyear\": 56, \"counts\": 663}, {\"year\": 2016, \"dayofyear\": 57, \"counts\": 476}, {\"year\": 2016, \"dayofyear\": 58, \"counts\": 388}, {\"year\": 2016, \"dayofyear\": 59, \"counts\": 509}, {\"year\": 2016, \"dayofyear\": 60, \"counts\": 616}, {\"year\": 2016, \"dayofyear\": 61, \"counts\": 662}, {\"year\": 2016, \"dayofyear\": 62, \"counts\": 653}, {\"year\": 2016, \"dayofyear\": 63, \"counts\": 625}, {\"year\": 2016, \"dayofyear\": 64, \"counts\": 685}, {\"year\": 2016, \"dayofyear\": 65, \"counts\": 601}, {\"year\": 2016, \"dayofyear\": 66, \"counts\": 500}, {\"year\": 2016, \"dayofyear\": 67, \"counts\": 571}, {\"year\": 2016, \"dayofyear\": 68, \"counts\": 632}, {\"year\": 2016, \"dayofyear\": 69, \"counts\": 660}, {\"year\": 2016, \"dayofyear\": 70, \"counts\": 629}, {\"year\": 2016, \"dayofyear\": 71, \"counts\": 672}, {\"year\": 2016, \"dayofyear\": 72, \"counts\": 625}, {\"year\": 2016, \"dayofyear\": 73, \"counts\": 435}, {\"year\": 2016, \"dayofyear\": 74, \"counts\": 640}, {\"year\": 2016, \"dayofyear\": 75, \"counts\": 608}, {\"year\": 2016, \"dayofyear\": 76, \"counts\": 629}, {\"year\": 2016, \"dayofyear\": 77, \"counts\": 612}, {\"year\": 2016, \"dayofyear\": 78, \"counts\": 644}, {\"year\": 2016, \"dayofyear\": 79, \"counts\": 540}, {\"year\": 2016, \"dayofyear\": 80, \"counts\": 479}, {\"year\": 2016, \"dayofyear\": 81, \"counts\": 617}, {\"year\": 2016, \"dayofyear\": 82, \"counts\": 628}, {\"year\": 2016, \"dayofyear\": 83, \"counts\": 621}, {\"year\": 2016, \"dayofyear\": 84, \"counts\": 635}, {\"year\": 2016, \"dayofyear\": 85, \"counts\": 546}, {\"year\": 2016, \"dayofyear\": 86, \"counts\": 530}, {\"year\": 2016, \"dayofyear\": 87, \"counts\": 459}, {\"year\": 2016, \"dayofyear\": 88, \"counts\": 658}, {\"year\": 2016, \"dayofyear\": 89, \"counts\": 683}, {\"year\": 2016, \"dayofyear\": 90, \"counts\": 650}, {\"year\": 2016, \"dayofyear\": 91, \"counts\": 652}, {\"year\": 2016, \"dayofyear\": 92, \"counts\": 702}, {\"year\": 2016, \"dayofyear\": 93, \"counts\": 597}, {\"year\": 2016, \"dayofyear\": 94, \"counts\": 585}, {\"year\": 2016, \"dayofyear\": 95, \"counts\": 683}, {\"year\": 2016, \"dayofyear\": 96, \"counts\": 672}, {\"year\": 2016, \"dayofyear\": 97, \"counts\": 628}, {\"year\": 2016, \"dayofyear\": 98, \"counts\": 630}, {\"year\": 2016, \"dayofyear\": 99, \"counts\": 696}, {\"year\": 2016, \"dayofyear\": 100, \"counts\": 557}, {\"year\": 2016, \"dayofyear\": 101, \"counts\": 499}, {\"year\": 2016, \"dayofyear\": 102, \"counts\": 624}, {\"year\": 2016, \"dayofyear\": 103, \"counts\": 638}, {\"year\": 2016, \"dayofyear\": 104, \"counts\": 700}, {\"year\": 2016, \"dayofyear\": 105, \"counts\": 674}, {\"year\": 2016, \"dayofyear\": 106, \"counts\": 733}, {\"year\": 2016, \"dayofyear\": 107, \"counts\": 678}, {\"year\": 2016, \"dayofyear\": 108, \"counts\": 568}, {\"year\": 2016, \"dayofyear\": 109, \"counts\": 687}, {\"year\": 2016, \"dayofyear\": 110, \"counts\": 732}, {\"year\": 2016, \"dayofyear\": 111, \"counts\": 697}, {\"year\": 2016, \"dayofyear\": 112, \"counts\": 694}, {\"year\": 2016, \"dayofyear\": 113, \"counts\": 741}, {\"year\": 2016, \"dayofyear\": 114, \"counts\": 649}, {\"year\": 2016, \"dayofyear\": 115, \"counts\": 448}, {\"year\": 2016, \"dayofyear\": 116, \"counts\": 488}, {\"year\": 2016, \"dayofyear\": 117, \"counts\": 479}, {\"year\": 2016, \"dayofyear\": 118, \"counts\": 510}, {\"year\": 2016, \"dayofyear\": 119, \"counts\": 489}, {\"year\": 2016, \"dayofyear\": 120, \"counts\": 517}, {\"year\": 2016, \"dayofyear\": 121, \"counts\": 581}, {\"year\": 2016, \"dayofyear\": 122, \"counts\": 484}, {\"year\": 2016, \"dayofyear\": 123, \"counts\": 589}, {\"year\": 2016, \"dayofyear\": 124, \"counts\": 711}, {\"year\": 2016, \"dayofyear\": 125, \"counts\": 653}, {\"year\": 2016, \"dayofyear\": 126, \"counts\": 626}, {\"year\": 2016, \"dayofyear\": 127, \"counts\": 728}, {\"year\": 2016, \"dayofyear\": 128, \"counts\": 571}, {\"year\": 2016, \"dayofyear\": 129, \"counts\": 591}, {\"year\": 2016, \"dayofyear\": 130, \"counts\": 646}, {\"year\": 2016, \"dayofyear\": 131, \"counts\": 608}, {\"year\": 2016, \"dayofyear\": 132, \"counts\": 699}, {\"year\": 2016, \"dayofyear\": 133, \"counts\": 744}, {\"year\": 2016, \"dayofyear\": 134, \"counts\": 766}, {\"year\": 2016, \"dayofyear\": 135, \"counts\": 589}, {\"year\": 2016, \"dayofyear\": 136, \"counts\": 510}, {\"year\": 2016, \"dayofyear\": 137, \"counts\": 742}, {\"year\": 2016, \"dayofyear\": 138, \"counts\": 624}, {\"year\": 2016, \"dayofyear\": 139, \"counts\": 676}, {\"year\": 2016, \"dayofyear\": 140, \"counts\": 694}, {\"year\": 2016, \"dayofyear\": 141, \"counts\": 782}, {\"year\": 2016, \"dayofyear\": 142, \"counts\": 568}, {\"year\": 2016, \"dayofyear\": 143, \"counts\": 571}, {\"year\": 2016, \"dayofyear\": 144, \"counts\": 652}, {\"year\": 2016, \"dayofyear\": 145, \"counts\": 695}, {\"year\": 2016, \"dayofyear\": 146, \"counts\": 733}, {\"year\": 2016, \"dayofyear\": 147, \"counts\": 742}, {\"year\": 2016, \"dayofyear\": 148, \"counts\": 767}, {\"year\": 2016, \"dayofyear\": 149, \"counts\": 627}, {\"year\": 2016, \"dayofyear\": 150, \"counts\": 566}, {\"year\": 2016, \"dayofyear\": 151, \"counts\": 471}, {\"year\": 2016, \"dayofyear\": 152, \"counts\": 760}, {\"year\": 2016, \"dayofyear\": 153, \"counts\": 772}, {\"year\": 2016, \"dayofyear\": 154, \"counts\": 683}, {\"year\": 2016, \"dayofyear\": 155, \"counts\": 710}, {\"year\": 2016, \"dayofyear\": 156, \"counts\": 635}, {\"year\": 2016, \"dayofyear\": 157, \"counts\": 466}, {\"year\": 2016, \"dayofyear\": 158, \"counts\": 758}, {\"year\": 2016, \"dayofyear\": 159, \"counts\": 709}, {\"year\": 2016, \"dayofyear\": 160, \"counts\": 763}, {\"year\": 2016, \"dayofyear\": 161, \"counts\": 686}, {\"year\": 2016, \"dayofyear\": 162, \"counts\": 818}, {\"year\": 2016, \"dayofyear\": 163, \"counts\": 584}, {\"year\": 2016, \"dayofyear\": 164, \"counts\": 587}, {\"year\": 2016, \"dayofyear\": 165, \"counts\": 646}, {\"year\": 2016, \"dayofyear\": 166, \"counts\": 717}, {\"year\": 2016, \"dayofyear\": 167, \"counts\": 739}, {\"year\": 2016, \"dayofyear\": 168, \"counts\": 689}, {\"year\": 2016, \"dayofyear\": 169, \"counts\": 748}, {\"year\": 2016, \"dayofyear\": 170, \"counts\": 700}, {\"year\": 2016, \"dayofyear\": 171, \"counts\": 559}, {\"year\": 2016, \"dayofyear\": 172, \"counts\": 745}, {\"year\": 2016, \"dayofyear\": 173, \"counts\": 681}, {\"year\": 2016, \"dayofyear\": 174, \"counts\": 751}, {\"year\": 2016, \"dayofyear\": 175, \"counts\": 643}, {\"year\": 2016, \"dayofyear\": 176, \"counts\": 811}, {\"year\": 2016, \"dayofyear\": 177, \"counts\": 688}, {\"year\": 2016, \"dayofyear\": 178, \"counts\": 582}, {\"year\": 2016, \"dayofyear\": 179, \"counts\": 718}, {\"year\": 2016, \"dayofyear\": 180, \"counts\": 675}, {\"year\": 2016, \"dayofyear\": 181, \"counts\": 687}, {\"year\": 2016, \"dayofyear\": 182, \"counts\": 761}, {\"year\": 2016, \"dayofyear\": 183, \"counts\": 752}, {\"year\": 2016, \"dayofyear\": 184, \"counts\": 570}, {\"year\": 2016, \"dayofyear\": 185, \"counts\": 448}, {\"year\": 2016, \"dayofyear\": 186, \"counts\": 488}, {\"year\": 2016, \"dayofyear\": 187, \"counts\": 663}, {\"year\": 2016, \"dayofyear\": 188, \"counts\": 679}, {\"year\": 2016, \"dayofyear\": 189, \"counts\": 603}, {\"year\": 2016, \"dayofyear\": 190, \"counts\": 612}, {\"year\": 2016, \"dayofyear\": 191, \"counts\": 498}, {\"year\": 2016, \"dayofyear\": 192, \"counts\": 508}, {\"year\": 2016, \"dayofyear\": 193, \"counts\": 618}, {\"year\": 2016, \"dayofyear\": 194, \"counts\": 662}, {\"year\": 2016, \"dayofyear\": 195, \"counts\": 607}, {\"year\": 2016, \"dayofyear\": 196, \"counts\": 741}, {\"year\": 2016, \"dayofyear\": 197, \"counts\": 798}, {\"year\": 2016, \"dayofyear\": 198, \"counts\": 623}, {\"year\": 2016, \"dayofyear\": 199, \"counts\": 574}, {\"year\": 2016, \"dayofyear\": 200, \"counts\": 725}, {\"year\": 2016, \"dayofyear\": 201, \"counts\": 699}, {\"year\": 2016, \"dayofyear\": 202, \"counts\": 698}, {\"year\": 2016, \"dayofyear\": 203, \"counts\": 731}, {\"year\": 2016, \"dayofyear\": 204, \"counts\": 769}, {\"year\": 2016, \"dayofyear\": 205, \"counts\": 650}, {\"year\": 2016, \"dayofyear\": 206, \"counts\": 566}, {\"year\": 2016, \"dayofyear\": 207, \"counts\": 698}, {\"year\": 2016, \"dayofyear\": 208, \"counts\": 688}, {\"year\": 2016, \"dayofyear\": 209, \"counts\": 690}, {\"year\": 2016, \"dayofyear\": 210, \"counts\": 709}, {\"year\": 2016, \"dayofyear\": 211, \"counts\": 774}, {\"year\": 2016, \"dayofyear\": 212, \"counts\": 599}, {\"year\": 2016, \"dayofyear\": 213, \"counts\": 529}, {\"year\": 2016, \"dayofyear\": 214, \"counts\": 569}, {\"year\": 2016, \"dayofyear\": 215, \"counts\": 602}, {\"year\": 2016, \"dayofyear\": 216, \"counts\": 687}, {\"year\": 2016, \"dayofyear\": 217, \"counts\": 715}, {\"year\": 2016, \"dayofyear\": 218, \"counts\": 700}, {\"year\": 2016, \"dayofyear\": 219, \"counts\": 578}, {\"year\": 2016, \"dayofyear\": 220, \"counts\": 540}, {\"year\": 2016, \"dayofyear\": 221, \"counts\": 632}, {\"year\": 2016, \"dayofyear\": 222, \"counts\": 650}, {\"year\": 2016, \"dayofyear\": 223, \"counts\": 618}, {\"year\": 2016, \"dayofyear\": 224, \"counts\": 672}, {\"year\": 2016, \"dayofyear\": 225, \"counts\": 729}, {\"year\": 2016, \"dayofyear\": 226, \"counts\": 614}, {\"year\": 2016, \"dayofyear\": 227, \"counts\": 521}, {\"year\": 2016, \"dayofyear\": 228, \"counts\": 643}, {\"year\": 2016, \"dayofyear\": 229, \"counts\": 644}, {\"year\": 2016, \"dayofyear\": 230, \"counts\": 658}, {\"year\": 2016, \"dayofyear\": 231, \"counts\": 635}, {\"year\": 2016, \"dayofyear\": 232, \"counts\": 707}, {\"year\": 2016, \"dayofyear\": 233, \"counts\": 579}, {\"year\": 2016, \"dayofyear\": 234, \"counts\": 512}, {\"year\": 2016, \"dayofyear\": 235, \"counts\": 668}, {\"year\": 2016, \"dayofyear\": 236, \"counts\": 637}, {\"year\": 2016, \"dayofyear\": 237, \"counts\": 635}, {\"year\": 2016, \"dayofyear\": 238, \"counts\": 659}, {\"year\": 2016, \"dayofyear\": 239, \"counts\": 756}, {\"year\": 2016, \"dayofyear\": 240, \"counts\": 624}, {\"year\": 2016, \"dayofyear\": 241, \"counts\": 559}, {\"year\": 2016, \"dayofyear\": 242, \"counts\": 673}, {\"year\": 2016, \"dayofyear\": 243, \"counts\": 622}, {\"year\": 2016, \"dayofyear\": 244, \"counts\": 661}, {\"year\": 2016, \"dayofyear\": 245, \"counts\": 675}, {\"year\": 2016, \"dayofyear\": 246, \"counts\": 697}, {\"year\": 2016, \"dayofyear\": 247, \"counts\": 498}, {\"year\": 2016, \"dayofyear\": 248, \"counts\": 466}, {\"year\": 2016, \"dayofyear\": 249, \"counts\": 419}, {\"year\": 2016, \"dayofyear\": 250, \"counts\": 626}, {\"year\": 2016, \"dayofyear\": 251, \"counts\": 648}, {\"year\": 2016, \"dayofyear\": 252, \"counts\": 717}, {\"year\": 2016, \"dayofyear\": 253, \"counts\": 715}, {\"year\": 2016, \"dayofyear\": 254, \"counts\": 598}, {\"year\": 2016, \"dayofyear\": 255, \"counts\": 538}, {\"year\": 2016, \"dayofyear\": 256, \"counts\": 648}, {\"year\": 2016, \"dayofyear\": 257, \"counts\": 779}, {\"year\": 2016, \"dayofyear\": 258, \"counts\": 779}, {\"year\": 2016, \"dayofyear\": 259, \"counts\": 757}, {\"year\": 2016, \"dayofyear\": 260, \"counts\": 780}, {\"year\": 2016, \"dayofyear\": 261, \"counts\": 646}, {\"year\": 2016, \"dayofyear\": 262, \"counts\": 535}, {\"year\": 2016, \"dayofyear\": 263, \"counts\": 680}, {\"year\": 2016, \"dayofyear\": 264, \"counts\": 619}, {\"year\": 2016, \"dayofyear\": 265, \"counts\": 621}, {\"year\": 2016, \"dayofyear\": 266, \"counts\": 660}, {\"year\": 2016, \"dayofyear\": 267, \"counts\": 812}, {\"year\": 2016, \"dayofyear\": 268, \"counts\": 612}, {\"year\": 2016, \"dayofyear\": 269, \"counts\": 572}, {\"year\": 2016, \"dayofyear\": 270, \"counts\": 623}, {\"year\": 2016, \"dayofyear\": 271, \"counts\": 659}, {\"year\": 2016, \"dayofyear\": 272, \"counts\": 637}, {\"year\": 2016, \"dayofyear\": 273, \"counts\": 624}, {\"year\": 2016, \"dayofyear\": 274, \"counts\": 872}, {\"year\": 2016, \"dayofyear\": 275, \"counts\": 581}, {\"year\": 2016, \"dayofyear\": 276, \"counts\": 486}, {\"year\": 2016, \"dayofyear\": 277, \"counts\": 490}, {\"year\": 2016, \"dayofyear\": 278, \"counts\": 523}, {\"year\": 2016, \"dayofyear\": 279, \"counts\": 695}, {\"year\": 2016, \"dayofyear\": 280, \"counts\": 764}, {\"year\": 2016, \"dayofyear\": 281, \"counts\": 754}, {\"year\": 2016, \"dayofyear\": 282, \"counts\": 633}, {\"year\": 2016, \"dayofyear\": 283, \"counts\": 480}, {\"year\": 2016, \"dayofyear\": 284, \"counts\": 539}, {\"year\": 2016, \"dayofyear\": 285, \"counts\": 739}, {\"year\": 2016, \"dayofyear\": 286, \"counts\": 498}, {\"year\": 2016, \"dayofyear\": 287, \"counts\": 757}, {\"year\": 2016, \"dayofyear\": 288, \"counts\": 767}, {\"year\": 2016, \"dayofyear\": 289, \"counts\": 641}, {\"year\": 2016, \"dayofyear\": 290, \"counts\": 503}, {\"year\": 2016, \"dayofyear\": 291, \"counts\": 585}, {\"year\": 2016, \"dayofyear\": 292, \"counts\": 590}, {\"year\": 2016, \"dayofyear\": 293, \"counts\": 676}, {\"year\": 2016, \"dayofyear\": 294, \"counts\": 662}, {\"year\": 2016, \"dayofyear\": 295, \"counts\": 851}, {\"year\": 2016, \"dayofyear\": 296, \"counts\": 629}, {\"year\": 2016, \"dayofyear\": 297, \"counts\": 534}, {\"year\": 2016, \"dayofyear\": 298, \"counts\": 573}, {\"year\": 2016, \"dayofyear\": 299, \"counts\": 566}, {\"year\": 2016, \"dayofyear\": 300, \"counts\": 706}, {\"year\": 2016, \"dayofyear\": 301, \"counts\": 831}, {\"year\": 2016, \"dayofyear\": 302, \"counts\": 798}, {\"year\": 2016, \"dayofyear\": 303, \"counts\": 614}, {\"year\": 2016, \"dayofyear\": 304, \"counts\": 557}, {\"year\": 2016, \"dayofyear\": 305, \"counts\": 655}, {\"year\": 2016, \"dayofyear\": 306, \"counts\": 732}, {\"year\": 2016, \"dayofyear\": 307, \"counts\": 665}, {\"year\": 2016, \"dayofyear\": 308, \"counts\": 689}, {\"year\": 2016, \"dayofyear\": 309, \"counts\": 777}, {\"year\": 2016, \"dayofyear\": 310, \"counts\": 626}, {\"year\": 2016, \"dayofyear\": 311, \"counts\": 532}, {\"year\": 2016, \"dayofyear\": 312, \"counts\": 699}, {\"year\": 2016, \"dayofyear\": 313, \"counts\": 620}, {\"year\": 2016, \"dayofyear\": 314, \"counts\": 541}, {\"year\": 2016, \"dayofyear\": 315, \"counts\": 706}, {\"year\": 2016, \"dayofyear\": 316, \"counts\": 665}, {\"year\": 2016, \"dayofyear\": 317, \"counts\": 603}, {\"year\": 2016, \"dayofyear\": 318, \"counts\": 518}, {\"year\": 2016, \"dayofyear\": 319, \"counts\": 668}, {\"year\": 2016, \"dayofyear\": 320, \"counts\": 741}, {\"year\": 2016, \"dayofyear\": 321, \"counts\": 705}, {\"year\": 2016, \"dayofyear\": 322, \"counts\": 707}, {\"year\": 2016, \"dayofyear\": 323, \"counts\": 776}, {\"year\": 2016, \"dayofyear\": 324, \"counts\": 692}, {\"year\": 2016, \"dayofyear\": 325, \"counts\": 529}, {\"year\": 2016, \"dayofyear\": 326, \"counts\": 684}, {\"year\": 2016, \"dayofyear\": 327, \"counts\": 765}, {\"year\": 2016, \"dayofyear\": 328, \"counts\": 807}, {\"year\": 2016, \"dayofyear\": 329, \"counts\": 428}, {\"year\": 2016, \"dayofyear\": 330, \"counts\": 455}, {\"year\": 2016, \"dayofyear\": 331, \"counts\": 463}, {\"year\": 2016, \"dayofyear\": 332, \"counts\": 466}, {\"year\": 2016, \"dayofyear\": 333, \"counts\": 647}, {\"year\": 2016, \"dayofyear\": 334, \"counts\": 752}, {\"year\": 2016, \"dayofyear\": 335, \"counts\": 730}, {\"year\": 2016, \"dayofyear\": 336, \"counts\": 734}, {\"year\": 2016, \"dayofyear\": 337, \"counts\": 690}, {\"year\": 2016, \"dayofyear\": 338, \"counts\": 592}, {\"year\": 2016, \"dayofyear\": 339, \"counts\": 482}, {\"year\": 2016, \"dayofyear\": 340, \"counts\": 791}, {\"year\": 2016, \"dayofyear\": 341, \"counts\": 711}, {\"year\": 2016, \"dayofyear\": 342, \"counts\": 637}, {\"year\": 2016, \"dayofyear\": 343, \"counts\": 635}, {\"year\": 2016, \"dayofyear\": 344, \"counts\": 701}, {\"year\": 2016, \"dayofyear\": 345, \"counts\": 555}, {\"year\": 2016, \"dayofyear\": 346, \"counts\": 522}, {\"year\": 2016, \"dayofyear\": 347, \"counts\": 665}, {\"year\": 2016, \"dayofyear\": 348, \"counts\": 630}, {\"year\": 2016, \"dayofyear\": 349, \"counts\": 689}, {\"year\": 2016, \"dayofyear\": 350, \"counts\": 749}, {\"year\": 2016, \"dayofyear\": 351, \"counts\": 792}, {\"year\": 2016, \"dayofyear\": 352, \"counts\": 623}, {\"year\": 2016, \"dayofyear\": 353, \"counts\": 521}, {\"year\": 2016, \"dayofyear\": 354, \"counts\": 722}, {\"year\": 2016, \"dayofyear\": 355, \"counts\": 719}, {\"year\": 2016, \"dayofyear\": 356, \"counts\": 676}, {\"year\": 2016, \"dayofyear\": 357, \"counts\": 700}, {\"year\": 2016, \"dayofyear\": 358, \"counts\": 692}, {\"year\": 2016, \"dayofyear\": 359, \"counts\": 554}, {\"year\": 2016, \"dayofyear\": 360, \"counts\": 365}, {\"year\": 2016, \"dayofyear\": 361, \"counts\": 394}, {\"year\": 2016, \"dayofyear\": 362, \"counts\": 569}, {\"year\": 2016, \"dayofyear\": 363, \"counts\": 546}, {\"year\": 2016, \"dayofyear\": 364, \"counts\": 542}, {\"year\": 2016, \"dayofyear\": 365, \"counts\": 583}, {\"year\": 2016, \"dayofyear\": 366, \"counts\": 465}, {\"year\": 2017, \"dayofyear\": 1, \"counts\": 485}, {\"year\": 2017, \"dayofyear\": 2, \"counts\": 449}, {\"year\": 2017, \"dayofyear\": 3, \"counts\": 659}, {\"year\": 2017, \"dayofyear\": 4, \"counts\": 590}, {\"year\": 2017, \"dayofyear\": 5, \"counts\": 552}, {\"year\": 2017, \"dayofyear\": 6, \"counts\": 600}, {\"year\": 2017, \"dayofyear\": 7, \"counts\": 896}, {\"year\": 2017, \"dayofyear\": 8, \"counts\": 406}, {\"year\": 2017, \"dayofyear\": 9, \"counts\": 669}, {\"year\": 2017, \"dayofyear\": 10, \"counts\": 597}, {\"year\": 2017, \"dayofyear\": 11, \"counts\": 629}, {\"year\": 2017, \"dayofyear\": 12, \"counts\": 646}, {\"year\": 2017, \"dayofyear\": 13, \"counts\": 604}, {\"year\": 2017, \"dayofyear\": 14, \"counts\": 495}, {\"year\": 2017, \"dayofyear\": 15, \"counts\": 490}, {\"year\": 2017, \"dayofyear\": 16, \"counts\": 477}, {\"year\": 2017, \"dayofyear\": 17, \"counts\": 657}, {\"year\": 2017, \"dayofyear\": 18, \"counts\": 549}, {\"year\": 2017, \"dayofyear\": 19, \"counts\": 610}, {\"year\": 2017, \"dayofyear\": 20, \"counts\": 605}, {\"year\": 2017, \"dayofyear\": 21, \"counts\": 475}, {\"year\": 2017, \"dayofyear\": 22, \"counts\": 411}, {\"year\": 2017, \"dayofyear\": 23, \"counts\": 667}, {\"year\": 2017, \"dayofyear\": 24, \"counts\": 564}, {\"year\": 2017, \"dayofyear\": 25, \"counts\": 576}, {\"year\": 2017, \"dayofyear\": 26, \"counts\": 563}, {\"year\": 2017, \"dayofyear\": 27, \"counts\": 583}, {\"year\": 2017, \"dayofyear\": 28, \"counts\": 501}, {\"year\": 2017, \"dayofyear\": 29, \"counts\": 428}, {\"year\": 2017, \"dayofyear\": 30, \"counts\": 545}, {\"year\": 2017, \"dayofyear\": 31, \"counts\": 571}, {\"year\": 2017, \"dayofyear\": 32, \"counts\": 574}, {\"year\": 2017, \"dayofyear\": 33, \"counts\": 586}, {\"year\": 2017, \"dayofyear\": 34, \"counts\": 609}, {\"year\": 2017, \"dayofyear\": 35, \"counts\": 541}, {\"year\": 2017, \"dayofyear\": 36, \"counts\": 429}, {\"year\": 2017, \"dayofyear\": 37, \"counts\": 567}, {\"year\": 2017, \"dayofyear\": 38, \"counts\": 626}, {\"year\": 2017, \"dayofyear\": 39, \"counts\": 673}, {\"year\": 2017, \"dayofyear\": 40, \"counts\": 507}, {\"year\": 2017, \"dayofyear\": 41, \"counts\": 708}, {\"year\": 2017, \"dayofyear\": 42, \"counts\": 511}, {\"year\": 2017, \"dayofyear\": 43, \"counts\": 439}, {\"year\": 2017, \"dayofyear\": 44, \"counts\": 642}, {\"year\": 2017, \"dayofyear\": 45, \"counts\": 688}, {\"year\": 2017, \"dayofyear\": 46, \"counts\": 603}, {\"year\": 2017, \"dayofyear\": 47, \"counts\": 652}, {\"year\": 2017, \"dayofyear\": 48, \"counts\": 680}, {\"year\": 2017, \"dayofyear\": 49, \"counts\": 570}, {\"year\": 2017, \"dayofyear\": 50, \"counts\": 438}, {\"year\": 2017, \"dayofyear\": 51, \"counts\": 428}, {\"year\": 2017, \"dayofyear\": 52, \"counts\": 483}, {\"year\": 2017, \"dayofyear\": 53, \"counts\": 477}, {\"year\": 2017, \"dayofyear\": 54, \"counts\": 581}, {\"year\": 2017, \"dayofyear\": 55, \"counts\": 657}, {\"year\": 2017, \"dayofyear\": 56, \"counts\": 573}, {\"year\": 2017, \"dayofyear\": 57, \"counts\": 462}, {\"year\": 2017, \"dayofyear\": 58, \"counts\": 540}, {\"year\": 2017, \"dayofyear\": 59, \"counts\": 591}, {\"year\": 2017, \"dayofyear\": 60, \"counts\": 571}, {\"year\": 2017, \"dayofyear\": 61, \"counts\": 653}, {\"year\": 2017, \"dayofyear\": 62, \"counts\": 745}, {\"year\": 2017, \"dayofyear\": 63, \"counts\": 536}, {\"year\": 2017, \"dayofyear\": 64, \"counts\": 489}, {\"year\": 2017, \"dayofyear\": 65, \"counts\": 618}, {\"year\": 2017, \"dayofyear\": 66, \"counts\": 637}, {\"year\": 2017, \"dayofyear\": 67, \"counts\": 609}, {\"year\": 2017, \"dayofyear\": 68, \"counts\": 665}, {\"year\": 2017, \"dayofyear\": 69, \"counts\": 612}, {\"year\": 2017, \"dayofyear\": 70, \"counts\": 548}, {\"year\": 2017, \"dayofyear\": 71, \"counts\": 516}, {\"year\": 2017, \"dayofyear\": 72, \"counts\": 792}, {\"year\": 2017, \"dayofyear\": 73, \"counts\": 374}, {\"year\": 2017, \"dayofyear\": 74, \"counts\": 650}, {\"year\": 2017, \"dayofyear\": 75, \"counts\": 839}, {\"year\": 2017, \"dayofyear\": 76, \"counts\": 756}, {\"year\": 2017, \"dayofyear\": 77, \"counts\": 504}, {\"year\": 2017, \"dayofyear\": 78, \"counts\": 550}, {\"year\": 2017, \"dayofyear\": 79, \"counts\": 750}, {\"year\": 2017, \"dayofyear\": 80, \"counts\": 636}, {\"year\": 2017, \"dayofyear\": 81, \"counts\": 617}, {\"year\": 2017, \"dayofyear\": 82, \"counts\": 703}, {\"year\": 2017, \"dayofyear\": 83, \"counts\": 654}, {\"year\": 2017, \"dayofyear\": 84, \"counts\": 571}, {\"year\": 2017, \"dayofyear\": 85, \"counts\": 456}, {\"year\": 2017, \"dayofyear\": 86, \"counts\": 629}, {\"year\": 2017, \"dayofyear\": 87, \"counts\": 592}, {\"year\": 2017, \"dayofyear\": 88, \"counts\": 672}, {\"year\": 2017, \"dayofyear\": 89, \"counts\": 639}, {\"year\": 2017, \"dayofyear\": 90, \"counts\": 753}, {\"year\": 2017, \"dayofyear\": 91, \"counts\": 591}, {\"year\": 2017, \"dayofyear\": 92, \"counts\": 514}, {\"year\": 2017, \"dayofyear\": 93, \"counts\": 646}, {\"year\": 2017, \"dayofyear\": 94, \"counts\": 598}, {\"year\": 2017, \"dayofyear\": 95, \"counts\": 587}, {\"year\": 2017, \"dayofyear\": 96, \"counts\": 713}, {\"year\": 2017, \"dayofyear\": 97, \"counts\": 694}, {\"year\": 2017, \"dayofyear\": 98, \"counts\": 627}, {\"year\": 2017, \"dayofyear\": 99, \"counts\": 541}, {\"year\": 2017, \"dayofyear\": 100, \"counts\": 634}, {\"year\": 2017, \"dayofyear\": 101, \"counts\": 519}, {\"year\": 2017, \"dayofyear\": 102, \"counts\": 540}, {\"year\": 2017, \"dayofyear\": 103, \"counts\": 590}, {\"year\": 2017, \"dayofyear\": 104, \"counts\": 515}, {\"year\": 2017, \"dayofyear\": 105, \"counts\": 495}, {\"year\": 2017, \"dayofyear\": 106, \"counts\": 481}, {\"year\": 2017, \"dayofyear\": 107, \"counts\": 488}, {\"year\": 2017, \"dayofyear\": 108, \"counts\": 516}, {\"year\": 2017, \"dayofyear\": 109, \"counts\": 580}, {\"year\": 2017, \"dayofyear\": 110, \"counts\": 632}, {\"year\": 2017, \"dayofyear\": 111, \"counts\": 690}, {\"year\": 2017, \"dayofyear\": 112, \"counts\": 551}, {\"year\": 2017, \"dayofyear\": 113, \"counts\": 517}, {\"year\": 2017, \"dayofyear\": 114, \"counts\": 541}, {\"year\": 2017, \"dayofyear\": 115, \"counts\": 723}, {\"year\": 2017, \"dayofyear\": 116, \"counts\": 630}, {\"year\": 2017, \"dayofyear\": 117, \"counts\": 688}, {\"year\": 2017, \"dayofyear\": 118, \"counts\": 857}, {\"year\": 2017, \"dayofyear\": 119, \"counts\": 661}, {\"year\": 2017, \"dayofyear\": 120, \"counts\": 470}, {\"year\": 2017, \"dayofyear\": 121, \"counts\": 639}, {\"year\": 2017, \"dayofyear\": 122, \"counts\": 743}, {\"year\": 2017, \"dayofyear\": 123, \"counts\": 714}, {\"year\": 2017, \"dayofyear\": 124, \"counts\": 701}, {\"year\": 2017, \"dayofyear\": 125, \"counts\": 776}, {\"year\": 2017, \"dayofyear\": 126, \"counts\": 685}, {\"year\": 2017, \"dayofyear\": 127, \"counts\": 514}, {\"year\": 2017, \"dayofyear\": 128, \"counts\": 638}, {\"year\": 2017, \"dayofyear\": 129, \"counts\": 651}, {\"year\": 2017, \"dayofyear\": 130, \"counts\": 668}, {\"year\": 2017, \"dayofyear\": 131, \"counts\": 686}, {\"year\": 2017, \"dayofyear\": 132, \"counts\": 817}, {\"year\": 2017, \"dayofyear\": 133, \"counts\": 683}, {\"year\": 2017, \"dayofyear\": 134, \"counts\": 633}, {\"year\": 2017, \"dayofyear\": 135, \"counts\": 729}, {\"year\": 2017, \"dayofyear\": 136, \"counts\": 694}, {\"year\": 2017, \"dayofyear\": 137, \"counts\": 753}, {\"year\": 2017, \"dayofyear\": 138, \"counts\": 911}, {\"year\": 2017, \"dayofyear\": 139, \"counts\": 974}, {\"year\": 2017, \"dayofyear\": 140, \"counts\": 612}, {\"year\": 2017, \"dayofyear\": 141, \"counts\": 618}, {\"year\": 2017, \"dayofyear\": 142, \"counts\": 719}, {\"year\": 2017, \"dayofyear\": 143, \"counts\": 659}, {\"year\": 2017, \"dayofyear\": 144, \"counts\": 641}, {\"year\": 2017, \"dayofyear\": 145, \"counts\": 742}, {\"year\": 2017, \"dayofyear\": 146, \"counts\": 776}, {\"year\": 2017, \"dayofyear\": 147, \"counts\": 475}, {\"year\": 2017, \"dayofyear\": 148, \"counts\": 475}, {\"year\": 2017, \"dayofyear\": 149, \"counts\": 371}, {\"year\": 2017, \"dayofyear\": 150, \"counts\": 647}, {\"year\": 2017, \"dayofyear\": 151, \"counts\": 669}, {\"year\": 2017, \"dayofyear\": 152, \"counts\": 654}, {\"year\": 2017, \"dayofyear\": 153, \"counts\": 737}, {\"year\": 2017, \"dayofyear\": 154, \"counts\": 637}, {\"year\": 2017, \"dayofyear\": 155, \"counts\": 468}, {\"year\": 2017, \"dayofyear\": 156, \"counts\": 656}, {\"year\": 2017, \"dayofyear\": 157, \"counts\": 660}, {\"year\": 2017, \"dayofyear\": 158, \"counts\": 675}, {\"year\": 2017, \"dayofyear\": 159, \"counts\": 660}, {\"year\": 2017, \"dayofyear\": 160, \"counts\": 770}, {\"year\": 2017, \"dayofyear\": 161, \"counts\": 665}, {\"year\": 2017, \"dayofyear\": 162, \"counts\": 702}, {\"year\": 2017, \"dayofyear\": 163, \"counts\": 804}, {\"year\": 2017, \"dayofyear\": 164, \"counts\": 829}, {\"year\": 2017, \"dayofyear\": 165, \"counts\": 754}, {\"year\": 2017, \"dayofyear\": 166, \"counts\": 771}, {\"year\": 2017, \"dayofyear\": 167, \"counts\": 657}, {\"year\": 2017, \"dayofyear\": 168, \"counts\": 654}, {\"year\": 2017, \"dayofyear\": 169, \"counts\": 593}, {\"year\": 2017, \"dayofyear\": 170, \"counts\": 819}, {\"year\": 2017, \"dayofyear\": 171, \"counts\": 813}, {\"year\": 2017, \"dayofyear\": 172, \"counts\": 744}, {\"year\": 2017, \"dayofyear\": 173, \"counts\": 845}, {\"year\": 2017, \"dayofyear\": 174, \"counts\": 793}, {\"year\": 2017, \"dayofyear\": 175, \"counts\": 753}, {\"year\": 2017, \"dayofyear\": 176, \"counts\": 590}, {\"year\": 2017, \"dayofyear\": 177, \"counts\": 669}, {\"year\": 2017, \"dayofyear\": 178, \"counts\": 757}, {\"year\": 2017, \"dayofyear\": 179, \"counts\": 730}, {\"year\": 2017, \"dayofyear\": 180, \"counts\": 767}, {\"year\": 2017, \"dayofyear\": 181, \"counts\": 747}, {\"year\": 2017, \"dayofyear\": 182, \"counts\": 595}, {\"year\": 2017, \"dayofyear\": 183, \"counts\": 537}, {\"year\": 2017, \"dayofyear\": 184, \"counts\": 617}, {\"year\": 2017, \"dayofyear\": 185, \"counts\": 424}, {\"year\": 2017, \"dayofyear\": 186, \"counts\": 706}, {\"year\": 2017, \"dayofyear\": 187, \"counts\": 611}, {\"year\": 2017, \"dayofyear\": 188, \"counts\": 674}, {\"year\": 2017, \"dayofyear\": 189, \"counts\": 585}, {\"year\": 2017, \"dayofyear\": 190, \"counts\": 512}, {\"year\": 2017, \"dayofyear\": 191, \"counts\": 667}, {\"year\": 2017, \"dayofyear\": 192, \"counts\": 638}, {\"year\": 2017, \"dayofyear\": 193, \"counts\": 677}, {\"year\": 2017, \"dayofyear\": 194, \"counts\": 759}, {\"year\": 2017, \"dayofyear\": 195, \"counts\": 707}, {\"year\": 2017, \"dayofyear\": 196, \"counts\": 649}, {\"year\": 2017, \"dayofyear\": 197, \"counts\": 515}, {\"year\": 2017, \"dayofyear\": 198, \"counts\": 639}, {\"year\": 2017, \"dayofyear\": 199, \"counts\": 706}, {\"year\": 2017, \"dayofyear\": 200, \"counts\": 747}, {\"year\": 2017, \"dayofyear\": 201, \"counts\": 774}, {\"year\": 2017, \"dayofyear\": 202, \"counts\": 733}, {\"year\": 2017, \"dayofyear\": 203, \"counts\": 648}, {\"year\": 2017, \"dayofyear\": 204, \"counts\": 554}, {\"year\": 2017, \"dayofyear\": 205, \"counts\": 620}, {\"year\": 2017, \"dayofyear\": 206, \"counts\": 595}, {\"year\": 2017, \"dayofyear\": 207, \"counts\": 635}, {\"year\": 2017, \"dayofyear\": 208, \"counts\": 610}, {\"year\": 2017, \"dayofyear\": 209, \"counts\": 685}, {\"year\": 2017, \"dayofyear\": 210, \"counts\": 512}, {\"year\": 2017, \"dayofyear\": 211, \"counts\": 606}, {\"year\": 2017, \"dayofyear\": 212, \"counts\": 656}, {\"year\": 2017, \"dayofyear\": 213, \"counts\": 705}, {\"year\": 2017, \"dayofyear\": 214, \"counts\": 618}, {\"year\": 2017, \"dayofyear\": 215, \"counts\": 713}, {\"year\": 2017, \"dayofyear\": 216, \"counts\": 758}, {\"year\": 2017, \"dayofyear\": 217, \"counts\": 573}, {\"year\": 2017, \"dayofyear\": 218, \"counts\": 519}, {\"year\": 2017, \"dayofyear\": 219, \"counts\": 606}, {\"year\": 2017, \"dayofyear\": 220, \"counts\": 631}, {\"year\": 2017, \"dayofyear\": 221, \"counts\": 655}, {\"year\": 2017, \"dayofyear\": 222, \"counts\": 650}, {\"year\": 2017, \"dayofyear\": 223, \"counts\": 655}, {\"year\": 2017, \"dayofyear\": 224, \"counts\": 526}, {\"year\": 2017, \"dayofyear\": 225, \"counts\": 563}, {\"year\": 2017, \"dayofyear\": 226, \"counts\": 602}, {\"year\": 2017, \"dayofyear\": 227, \"counts\": 577}, {\"year\": 2017, \"dayofyear\": 228, \"counts\": 600}, {\"year\": 2017, \"dayofyear\": 229, \"counts\": 639}, {\"year\": 2017, \"dayofyear\": 230, \"counts\": 612}, {\"year\": 2017, \"dayofyear\": 231, \"counts\": 638}, {\"year\": 2017, \"dayofyear\": 232, \"counts\": 538}, {\"year\": 2017, \"dayofyear\": 233, \"counts\": 627}, {\"year\": 2017, \"dayofyear\": 234, \"counts\": 684}, {\"year\": 2017, \"dayofyear\": 235, \"counts\": 629}, {\"year\": 2017, \"dayofyear\": 236, \"counts\": 631}, {\"year\": 2017, \"dayofyear\": 237, \"counts\": 633}, {\"year\": 2017, \"dayofyear\": 238, \"counts\": 570}, {\"year\": 2017, \"dayofyear\": 239, \"counts\": 498}, {\"year\": 2017, \"dayofyear\": 240, \"counts\": 584}, {\"year\": 2017, \"dayofyear\": 241, \"counts\": 614}, {\"year\": 2017, \"dayofyear\": 242, \"counts\": 671}, {\"year\": 2017, \"dayofyear\": 243, \"counts\": 618}, {\"year\": 2017, \"dayofyear\": 244, \"counts\": 681}, {\"year\": 2017, \"dayofyear\": 245, \"counts\": 562}, {\"year\": 2017, \"dayofyear\": 246, \"counts\": 518}, {\"year\": 2017, \"dayofyear\": 247, \"counts\": 532}, {\"year\": 2017, \"dayofyear\": 248, \"counts\": 707}, {\"year\": 2017, \"dayofyear\": 249, \"counts\": 608}, {\"year\": 2017, \"dayofyear\": 250, \"counts\": 790}, {\"year\": 2017, \"dayofyear\": 251, \"counts\": 740}, {\"year\": 2017, \"dayofyear\": 252, \"counts\": 608}, {\"year\": 2017, \"dayofyear\": 253, \"counts\": 533}, {\"year\": 2017, \"dayofyear\": 254, \"counts\": 735}, {\"year\": 2017, \"dayofyear\": 255, \"counts\": 680}, {\"year\": 2017, \"dayofyear\": 256, \"counts\": 738}, {\"year\": 2017, \"dayofyear\": 257, \"counts\": 728}, {\"year\": 2017, \"dayofyear\": 258, \"counts\": 827}, {\"year\": 2017, \"dayofyear\": 259, \"counts\": 623}, {\"year\": 2017, \"dayofyear\": 260, \"counts\": 586}, {\"year\": 2017, \"dayofyear\": 261, \"counts\": 672}, {\"year\": 2017, \"dayofyear\": 262, \"counts\": 661}, {\"year\": 2017, \"dayofyear\": 263, \"counts\": 583}, {\"year\": 2017, \"dayofyear\": 264, \"counts\": 535}, {\"year\": 2017, \"dayofyear\": 265, \"counts\": 614}, {\"year\": 2017, \"dayofyear\": 266, \"counts\": 631}, {\"year\": 2017, \"dayofyear\": 267, \"counts\": 587}, {\"year\": 2017, \"dayofyear\": 268, \"counts\": 726}, {\"year\": 2017, \"dayofyear\": 269, \"counts\": 656}, {\"year\": 2017, \"dayofyear\": 270, \"counts\": 696}, {\"year\": 2017, \"dayofyear\": 271, \"counts\": 740}, {\"year\": 2017, \"dayofyear\": 272, \"counts\": 757}, {\"year\": 2017, \"dayofyear\": 273, \"counts\": 550}, {\"year\": 2017, \"dayofyear\": 274, \"counts\": 571}, {\"year\": 2017, \"dayofyear\": 275, \"counts\": 739}, {\"year\": 2017, \"dayofyear\": 276, \"counts\": 687}, {\"year\": 2017, \"dayofyear\": 277, \"counts\": 711}, {\"year\": 2017, \"dayofyear\": 278, \"counts\": 657}, {\"year\": 2017, \"dayofyear\": 279, \"counts\": 649}, {\"year\": 2017, \"dayofyear\": 280, \"counts\": 570}, {\"year\": 2017, \"dayofyear\": 281, \"counts\": 521}, {\"year\": 2017, \"dayofyear\": 282, \"counts\": 546}, {\"year\": 2017, \"dayofyear\": 283, \"counts\": 768}, {\"year\": 2017, \"dayofyear\": 284, \"counts\": 628}, {\"year\": 2017, \"dayofyear\": 285, \"counts\": 603}, {\"year\": 2017, \"dayofyear\": 286, \"counts\": 658}, {\"year\": 2017, \"dayofyear\": 287, \"counts\": 567}, {\"year\": 2017, \"dayofyear\": 288, \"counts\": 496}, {\"year\": 2017, \"dayofyear\": 289, \"counts\": 641}, {\"year\": 2017, \"dayofyear\": 290, \"counts\": 736}, {\"year\": 2017, \"dayofyear\": 291, \"counts\": 737}, {\"year\": 2017, \"dayofyear\": 292, \"counts\": 766}, {\"year\": 2017, \"dayofyear\": 293, \"counts\": 823}, {\"year\": 2017, \"dayofyear\": 294, \"counts\": 583}, {\"year\": 2017, \"dayofyear\": 295, \"counts\": 528}, {\"year\": 2017, \"dayofyear\": 296, \"counts\": 669}, {\"year\": 2017, \"dayofyear\": 297, \"counts\": 685}, {\"year\": 2017, \"dayofyear\": 298, \"counts\": 648}, {\"year\": 2017, \"dayofyear\": 299, \"counts\": 658}, {\"year\": 2017, \"dayofyear\": 300, \"counts\": 759}, {\"year\": 2017, \"dayofyear\": 301, \"counts\": 615}, {\"year\": 2017, \"dayofyear\": 302, \"counts\": 613}, {\"year\": 2017, \"dayofyear\": 303, \"counts\": 832}, {\"year\": 2017, \"dayofyear\": 304, \"counts\": 696}, {\"year\": 2017, \"dayofyear\": 305, \"counts\": 607}, {\"year\": 2017, \"dayofyear\": 306, \"counts\": 746}, {\"year\": 2017, \"dayofyear\": 307, \"counts\": 776}, {\"year\": 2017, \"dayofyear\": 308, \"counts\": 613}, {\"year\": 2017, \"dayofyear\": 309, \"counts\": 519}, {\"year\": 2017, \"dayofyear\": 310, \"counts\": 682}, {\"year\": 2017, \"dayofyear\": 311, \"counts\": 710}, {\"year\": 2017, \"dayofyear\": 312, \"counts\": 662}, {\"year\": 2017, \"dayofyear\": 313, \"counts\": 702}, {\"year\": 2017, \"dayofyear\": 314, \"counts\": 724}, {\"year\": 2017, \"dayofyear\": 315, \"counts\": 623}, {\"year\": 2017, \"dayofyear\": 316, \"counts\": 539}, {\"year\": 2017, \"dayofyear\": 317, \"counts\": 699}, {\"year\": 2017, \"dayofyear\": 318, \"counts\": 647}, {\"year\": 2017, \"dayofyear\": 319, \"counts\": 713}, {\"year\": 2017, \"dayofyear\": 320, \"counts\": 811}, {\"year\": 2017, \"dayofyear\": 321, \"counts\": 814}, {\"year\": 2017, \"dayofyear\": 322, \"counts\": 629}, {\"year\": 2017, \"dayofyear\": 323, \"counts\": 573}, {\"year\": 2017, \"dayofyear\": 324, \"counts\": 748}, {\"year\": 2017, \"dayofyear\": 325, \"counts\": 790}, {\"year\": 2017, \"dayofyear\": 326, \"counts\": 774}, {\"year\": 2017, \"dayofyear\": 327, \"counts\": 469}, {\"year\": 2017, \"dayofyear\": 328, \"counts\": 502}, {\"year\": 2017, \"dayofyear\": 329, \"counts\": 456}, {\"year\": 2017, \"dayofyear\": 330, \"counts\": 485}, {\"year\": 2017, \"dayofyear\": 331, \"counts\": 635}, {\"year\": 2017, \"dayofyear\": 332, \"counts\": 649}, {\"year\": 2017, \"dayofyear\": 333, \"counts\": 701}, {\"year\": 2017, \"dayofyear\": 334, \"counts\": 663}, {\"year\": 2017, \"dayofyear\": 335, \"counts\": 772}, {\"year\": 2017, \"dayofyear\": 336, \"counts\": 575}, {\"year\": 2017, \"dayofyear\": 337, \"counts\": 448}, {\"year\": 2017, \"dayofyear\": 338, \"counts\": 684}, {\"year\": 2017, \"dayofyear\": 339, \"counts\": 704}, {\"year\": 2017, \"dayofyear\": 340, \"counts\": 651}, {\"year\": 2017, \"dayofyear\": 341, \"counts\": 693}, {\"year\": 2017, \"dayofyear\": 342, \"counts\": 682}, {\"year\": 2017, \"dayofyear\": 343, \"counts\": 538}, {\"year\": 2017, \"dayofyear\": 344, \"counts\": 513}, {\"year\": 2017, \"dayofyear\": 345, \"counts\": 725}, {\"year\": 2017, \"dayofyear\": 346, \"counts\": 687}, {\"year\": 2017, \"dayofyear\": 347, \"counts\": 709}, {\"year\": 2017, \"dayofyear\": 348, \"counts\": 883}, {\"year\": 2017, \"dayofyear\": 349, \"counts\": 999}, {\"year\": 2017, \"dayofyear\": 350, \"counts\": 661}, {\"year\": 2017, \"dayofyear\": 351, \"counts\": 547}, {\"year\": 2017, \"dayofyear\": 352, \"counts\": 706}, {\"year\": 2017, \"dayofyear\": 353, \"counts\": 657}, {\"year\": 2017, \"dayofyear\": 354, \"counts\": 700}, {\"year\": 2017, \"dayofyear\": 355, \"counts\": 742}, {\"year\": 2017, \"dayofyear\": 356, \"counts\": 720}, {\"year\": 2017, \"dayofyear\": 357, \"counts\": 565}, {\"year\": 2017, \"dayofyear\": 358, \"counts\": 469}, {\"year\": 2017, \"dayofyear\": 359, \"counts\": 333}, {\"year\": 2017, \"dayofyear\": 360, \"counts\": 543}, {\"year\": 2017, \"dayofyear\": 361, \"counts\": 577}, {\"year\": 2017, \"dayofyear\": 362, \"counts\": 609}, {\"year\": 2017, \"dayofyear\": 363, \"counts\": 598}, {\"year\": 2017, \"dayofyear\": 364, \"counts\": 565}, {\"year\": 2017, \"dayofyear\": 365, \"counts\": 462}, {\"year\": 2018, \"dayofyear\": 1, \"counts\": 454}, {\"year\": 2018, \"dayofyear\": 2, \"counts\": 654}, {\"year\": 2018, \"dayofyear\": 3, \"counts\": 645}, {\"year\": 2018, \"dayofyear\": 4, \"counts\": 464}, {\"year\": 2018, \"dayofyear\": 5, \"counts\": 700}, {\"year\": 2018, \"dayofyear\": 6, \"counts\": 599}, {\"year\": 2018, \"dayofyear\": 7, \"counts\": 476}, {\"year\": 2018, \"dayofyear\": 8, \"counts\": 720}, {\"year\": 2018, \"dayofyear\": 9, \"counts\": 684}, {\"year\": 2018, \"dayofyear\": 10, \"counts\": 687}, {\"year\": 2018, \"dayofyear\": 11, \"counts\": 696}, {\"year\": 2018, \"dayofyear\": 12, \"counts\": 704}, {\"year\": 2018, \"dayofyear\": 13, \"counts\": 603}, {\"year\": 2018, \"dayofyear\": 14, \"counts\": 494}, {\"year\": 2018, \"dayofyear\": 15, \"counts\": 523}, {\"year\": 2018, \"dayofyear\": 16, \"counts\": 617}, {\"year\": 2018, \"dayofyear\": 17, \"counts\": 611}, {\"year\": 2018, \"dayofyear\": 18, \"counts\": 634}, {\"year\": 2018, \"dayofyear\": 19, \"counts\": 599}, {\"year\": 2018, \"dayofyear\": 20, \"counts\": 530}, {\"year\": 2018, \"dayofyear\": 21, \"counts\": 418}, {\"year\": 2018, \"dayofyear\": 22, \"counts\": 559}, {\"year\": 2018, \"dayofyear\": 23, \"counts\": 531}, {\"year\": 2018, \"dayofyear\": 24, \"counts\": 615}, {\"year\": 2018, \"dayofyear\": 25, \"counts\": 602}, {\"year\": 2018, \"dayofyear\": 26, \"counts\": 677}, {\"year\": 2018, \"dayofyear\": 27, \"counts\": 510}, {\"year\": 2018, \"dayofyear\": 28, \"counts\": 412}, {\"year\": 2018, \"dayofyear\": 29, \"counts\": 531}, {\"year\": 2018, \"dayofyear\": 30, \"counts\": 579}, {\"year\": 2018, \"dayofyear\": 31, \"counts\": 596}, {\"year\": 2018, \"dayofyear\": 32, \"counts\": 594}, {\"year\": 2018, \"dayofyear\": 33, \"counts\": 617}, {\"year\": 2018, \"dayofyear\": 34, \"counts\": 478}, {\"year\": 2018, \"dayofyear\": 35, \"counts\": 540}, {\"year\": 2018, \"dayofyear\": 36, \"counts\": 706}, {\"year\": 2018, \"dayofyear\": 37, \"counts\": 545}, {\"year\": 2018, \"dayofyear\": 38, \"counts\": 653}, {\"year\": 2018, \"dayofyear\": 39, \"counts\": 616}, {\"year\": 2018, \"dayofyear\": 40, \"counts\": 583}, {\"year\": 2018, \"dayofyear\": 41, \"counts\": 549}, {\"year\": 2018, \"dayofyear\": 42, \"counts\": 479}, {\"year\": 2018, \"dayofyear\": 43, \"counts\": 543}, {\"year\": 2018, \"dayofyear\": 44, \"counts\": 613}, {\"year\": 2018, \"dayofyear\": 45, \"counts\": 671}, {\"year\": 2018, \"dayofyear\": 46, \"counts\": 645}, {\"year\": 2018, \"dayofyear\": 47, \"counts\": 582}, {\"year\": 2018, \"dayofyear\": 48, \"counts\": 604}, {\"year\": 2018, \"dayofyear\": 49, \"counts\": 472}, {\"year\": 2018, \"dayofyear\": 50, \"counts\": 435}, {\"year\": 2018, \"dayofyear\": 51, \"counts\": 535}, {\"year\": 2018, \"dayofyear\": 52, \"counts\": 601}, {\"year\": 2018, \"dayofyear\": 53, \"counts\": 550}, {\"year\": 2018, \"dayofyear\": 54, \"counts\": 548}, {\"year\": 2018, \"dayofyear\": 55, \"counts\": 540}, {\"year\": 2018, \"dayofyear\": 56, \"counts\": 448}, {\"year\": 2018, \"dayofyear\": 57, \"counts\": 557}, {\"year\": 2018, \"dayofyear\": 58, \"counts\": 630}, {\"year\": 2018, \"dayofyear\": 59, \"counts\": 654}, {\"year\": 2018, \"dayofyear\": 60, \"counts\": 619}, {\"year\": 2018, \"dayofyear\": 61, \"counts\": 884}, {\"year\": 2018, \"dayofyear\": 62, \"counts\": 609}, {\"year\": 2018, \"dayofyear\": 63, \"counts\": 457}, {\"year\": 2018, \"dayofyear\": 64, \"counts\": 616}, {\"year\": 2018, \"dayofyear\": 65, \"counts\": 676}, {\"year\": 2018, \"dayofyear\": 66, \"counts\": 517}, {\"year\": 2018, \"dayofyear\": 67, \"counts\": 633}, {\"year\": 2018, \"dayofyear\": 68, \"counts\": 751}, {\"year\": 2018, \"dayofyear\": 69, \"counts\": 567}, {\"year\": 2018, \"dayofyear\": 70, \"counts\": 465}, {\"year\": 2018, \"dayofyear\": 71, \"counts\": 679}, {\"year\": 2018, \"dayofyear\": 72, \"counts\": 578}, {\"year\": 2018, \"dayofyear\": 73, \"counts\": 652}, {\"year\": 2018, \"dayofyear\": 74, \"counts\": 689}, {\"year\": 2018, \"dayofyear\": 75, \"counts\": 753}, {\"year\": 2018, \"dayofyear\": 76, \"counts\": 562}, {\"year\": 2018, \"dayofyear\": 77, \"counts\": 526}, {\"year\": 2018, \"dayofyear\": 78, \"counts\": 686}, {\"year\": 2018, \"dayofyear\": 79, \"counts\": 597}, {\"year\": 2018, \"dayofyear\": 80, \"counts\": 477}, {\"year\": 2018, \"dayofyear\": 81, \"counts\": 759}, {\"year\": 2018, \"dayofyear\": 82, \"counts\": 732}, {\"year\": 2018, \"dayofyear\": 83, \"counts\": 550}, {\"year\": 2018, \"dayofyear\": 84, \"counts\": 491}, {\"year\": 2018, \"dayofyear\": 85, \"counts\": 710}, {\"year\": 2018, \"dayofyear\": 86, \"counts\": 627}, {\"year\": 2018, \"dayofyear\": 87, \"counts\": 629}, {\"year\": 2018, \"dayofyear\": 88, \"counts\": 613}, {\"year\": 2018, \"dayofyear\": 89, \"counts\": 580}, {\"year\": 2018, \"dayofyear\": 90, \"counts\": 589}, {\"year\": 2018, \"dayofyear\": 91, \"counts\": 399}, {\"year\": 2018, \"dayofyear\": 92, \"counts\": 562}, {\"year\": 2018, \"dayofyear\": 93, \"counts\": 551}, {\"year\": 2018, \"dayofyear\": 94, \"counts\": 554}, {\"year\": 2018, \"dayofyear\": 95, \"counts\": 531}, {\"year\": 2018, \"dayofyear\": 96, \"counts\": 515}, {\"year\": 2018, \"dayofyear\": 97, \"counts\": 487}, {\"year\": 2018, \"dayofyear\": 98, \"counts\": 468}, {\"year\": 2018, \"dayofyear\": 99, \"counts\": 625}, {\"year\": 2018, \"dayofyear\": 100, \"counts\": 668}, {\"year\": 2018, \"dayofyear\": 101, \"counts\": 612}, {\"year\": 2018, \"dayofyear\": 102, \"counts\": 610}, {\"year\": 2018, \"dayofyear\": 103, \"counts\": 755}, {\"year\": 2018, \"dayofyear\": 104, \"counts\": 624}, {\"year\": 2018, \"dayofyear\": 105, \"counts\": 510}, {\"year\": 2018, \"dayofyear\": 106, \"counts\": 741}, {\"year\": 2018, \"dayofyear\": 107, \"counts\": 600}, {\"year\": 2018, \"dayofyear\": 108, \"counts\": 662}, {\"year\": 2018, \"dayofyear\": 109, \"counts\": 706}, {\"year\": 2018, \"dayofyear\": 110, \"counts\": 707}, {\"year\": 2018, \"dayofyear\": 111, \"counts\": 584}, {\"year\": 2018, \"dayofyear\": 112, \"counts\": 568}, {\"year\": 2018, \"dayofyear\": 113, \"counts\": 675}, {\"year\": 2018, \"dayofyear\": 114, \"counts\": 671}, {\"year\": 2018, \"dayofyear\": 115, \"counts\": 626}, {\"year\": 2018, \"dayofyear\": 116, \"counts\": 729}, {\"year\": 2018, \"dayofyear\": 117, \"counts\": 690}, {\"year\": 2018, \"dayofyear\": 118, \"counts\": 604}, {\"year\": 2018, \"dayofyear\": 119, \"counts\": 505}, {\"year\": 2018, \"dayofyear\": 120, \"counts\": 656}, {\"year\": 2018, \"dayofyear\": 121, \"counts\": 713}, {\"year\": 2018, \"dayofyear\": 122, \"counts\": 792}, {\"year\": 2018, \"dayofyear\": 123, \"counts\": 790}, {\"year\": 2018, \"dayofyear\": 124, \"counts\": 723}, {\"year\": 2018, \"dayofyear\": 125, \"counts\": 602}, {\"year\": 2018, \"dayofyear\": 126, \"counts\": 495}, {\"year\": 2018, \"dayofyear\": 127, \"counts\": 695}, {\"year\": 2018, \"dayofyear\": 128, \"counts\": 736}, {\"year\": 2018, \"dayofyear\": 129, \"counts\": 711}, {\"year\": 2018, \"dayofyear\": 130, \"counts\": 663}, {\"year\": 2018, \"dayofyear\": 131, \"counts\": 805}, {\"year\": 2018, \"dayofyear\": 132, \"counts\": 602}, {\"year\": 2018, \"dayofyear\": 133, \"counts\": 529}, {\"year\": 2018, \"dayofyear\": 134, \"counts\": 689}, {\"year\": 2018, \"dayofyear\": 135, \"counts\": 778}, {\"year\": 2018, \"dayofyear\": 136, \"counts\": 686}, {\"year\": 2018, \"dayofyear\": 137, \"counts\": 732}, {\"year\": 2018, \"dayofyear\": 138, \"counts\": 616}, {\"year\": 2018, \"dayofyear\": 139, \"counts\": 583}, {\"year\": 2018, \"dayofyear\": 140, \"counts\": 578}, {\"year\": 2018, \"dayofyear\": 141, \"counts\": 626}, {\"year\": 2018, \"dayofyear\": 142, \"counts\": 689}, {\"year\": 2018, \"dayofyear\": 143, \"counts\": 729}, {\"year\": 2018, \"dayofyear\": 144, \"counts\": 770}, {\"year\": 2018, \"dayofyear\": 145, \"counts\": 799}, {\"year\": 2018, \"dayofyear\": 146, \"counts\": 601}, {\"year\": 2018, \"dayofyear\": 147, \"counts\": 487}, {\"year\": 2018, \"dayofyear\": 148, \"counts\": 408}, {\"year\": 2018, \"dayofyear\": 149, \"counts\": 809}, {\"year\": 2018, \"dayofyear\": 150, \"counts\": 708}, {\"year\": 2018, \"dayofyear\": 151, \"counts\": 698}, {\"year\": 2018, \"dayofyear\": 152, \"counts\": 751}, {\"year\": 2018, \"dayofyear\": 153, \"counts\": 622}, {\"year\": 2018, \"dayofyear\": 154, \"counts\": 525}, {\"year\": 2018, \"dayofyear\": 155, \"counts\": 698}, {\"year\": 2018, \"dayofyear\": 156, \"counts\": 688}, {\"year\": 2018, \"dayofyear\": 157, \"counts\": 651}, {\"year\": 2018, \"dayofyear\": 158, \"counts\": 693}, {\"year\": 2018, \"dayofyear\": 159, \"counts\": 757}, {\"year\": 2018, \"dayofyear\": 160, \"counts\": 706}, {\"year\": 2018, \"dayofyear\": 161, \"counts\": 533}, {\"year\": 2018, \"dayofyear\": 162, \"counts\": 686}, {\"year\": 2018, \"dayofyear\": 163, \"counts\": 720}, {\"year\": 2018, \"dayofyear\": 164, \"counts\": 706}, {\"year\": 2018, \"dayofyear\": 165, \"counts\": 833}, {\"year\": 2018, \"dayofyear\": 166, \"counts\": 728}, {\"year\": 2018, \"dayofyear\": 167, \"counts\": 677}, {\"year\": 2018, \"dayofyear\": 168, \"counts\": 627}, {\"year\": 2018, \"dayofyear\": 169, \"counts\": 808}, {\"year\": 2018, \"dayofyear\": 170, \"counts\": 812}, {\"year\": 2018, \"dayofyear\": 171, \"counts\": 698}, {\"year\": 2018, \"dayofyear\": 172, \"counts\": 815}, {\"year\": 2018, \"dayofyear\": 173, \"counts\": 728}, {\"year\": 2018, \"dayofyear\": 174, \"counts\": 513}, {\"year\": 2018, \"dayofyear\": 175, \"counts\": 553}, {\"year\": 2018, \"dayofyear\": 176, \"counts\": 733}, {\"year\": 2018, \"dayofyear\": 177, \"counts\": 762}, {\"year\": 2018, \"dayofyear\": 178, \"counts\": 540}, {\"year\": 2018, \"dayofyear\": 179, \"counts\": 737}, {\"year\": 2018, \"dayofyear\": 180, \"counts\": 845}, {\"year\": 2018, \"dayofyear\": 181, \"counts\": 651}, {\"year\": 2018, \"dayofyear\": 182, \"counts\": 563}, {\"year\": 2018, \"dayofyear\": 183, \"counts\": 719}, {\"year\": 2018, \"dayofyear\": 184, \"counts\": 678}, {\"year\": 2018, \"dayofyear\": 185, \"counts\": 406}, {\"year\": 2018, \"dayofyear\": 186, \"counts\": 720}, {\"year\": 2018, \"dayofyear\": 187, \"counts\": 654}, {\"year\": 2018, \"dayofyear\": 188, \"counts\": 526}, {\"year\": 2018, \"dayofyear\": 189, \"counts\": 545}, {\"year\": 2018, \"dayofyear\": 190, \"counts\": 672}, {\"year\": 2018, \"dayofyear\": 191, \"counts\": 727}, {\"year\": 2018, \"dayofyear\": 192, \"counts\": 627}, {\"year\": 2018, \"dayofyear\": 193, \"counts\": 642}, {\"year\": 2018, \"dayofyear\": 194, \"counts\": 726}, {\"year\": 2018, \"dayofyear\": 195, \"counts\": 577}, {\"year\": 2018, \"dayofyear\": 196, \"counts\": 564}, {\"year\": 2018, \"dayofyear\": 197, \"counts\": 719}, {\"year\": 2018, \"dayofyear\": 198, \"counts\": 680}, {\"year\": 2018, \"dayofyear\": 199, \"counts\": 688}, {\"year\": 2018, \"dayofyear\": 200, \"counts\": 739}, {\"year\": 2018, \"dayofyear\": 201, \"counts\": 700}, {\"year\": 2018, \"dayofyear\": 202, \"counts\": 622}, {\"year\": 2018, \"dayofyear\": 203, \"counts\": 540}, {\"year\": 2018, \"dayofyear\": 204, \"counts\": 614}, {\"year\": 2018, \"dayofyear\": 205, \"counts\": 654}, {\"year\": 2018, \"dayofyear\": 206, \"counts\": 657}, {\"year\": 2018, \"dayofyear\": 207, \"counts\": 606}, {\"year\": 2018, \"dayofyear\": 208, \"counts\": 753}, {\"year\": 2018, \"dayofyear\": 209, \"counts\": 637}, {\"year\": 2018, \"dayofyear\": 210, \"counts\": 463}, {\"year\": 2018, \"dayofyear\": 211, \"counts\": 580}, {\"year\": 2018, \"dayofyear\": 212, \"counts\": 709}, {\"year\": 2018, \"dayofyear\": 213, \"counts\": 660}, {\"year\": 2018, \"dayofyear\": 214, \"counts\": 722}, {\"year\": 2018, \"dayofyear\": 215, \"counts\": 749}, {\"year\": 2018, \"dayofyear\": 216, \"counts\": 605}, {\"year\": 2018, \"dayofyear\": 217, \"counts\": 573}, {\"year\": 2018, \"dayofyear\": 218, \"counts\": 632}, {\"year\": 2018, \"dayofyear\": 219, \"counts\": 658}, {\"year\": 2018, \"dayofyear\": 220, \"counts\": 656}, {\"year\": 2018, \"dayofyear\": 221, \"counts\": 709}, {\"year\": 2018, \"dayofyear\": 222, \"counts\": 707}, {\"year\": 2018, \"dayofyear\": 223, \"counts\": 567}, {\"year\": 2018, \"dayofyear\": 224, \"counts\": 499}, {\"year\": 2018, \"dayofyear\": 225, \"counts\": 617}, {\"year\": 2018, \"dayofyear\": 226, \"counts\": 701}, {\"year\": 2018, \"dayofyear\": 227, \"counts\": 645}, {\"year\": 2018, \"dayofyear\": 228, \"counts\": 647}, {\"year\": 2018, \"dayofyear\": 229, \"counts\": 703}, {\"year\": 2018, \"dayofyear\": 230, \"counts\": 579}, {\"year\": 2018, \"dayofyear\": 231, \"counts\": 490}, {\"year\": 2018, \"dayofyear\": 232, \"counts\": 562}, {\"year\": 2018, \"dayofyear\": 233, \"counts\": 580}, {\"year\": 2018, \"dayofyear\": 234, \"counts\": 599}, {\"year\": 2018, \"dayofyear\": 235, \"counts\": 610}, {\"year\": 2018, \"dayofyear\": 236, \"counts\": 681}, {\"year\": 2018, \"dayofyear\": 237, \"counts\": 552}, {\"year\": 2018, \"dayofyear\": 238, \"counts\": 528}, {\"year\": 2018, \"dayofyear\": 239, \"counts\": 651}, {\"year\": 2018, \"dayofyear\": 240, \"counts\": 715}, {\"year\": 2018, \"dayofyear\": 241, \"counts\": 685}, {\"year\": 2018, \"dayofyear\": 242, \"counts\": 736}, {\"year\": 2018, \"dayofyear\": 243, \"counts\": 623}, {\"year\": 2018, \"dayofyear\": 244, \"counts\": 529}, {\"year\": 2018, \"dayofyear\": 245, \"counts\": 528}, {\"year\": 2018, \"dayofyear\": 246, \"counts\": 533}, {\"year\": 2018, \"dayofyear\": 247, \"counts\": 786}, {\"year\": 2018, \"dayofyear\": 248, \"counts\": 768}, {\"year\": 2018, \"dayofyear\": 249, \"counts\": 822}, {\"year\": 2018, \"dayofyear\": 250, \"counts\": 671}, {\"year\": 2018, \"dayofyear\": 251, \"counts\": 568}, {\"year\": 2018, \"dayofyear\": 252, \"counts\": 556}, {\"year\": 2018, \"dayofyear\": 253, \"counts\": 650}, {\"year\": 2018, \"dayofyear\": 254, \"counts\": 544}, {\"year\": 2018, \"dayofyear\": 255, \"counts\": 783}, {\"year\": 2018, \"dayofyear\": 256, \"counts\": 718}, {\"year\": 2018, \"dayofyear\": 257, \"counts\": 684}, {\"year\": 2018, \"dayofyear\": 258, \"counts\": 596}, {\"year\": 2018, \"dayofyear\": 259, \"counts\": 597}, {\"year\": 2018, \"dayofyear\": 260, \"counts\": 673}, {\"year\": 2018, \"dayofyear\": 261, \"counts\": 740}, {\"year\": 2018, \"dayofyear\": 262, \"counts\": 519}, {\"year\": 2018, \"dayofyear\": 263, \"counts\": 659}, {\"year\": 2018, \"dayofyear\": 264, \"counts\": 715}, {\"year\": 2018, \"dayofyear\": 265, \"counts\": 562}, {\"year\": 2018, \"dayofyear\": 266, \"counts\": 475}, {\"year\": 2018, \"dayofyear\": 267, \"counts\": 594}, {\"year\": 2018, \"dayofyear\": 268, \"counts\": 715}, {\"year\": 2018, \"dayofyear\": 269, \"counts\": 755}, {\"year\": 2018, \"dayofyear\": 270, \"counts\": 672}, {\"year\": 2018, \"dayofyear\": 271, \"counts\": 712}, {\"year\": 2018, \"dayofyear\": 272, \"counts\": 603}, {\"year\": 2018, \"dayofyear\": 273, \"counts\": 510}, {\"year\": 2018, \"dayofyear\": 274, \"counts\": 583}, {\"year\": 2018, \"dayofyear\": 275, \"counts\": 613}, {\"year\": 2018, \"dayofyear\": 276, \"counts\": 778}, {\"year\": 2018, \"dayofyear\": 277, \"counts\": 717}, {\"year\": 2018, \"dayofyear\": 278, \"counts\": 796}, {\"year\": 2018, \"dayofyear\": 279, \"counts\": 544}, {\"year\": 2018, \"dayofyear\": 280, \"counts\": 529}, {\"year\": 2018, \"dayofyear\": 281, \"counts\": 501}, {\"year\": 2018, \"dayofyear\": 282, \"counts\": 628}, {\"year\": 2018, \"dayofyear\": 283, \"counts\": 708}, {\"year\": 2018, \"dayofyear\": 284, \"counts\": 741}, {\"year\": 2018, \"dayofyear\": 285, \"counts\": 830}, {\"year\": 2018, \"dayofyear\": 286, \"counts\": 577}, {\"year\": 2018, \"dayofyear\": 287, \"counts\": 516}, {\"year\": 2018, \"dayofyear\": 288, \"counts\": 692}, {\"year\": 2018, \"dayofyear\": 289, \"counts\": 688}, {\"year\": 2018, \"dayofyear\": 290, \"counts\": 699}, {\"year\": 2018, \"dayofyear\": 291, \"counts\": 735}, {\"year\": 2018, \"dayofyear\": 292, \"counts\": 787}, {\"year\": 2018, \"dayofyear\": 293, \"counts\": 629}, {\"year\": 2018, \"dayofyear\": 294, \"counts\": 593}, {\"year\": 2018, \"dayofyear\": 295, \"counts\": 650}, {\"year\": 2018, \"dayofyear\": 296, \"counts\": 681}, {\"year\": 2018, \"dayofyear\": 297, \"counts\": 719}, {\"year\": 2018, \"dayofyear\": 298, \"counts\": 763}, {\"year\": 2018, \"dayofyear\": 299, \"counts\": 747}, {\"year\": 2018, \"dayofyear\": 300, \"counts\": 757}, {\"year\": 2018, \"dayofyear\": 301, \"counts\": 556}, {\"year\": 2018, \"dayofyear\": 302, \"counts\": 696}, {\"year\": 2018, \"dayofyear\": 303, \"counts\": 721}, {\"year\": 2018, \"dayofyear\": 304, \"counts\": 646}, {\"year\": 2018, \"dayofyear\": 305, \"counts\": 696}, {\"year\": 2018, \"dayofyear\": 306, \"counts\": 746}, {\"year\": 2018, \"dayofyear\": 307, \"counts\": 656}, {\"year\": 2018, \"dayofyear\": 308, \"counts\": 502}, {\"year\": 2018, \"dayofyear\": 309, \"counts\": 759}, {\"year\": 2018, \"dayofyear\": 310, \"counts\": 679}, {\"year\": 2018, \"dayofyear\": 311, \"counts\": 696}, {\"year\": 2018, \"dayofyear\": 312, \"counts\": 631}, {\"year\": 2018, \"dayofyear\": 313, \"counts\": 866}, {\"year\": 2018, \"dayofyear\": 314, \"counts\": 607}, {\"year\": 2018, \"dayofyear\": 315, \"counts\": 500}, {\"year\": 2018, \"dayofyear\": 316, \"counts\": 497}, {\"year\": 2018, \"dayofyear\": 317, \"counts\": 754}, {\"year\": 2018, \"dayofyear\": 318, \"counts\": 688}, {\"year\": 2018, \"dayofyear\": 319, \"counts\": 1065}, {\"year\": 2018, \"dayofyear\": 320, \"counts\": 720}, {\"year\": 2018, \"dayofyear\": 321, \"counts\": 559}, {\"year\": 2018, \"dayofyear\": 322, \"counts\": 470}, {\"year\": 2018, \"dayofyear\": 323, \"counts\": 697}, {\"year\": 2018, \"dayofyear\": 324, \"counts\": 695}, {\"year\": 2018, \"dayofyear\": 325, \"counts\": 732}, {\"year\": 2018, \"dayofyear\": 326, \"counts\": 412}, {\"year\": 2018, \"dayofyear\": 327, \"counts\": 476}, {\"year\": 2018, \"dayofyear\": 328, \"counts\": 536}, {\"year\": 2018, \"dayofyear\": 329, \"counts\": 483}, {\"year\": 2018, \"dayofyear\": 330, \"counts\": 743}, {\"year\": 2018, \"dayofyear\": 331, \"counts\": 609}, {\"year\": 2018, \"dayofyear\": 332, \"counts\": 573}, {\"year\": 2018, \"dayofyear\": 333, \"counts\": 646}, {\"year\": 2018, \"dayofyear\": 334, \"counts\": 743}, {\"year\": 2018, \"dayofyear\": 335, \"counts\": 601}, {\"year\": 2018, \"dayofyear\": 336, \"counts\": 558}, {\"year\": 2018, \"dayofyear\": 337, \"counts\": 697}, {\"year\": 2018, \"dayofyear\": 338, \"counts\": 684}, {\"year\": 2018, \"dayofyear\": 339, \"counts\": 652}, {\"year\": 2018, \"dayofyear\": 340, \"counts\": 681}, {\"year\": 2018, \"dayofyear\": 341, \"counts\": 705}, {\"year\": 2018, \"dayofyear\": 342, \"counts\": 652}, {\"year\": 2018, \"dayofyear\": 343, \"counts\": 465}, {\"year\": 2018, \"dayofyear\": 344, \"counts\": 651}, {\"year\": 2018, \"dayofyear\": 345, \"counts\": 707}, {\"year\": 2018, \"dayofyear\": 346, \"counts\": 631}, {\"year\": 2018, \"dayofyear\": 347, \"counts\": 686}, {\"year\": 2018, \"dayofyear\": 348, \"counts\": 841}, {\"year\": 2018, \"dayofyear\": 349, \"counts\": 628}, {\"year\": 2018, \"dayofyear\": 350, \"counts\": 622}, {\"year\": 2018, \"dayofyear\": 351, \"counts\": 689}, {\"year\": 2018, \"dayofyear\": 352, \"counts\": 731}, {\"year\": 2018, \"dayofyear\": 353, \"counts\": 749}, {\"year\": 2018, \"dayofyear\": 354, \"counts\": 806}, {\"year\": 2018, \"dayofyear\": 355, \"counts\": 782}, {\"year\": 2018, \"dayofyear\": 356, \"counts\": 568}, {\"year\": 2018, \"dayofyear\": 357, \"counts\": 505}, {\"year\": 2018, \"dayofyear\": 358, \"counts\": 579}, {\"year\": 2018, \"dayofyear\": 359, \"counts\": 329}, {\"year\": 2018, \"dayofyear\": 360, \"counts\": 514}, {\"year\": 2018, \"dayofyear\": 361, \"counts\": 582}, {\"year\": 2018, \"dayofyear\": 362, \"counts\": 681}, {\"year\": 2018, \"dayofyear\": 363, \"counts\": 499}, {\"year\": 2018, \"dayofyear\": 364, \"counts\": 404}, {\"year\": 2018, \"dayofyear\": 365, \"counts\": 622}, {\"year\": 2019, \"dayofyear\": 1, \"counts\": 429}, {\"year\": 2019, \"dayofyear\": 2, \"counts\": 502}, {\"year\": 2019, \"dayofyear\": 3, \"counts\": 504}, {\"year\": 2019, \"dayofyear\": 4, \"counts\": 598}, {\"year\": 2019, \"dayofyear\": 5, \"counts\": 456}, {\"year\": 2019, \"dayofyear\": 6, \"counts\": 376}, {\"year\": 2019, \"dayofyear\": 7, \"counts\": 583}, {\"year\": 2019, \"dayofyear\": 8, \"counts\": 571}, {\"year\": 2019, \"dayofyear\": 9, \"counts\": 514}, {\"year\": 2019, \"dayofyear\": 10, \"counts\": 580}, {\"year\": 2019, \"dayofyear\": 11, \"counts\": 644}, {\"year\": 2019, \"dayofyear\": 12, \"counts\": 520}, {\"year\": 2019, \"dayofyear\": 13, \"counts\": 374}, {\"year\": 2019, \"dayofyear\": 14, \"counts\": 703}, {\"year\": 2019, \"dayofyear\": 15, \"counts\": 618}, {\"year\": 2019, \"dayofyear\": 16, \"counts\": 579}, {\"year\": 2019, \"dayofyear\": 17, \"counts\": 586}, {\"year\": 2019, \"dayofyear\": 18, \"counts\": 596}, {\"year\": 2019, \"dayofyear\": 19, \"counts\": 479}, {\"year\": 2019, \"dayofyear\": 20, \"counts\": 411}, {\"year\": 2019, \"dayofyear\": 21, \"counts\": 412}, {\"year\": 2019, \"dayofyear\": 22, \"counts\": 627}, {\"year\": 2019, \"dayofyear\": 23, \"counts\": 553}, {\"year\": 2019, \"dayofyear\": 24, \"counts\": 592}, {\"year\": 2019, \"dayofyear\": 25, \"counts\": 666}, {\"year\": 2019, \"dayofyear\": 26, \"counts\": 533}, {\"year\": 2019, \"dayofyear\": 27, \"counts\": 445}, {\"year\": 2019, \"dayofyear\": 28, \"counts\": 565}, {\"year\": 2019, \"dayofyear\": 29, \"counts\": 681}, {\"year\": 2019, \"dayofyear\": 30, \"counts\": 630}, {\"year\": 2019, \"dayofyear\": 31, \"counts\": 601}, {\"year\": 2019, \"dayofyear\": 32, \"counts\": 651}, {\"year\": 2019, \"dayofyear\": 33, \"counts\": 577}, {\"year\": 2019, \"dayofyear\": 34, \"counts\": 492}, {\"year\": 2019, \"dayofyear\": 35, \"counts\": 651}, {\"year\": 2019, \"dayofyear\": 36, \"counts\": 570}, {\"year\": 2019, \"dayofyear\": 37, \"counts\": 615}, {\"year\": 2019, \"dayofyear\": 38, \"counts\": 588}, {\"year\": 2019, \"dayofyear\": 39, \"counts\": 661}, {\"year\": 2019, \"dayofyear\": 40, \"counts\": 540}, {\"year\": 2019, \"dayofyear\": 41, \"counts\": 445}, {\"year\": 2019, \"dayofyear\": 42, \"counts\": 568}, {\"year\": 2019, \"dayofyear\": 43, \"counts\": 687}, {\"year\": 2019, \"dayofyear\": 44, \"counts\": 639}, {\"year\": 2019, \"dayofyear\": 45, \"counts\": 664}, {\"year\": 2019, \"dayofyear\": 46, \"counts\": 616}, {\"year\": 2019, \"dayofyear\": 47, \"counts\": 535}, {\"year\": 2019, \"dayofyear\": 48, \"counts\": 439}, {\"year\": 2019, \"dayofyear\": 49, \"counts\": 406}, {\"year\": 2019, \"dayofyear\": 50, \"counts\": 527}, {\"year\": 2019, \"dayofyear\": 51, \"counts\": 615}, {\"year\": 2019, \"dayofyear\": 52, \"counts\": 597}, {\"year\": 2019, \"dayofyear\": 53, \"counts\": 546}, {\"year\": 2019, \"dayofyear\": 54, \"counts\": 439}, {\"year\": 2019, \"dayofyear\": 55, \"counts\": 401}, {\"year\": 2019, \"dayofyear\": 56, \"counts\": 700}, {\"year\": 2019, \"dayofyear\": 57, \"counts\": 670}, {\"year\": 2019, \"dayofyear\": 58, \"counts\": 529}, {\"year\": 2019, \"dayofyear\": 59, \"counts\": 699}, {\"year\": 2019, \"dayofyear\": 60, \"counts\": 711}, {\"year\": 2019, \"dayofyear\": 61, \"counts\": 642}, {\"year\": 2019, \"dayofyear\": 62, \"counts\": 503}, {\"year\": 2019, \"dayofyear\": 63, \"counts\": 503}, {\"year\": 2019, \"dayofyear\": 64, \"counts\": 639}, {\"year\": 2019, \"dayofyear\": 65, \"counts\": 589}, {\"year\": 2019, \"dayofyear\": 66, \"counts\": 556}, {\"year\": 2019, \"dayofyear\": 67, \"counts\": 652}, {\"year\": 2019, \"dayofyear\": 68, \"counts\": 523}, {\"year\": 2019, \"dayofyear\": 69, \"counts\": 462}, {\"year\": 2019, \"dayofyear\": 70, \"counts\": 645}, {\"year\": 2019, \"dayofyear\": 71, \"counts\": 586}, {\"year\": 2019, \"dayofyear\": 72, \"counts\": 562}, {\"year\": 2019, \"dayofyear\": 73, \"counts\": 611}, {\"year\": 2019, \"dayofyear\": 74, \"counts\": 673}, {\"year\": 2019, \"dayofyear\": 75, \"counts\": 550}, {\"year\": 2019, \"dayofyear\": 76, \"counts\": 419}, {\"year\": 2019, \"dayofyear\": 77, \"counts\": 575}, {\"year\": 2019, \"dayofyear\": 78, \"counts\": 566}, {\"year\": 2019, \"dayofyear\": 79, \"counts\": 584}, {\"year\": 2019, \"dayofyear\": 80, \"counts\": 624}, {\"year\": 2019, \"dayofyear\": 81, \"counts\": 718}, {\"year\": 2019, \"dayofyear\": 82, \"counts\": 530}, {\"year\": 2019, \"dayofyear\": 83, \"counts\": 466}, {\"year\": 2019, \"dayofyear\": 84, \"counts\": 526}, {\"year\": 2019, \"dayofyear\": 85, \"counts\": 610}, {\"year\": 2019, \"dayofyear\": 86, \"counts\": 562}, {\"year\": 2019, \"dayofyear\": 87, \"counts\": 644}, {\"year\": 2019, \"dayofyear\": 88, \"counts\": 563}, {\"year\": 2019, \"dayofyear\": 89, \"counts\": 516}, {\"year\": 2019, \"dayofyear\": 90, \"counts\": 450}, {\"year\": 2019, \"dayofyear\": 91, \"counts\": 602}, {\"year\": 2019, \"dayofyear\": 92, \"counts\": 553}, {\"year\": 2019, \"dayofyear\": 93, \"counts\": 613}, {\"year\": 2019, \"dayofyear\": 94, \"counts\": 660}, {\"year\": 2019, \"dayofyear\": 95, \"counts\": 701}, {\"year\": 2019, \"dayofyear\": 96, \"counts\": 587}, {\"year\": 2019, \"dayofyear\": 97, \"counts\": 487}, {\"year\": 2019, \"dayofyear\": 98, \"counts\": 594}, {\"year\": 2019, \"dayofyear\": 99, \"counts\": 537}, {\"year\": 2019, \"dayofyear\": 100, \"counts\": 633}, {\"year\": 2019, \"dayofyear\": 101, \"counts\": 537}, {\"year\": 2019, \"dayofyear\": 102, \"counts\": 688}, {\"year\": 2019, \"dayofyear\": 103, \"counts\": 599}, {\"year\": 2019, \"dayofyear\": 104, \"counts\": 457}, {\"year\": 2019, \"dayofyear\": 105, \"counts\": 657}, {\"year\": 2019, \"dayofyear\": 106, \"counts\": 638}, {\"year\": 2019, \"dayofyear\": 107, \"counts\": 620}, {\"year\": 2019, \"dayofyear\": 108, \"counts\": 540}, {\"year\": 2019, \"dayofyear\": 109, \"counts\": 551}, {\"year\": 2019, \"dayofyear\": 110, \"counts\": 456}, {\"year\": 2019, \"dayofyear\": 111, \"counts\": 398}, {\"year\": 2019, \"dayofyear\": 112, \"counts\": 522}, {\"year\": 2019, \"dayofyear\": 113, \"counts\": 592}, {\"year\": 2019, \"dayofyear\": 114, \"counts\": 515}, {\"year\": 2019, \"dayofyear\": 115, \"counts\": 518}, {\"year\": 2019, \"dayofyear\": 116, \"counts\": 500}, {\"year\": 2019, \"dayofyear\": 117, \"counts\": 526}, {\"year\": 2019, \"dayofyear\": 118, \"counts\": 395}, {\"year\": 2019, \"dayofyear\": 119, \"counts\": 565}, {\"year\": 2019, \"dayofyear\": 120, \"counts\": 587}, {\"year\": 2019, \"dayofyear\": 121, \"counts\": 599}, {\"year\": 2019, \"dayofyear\": 122, \"counts\": 668}, {\"year\": 2019, \"dayofyear\": 123, \"counts\": 651}, {\"year\": 2019, \"dayofyear\": 124, \"counts\": 553}, {\"year\": 2019, \"dayofyear\": 125, \"counts\": 529}, {\"year\": 2019, \"dayofyear\": 126, \"counts\": 630}, {\"year\": 2019, \"dayofyear\": 127, \"counts\": 647}, {\"year\": 2019, \"dayofyear\": 128, \"counts\": 649}, {\"year\": 2019, \"dayofyear\": 129, \"counts\": 593}, {\"year\": 2019, \"dayofyear\": 130, \"counts\": 660}, {\"year\": 2019, \"dayofyear\": 131, \"counts\": 637}, {\"year\": 2019, \"dayofyear\": 132, \"counts\": 589}, {\"year\": 2019, \"dayofyear\": 133, \"counts\": 613}, {\"year\": 2019, \"dayofyear\": 134, \"counts\": 621}, {\"year\": 2019, \"dayofyear\": 135, \"counts\": 691}, {\"year\": 2019, \"dayofyear\": 136, \"counts\": 642}, {\"year\": 2019, \"dayofyear\": 137, \"counts\": 726}, {\"year\": 2019, \"dayofyear\": 138, \"counts\": 649}, {\"year\": 2019, \"dayofyear\": 139, \"counts\": 547}, {\"year\": 2019, \"dayofyear\": 140, \"counts\": 689}, {\"year\": 2019, \"dayofyear\": 141, \"counts\": 745}, {\"year\": 2019, \"dayofyear\": 142, \"counts\": 693}, {\"year\": 2019, \"dayofyear\": 143, \"counts\": 722}, {\"year\": 2019, \"dayofyear\": 144, \"counts\": 728}, {\"year\": 2019, \"dayofyear\": 145, \"counts\": 520}, {\"year\": 2019, \"dayofyear\": 146, \"counts\": 510}, {\"year\": 2019, \"dayofyear\": 147, \"counts\": 442}, {\"year\": 2019, \"dayofyear\": 148, \"counts\": 654}, {\"year\": 2019, \"dayofyear\": 149, \"counts\": 601}, {\"year\": 2019, \"dayofyear\": 150, \"counts\": 625}, {\"year\": 2019, \"dayofyear\": 151, \"counts\": 765}, {\"year\": 2019, \"dayofyear\": 152, \"counts\": 557}, {\"year\": 2019, \"dayofyear\": 153, \"counts\": 515}, {\"year\": 2019, \"dayofyear\": 154, \"counts\": 659}, {\"year\": 2019, \"dayofyear\": 155, \"counts\": 615}, {\"year\": 2019, \"dayofyear\": 156, \"counts\": 655}, {\"year\": 2019, \"dayofyear\": 157, \"counts\": 743}, {\"year\": 2019, \"dayofyear\": 158, \"counts\": 734}, {\"year\": 2019, \"dayofyear\": 159, \"counts\": 580}, {\"year\": 2019, \"dayofyear\": 160, \"counts\": 526}, {\"year\": 2019, \"dayofyear\": 161, \"counts\": 613}, {\"year\": 2019, \"dayofyear\": 162, \"counts\": 682}, {\"year\": 2019, \"dayofyear\": 163, \"counts\": 686}, {\"year\": 2019, \"dayofyear\": 164, \"counts\": 634}, {\"year\": 2019, \"dayofyear\": 165, \"counts\": 749}, {\"year\": 2019, \"dayofyear\": 166, \"counts\": 620}, {\"year\": 2019, \"dayofyear\": 167, \"counts\": 509}, {\"year\": 2019, \"dayofyear\": 168, \"counts\": 552}, {\"year\": 2019, \"dayofyear\": 169, \"counts\": 721}, {\"year\": 2019, \"dayofyear\": 170, \"counts\": 591}, {\"year\": 2019, \"dayofyear\": 171, \"counts\": 697}, {\"year\": 2019, \"dayofyear\": 172, \"counts\": 771}, {\"year\": 2019, \"dayofyear\": 173, \"counts\": 635}, {\"year\": 2019, \"dayofyear\": 174, \"counts\": 559}, {\"year\": 2019, \"dayofyear\": 175, \"counts\": 731}, {\"year\": 2019, \"dayofyear\": 176, \"counts\": 662}, {\"year\": 2019, \"dayofyear\": 177, \"counts\": 803}, {\"year\": 2019, \"dayofyear\": 178, \"counts\": 734}, {\"year\": 2019, \"dayofyear\": 179, \"counts\": 753}, {\"year\": 2019, \"dayofyear\": 180, \"counts\": 660}, {\"year\": 2019, \"dayofyear\": 181, \"counts\": 569}, {\"year\": 2019, \"dayofyear\": 182, \"counts\": 693}, {\"year\": 2019, \"dayofyear\": 183, \"counts\": 591}, {\"year\": 2019, \"dayofyear\": 184, \"counts\": 654}, {\"year\": 2019, \"dayofyear\": 185, \"counts\": 394}, {\"year\": 2019, \"dayofyear\": 186, \"counts\": 542}, {\"year\": 2019, \"dayofyear\": 187, \"counts\": 471}, {\"year\": 2019, \"dayofyear\": 188, \"counts\": 441}, {\"year\": 2019, \"dayofyear\": 189, \"counts\": 592}, {\"year\": 2019, \"dayofyear\": 190, \"counts\": 661}, {\"year\": 2019, \"dayofyear\": 191, \"counts\": 553}, {\"year\": 2019, \"dayofyear\": 192, \"counts\": 658}, {\"year\": 2019, \"dayofyear\": 193, \"counts\": 747}, {\"year\": 2019, \"dayofyear\": 194, \"counts\": 558}, {\"year\": 2019, \"dayofyear\": 195, \"counts\": 497}, {\"year\": 2019, \"dayofyear\": 196, \"counts\": 637}, {\"year\": 2019, \"dayofyear\": 197, \"counts\": 658}, {\"year\": 2019, \"dayofyear\": 198, \"counts\": 630}, {\"year\": 2019, \"dayofyear\": 199, \"counts\": 620}, {\"year\": 2019, \"dayofyear\": 200, \"counts\": 666}, {\"year\": 2019, \"dayofyear\": 201, \"counts\": 586}, {\"year\": 2019, \"dayofyear\": 202, \"counts\": 477}, {\"year\": 2019, \"dayofyear\": 203, \"counts\": 640}, {\"year\": 2019, \"dayofyear\": 204, \"counts\": 553}, {\"year\": 2019, \"dayofyear\": 205, \"counts\": 626}, {\"year\": 2019, \"dayofyear\": 206, \"counts\": 605}, {\"year\": 2019, \"dayofyear\": 207, \"counts\": 650}, {\"year\": 2019, \"dayofyear\": 208, \"counts\": 602}, {\"year\": 2019, \"dayofyear\": 209, \"counts\": 526}, {\"year\": 2019, \"dayofyear\": 210, \"counts\": 649}, {\"year\": 2019, \"dayofyear\": 211, \"counts\": 638}, {\"year\": 2019, \"dayofyear\": 212, \"counts\": 604}, {\"year\": 2019, \"dayofyear\": 213, \"counts\": 618}, {\"year\": 2019, \"dayofyear\": 214, \"counts\": 610}, {\"year\": 2019, \"dayofyear\": 215, \"counts\": 566}, {\"year\": 2019, \"dayofyear\": 216, \"counts\": 499}, {\"year\": 2019, \"dayofyear\": 217, \"counts\": 616}, {\"year\": 2019, \"dayofyear\": 218, \"counts\": 551}, {\"year\": 2019, \"dayofyear\": 219, \"counts\": 608}, {\"year\": 2019, \"dayofyear\": 220, \"counts\": 646}, {\"year\": 2019, \"dayofyear\": 221, \"counts\": 645}, {\"year\": 2019, \"dayofyear\": 222, \"counts\": 572}, {\"year\": 2019, \"dayofyear\": 223, \"counts\": 484}, {\"year\": 2019, \"dayofyear\": 224, \"counts\": 586}, {\"year\": 2019, \"dayofyear\": 225, \"counts\": 469}, {\"year\": 2019, \"dayofyear\": 226, \"counts\": 536}, {\"year\": 2019, \"dayofyear\": 227, \"counts\": 559}, {\"year\": 2019, \"dayofyear\": 228, \"counts\": 523}, {\"year\": 2019, \"dayofyear\": 229, \"counts\": 533}, {\"year\": 2019, \"dayofyear\": 230, \"counts\": 480}, {\"year\": 2019, \"dayofyear\": 231, \"counts\": 563}, {\"year\": 2019, \"dayofyear\": 232, \"counts\": 574}, {\"year\": 2019, \"dayofyear\": 233, \"counts\": 522}, {\"year\": 2019, \"dayofyear\": 234, \"counts\": 587}, {\"year\": 2019, \"dayofyear\": 235, \"counts\": 569}, {\"year\": 2019, \"dayofyear\": 236, \"counts\": 514}, {\"year\": 2019, \"dayofyear\": 237, \"counts\": 482}, {\"year\": 2019, \"dayofyear\": 238, \"counts\": 494}, {\"year\": 2019, \"dayofyear\": 239, \"counts\": 529}, {\"year\": 2019, \"dayofyear\": 240, \"counts\": 553}, {\"year\": 2019, \"dayofyear\": 241, \"counts\": 592}, {\"year\": 2019, \"dayofyear\": 242, \"counts\": 630}, {\"year\": 2019, \"dayofyear\": 243, \"counts\": 502}, {\"year\": 2019, \"dayofyear\": 244, \"counts\": 473}, {\"year\": 2019, \"dayofyear\": 245, \"counts\": 426}, {\"year\": 2019, \"dayofyear\": 246, \"counts\": 652}, {\"year\": 2019, \"dayofyear\": 247, \"counts\": 600}, {\"year\": 2019, \"dayofyear\": 248, \"counts\": 628}, {\"year\": 2019, \"dayofyear\": 249, \"counts\": 591}, {\"year\": 2019, \"dayofyear\": 250, \"counts\": 489}, {\"year\": 2019, \"dayofyear\": 251, \"counts\": 462}, {\"year\": 2019, \"dayofyear\": 252, \"counts\": 603}, {\"year\": 2019, \"dayofyear\": 253, \"counts\": 605}, {\"year\": 2019, \"dayofyear\": 254, \"counts\": 624}, {\"year\": 2019, \"dayofyear\": 255, \"counts\": 689}, {\"year\": 2019, \"dayofyear\": 256, \"counts\": 687}, {\"year\": 2019, \"dayofyear\": 257, \"counts\": 488}, {\"year\": 2019, \"dayofyear\": 258, \"counts\": 604}, {\"year\": 2019, \"dayofyear\": 259, \"counts\": 620}, {\"year\": 2019, \"dayofyear\": 260, \"counts\": 635}, {\"year\": 2019, \"dayofyear\": 261, \"counts\": 605}, {\"year\": 2019, \"dayofyear\": 262, \"counts\": 605}, {\"year\": 2019, \"dayofyear\": 263, \"counts\": 688}, {\"year\": 2019, \"dayofyear\": 264, \"counts\": 577}, {\"year\": 2019, \"dayofyear\": 265, \"counts\": 515}, {\"year\": 2019, \"dayofyear\": 266, \"counts\": 639}, {\"year\": 2019, \"dayofyear\": 267, \"counts\": 628}, {\"year\": 2019, \"dayofyear\": 268, \"counts\": 604}, {\"year\": 2019, \"dayofyear\": 269, \"counts\": 645}, {\"year\": 2019, \"dayofyear\": 270, \"counts\": 703}, {\"year\": 2019, \"dayofyear\": 271, \"counts\": 532}, {\"year\": 2019, \"dayofyear\": 272, \"counts\": 488}, {\"year\": 2019, \"dayofyear\": 273, \"counts\": 435}, {\"year\": 2019, \"dayofyear\": 274, \"counts\": 454}, {\"year\": 2019, \"dayofyear\": 275, \"counts\": 688}, {\"year\": 2019, \"dayofyear\": 276, \"counts\": 690}, {\"year\": 2019, \"dayofyear\": 277, \"counts\": 707}, {\"year\": 2019, \"dayofyear\": 278, \"counts\": 557}, {\"year\": 2019, \"dayofyear\": 279, \"counts\": 435}, {\"year\": 2019, \"dayofyear\": 280, \"counts\": 575}, {\"year\": 2019, \"dayofyear\": 281, \"counts\": 523}, {\"year\": 2019, \"dayofyear\": 282, \"counts\": 383}, {\"year\": 2019, \"dayofyear\": 283, \"counts\": 615}, {\"year\": 2019, \"dayofyear\": 284, \"counts\": 606}, {\"year\": 2019, \"dayofyear\": 285, \"counts\": 502}, {\"year\": 2019, \"dayofyear\": 286, \"counts\": 441}, {\"year\": 2019, \"dayofyear\": 287, \"counts\": 400}, {\"year\": 2019, \"dayofyear\": 288, \"counts\": 549}, {\"year\": 2019, \"dayofyear\": 289, \"counts\": 658}, {\"year\": 2019, \"dayofyear\": 290, \"counts\": 608}, {\"year\": 2019, \"dayofyear\": 291, \"counts\": 634}, {\"year\": 2019, \"dayofyear\": 292, \"counts\": 585}, {\"year\": 2019, \"dayofyear\": 293, \"counts\": 500}, {\"year\": 2019, \"dayofyear\": 294, \"counts\": 559}, {\"year\": 2019, \"dayofyear\": 295, \"counts\": 562}, {\"year\": 2019, \"dayofyear\": 296, \"counts\": 669}, {\"year\": 2019, \"dayofyear\": 297, \"counts\": 613}, {\"year\": 2019, \"dayofyear\": 298, \"counts\": 647}, {\"year\": 2019, \"dayofyear\": 299, \"counts\": 525}, {\"year\": 2019, \"dayofyear\": 300, \"counts\": 467}, {\"year\": 2019, \"dayofyear\": 301, \"counts\": 607}, {\"year\": 2019, \"dayofyear\": 302, \"counts\": 639}, {\"year\": 2019, \"dayofyear\": 303, \"counts\": 595}, {\"year\": 2019, \"dayofyear\": 304, \"counts\": 616}, {\"year\": 2019, \"dayofyear\": 305, \"counts\": 782}, {\"year\": 2019, \"dayofyear\": 306, \"counts\": 506}, {\"year\": 2019, \"dayofyear\": 307, \"counts\": 479}, {\"year\": 2019, \"dayofyear\": 308, \"counts\": 623}, {\"year\": 2019, \"dayofyear\": 309, \"counts\": 440}, {\"year\": 2019, \"dayofyear\": 310, \"counts\": 615}, {\"year\": 2019, \"dayofyear\": 311, \"counts\": 669}, {\"year\": 2019, \"dayofyear\": 312, \"counts\": 676}, {\"year\": 2019, \"dayofyear\": 313, \"counts\": 502}, {\"year\": 2019, \"dayofyear\": 314, \"counts\": 456}, {\"year\": 2019, \"dayofyear\": 315, \"counts\": 481}, {\"year\": 2019, \"dayofyear\": 316, \"counts\": 595}, {\"year\": 2019, \"dayofyear\": 317, \"counts\": 599}, {\"year\": 2019, \"dayofyear\": 318, \"counts\": 545}, {\"year\": 2019, \"dayofyear\": 319, \"counts\": 621}, {\"year\": 2019, \"dayofyear\": 320, \"counts\": 526}, {\"year\": 2019, \"dayofyear\": 321, \"counts\": 444}, {\"year\": 2019, \"dayofyear\": 322, \"counts\": 743}, {\"year\": 2019, \"dayofyear\": 323, \"counts\": 629}, {\"year\": 2019, \"dayofyear\": 324, \"counts\": 526}, {\"year\": 2019, \"dayofyear\": 325, \"counts\": 647}, {\"year\": 2019, \"dayofyear\": 326, \"counts\": 633}, {\"year\": 2019, \"dayofyear\": 327, \"counts\": 528}, {\"year\": 2019, \"dayofyear\": 328, \"counts\": 517}, {\"year\": 2019, \"dayofyear\": 329, \"counts\": 641}, {\"year\": 2019, \"dayofyear\": 330, \"counts\": 702}, {\"year\": 2019, \"dayofyear\": 331, \"counts\": 561}, {\"year\": 2019, \"dayofyear\": 332, \"counts\": 374}, {\"year\": 2019, \"dayofyear\": 333, \"counts\": 425}, {\"year\": 2019, \"dayofyear\": 334, \"counts\": 465}, {\"year\": 2019, \"dayofyear\": 335, \"counts\": 409}, {\"year\": 2019, \"dayofyear\": 336, \"counts\": 580}, {\"year\": 2019, \"dayofyear\": 337, \"counts\": 620}, {\"year\": 2019, \"dayofyear\": 338, \"counts\": 552}, {\"year\": 2019, \"dayofyear\": 339, \"counts\": 597}, {\"year\": 2019, \"dayofyear\": 340, \"counts\": 563}, {\"year\": 2019, \"dayofyear\": 341, \"counts\": 566}, {\"year\": 2019, \"dayofyear\": 342, \"counts\": 455}, {\"year\": 2019, \"dayofyear\": 343, \"counts\": 737}, {\"year\": 2019, \"dayofyear\": 344, \"counts\": 666}, {\"year\": 2019, \"dayofyear\": 345, \"counts\": 578}, {\"year\": 2019, \"dayofyear\": 346, \"counts\": 599}, {\"year\": 2019, \"dayofyear\": 347, \"counts\": 760}, {\"year\": 2019, \"dayofyear\": 348, \"counts\": 577}, {\"year\": 2019, \"dayofyear\": 349, \"counts\": 503}, {\"year\": 2019, \"dayofyear\": 350, \"counts\": 519}, {\"year\": 2019, \"dayofyear\": 351, \"counts\": 700}, {\"year\": 2019, \"dayofyear\": 352, \"counts\": 701}, {\"year\": 2019, \"dayofyear\": 353, \"counts\": 698}, {\"year\": 2019, \"dayofyear\": 354, \"counts\": 697}, {\"year\": 2019, \"dayofyear\": 355, \"counts\": 520}, {\"year\": 2019, \"dayofyear\": 356, \"counts\": 510}, {\"year\": 2019, \"dayofyear\": 357, \"counts\": 593}, {\"year\": 2019, \"dayofyear\": 358, \"counts\": 530}, {\"year\": 2019, \"dayofyear\": 359, \"counts\": 264}, {\"year\": 2019, \"dayofyear\": 360, \"counts\": 414}, {\"year\": 2019, \"dayofyear\": 361, \"counts\": 448}, {\"year\": 2019, \"dayofyear\": 362, \"counts\": 355}, {\"year\": 2019, \"dayofyear\": 363, \"counts\": 384}, {\"year\": 2019, \"dayofyear\": 364, \"counts\": 517}, {\"year\": 2019, \"dayofyear\": 365, \"counts\": 444}, {\"year\": 2020, \"dayofyear\": 1, \"counts\": 336}, {\"year\": 2020, \"dayofyear\": 2, \"counts\": 409}, {\"year\": 2020, \"dayofyear\": 3, \"counts\": 452}, {\"year\": 2020, \"dayofyear\": 4, \"counts\": 347}, {\"year\": 2020, \"dayofyear\": 5, \"counts\": 285}, {\"year\": 2020, \"dayofyear\": 6, \"counts\": 455}, {\"year\": 2020, \"dayofyear\": 7, \"counts\": 401}, {\"year\": 2020, \"dayofyear\": 8, \"counts\": 451}, {\"year\": 2020, \"dayofyear\": 9, \"counts\": 517}, {\"year\": 2020, \"dayofyear\": 10, \"counts\": 520}, {\"year\": 2020, \"dayofyear\": 11, \"counts\": 438}, {\"year\": 2020, \"dayofyear\": 12, \"counts\": 387}, {\"year\": 2020, \"dayofyear\": 13, \"counts\": 473}, {\"year\": 2020, \"dayofyear\": 14, \"counts\": 497}, {\"year\": 2020, \"dayofyear\": 15, \"counts\": 505}, {\"year\": 2020, \"dayofyear\": 16, \"counts\": 546}, {\"year\": 2020, \"dayofyear\": 17, \"counts\": 564}, {\"year\": 2020, \"dayofyear\": 18, \"counts\": 772}, {\"year\": 2020, \"dayofyear\": 19, \"counts\": 359}, {\"year\": 2020, \"dayofyear\": 20, \"counts\": 389}, {\"year\": 2020, \"dayofyear\": 21, \"counts\": 554}, {\"year\": 2020, \"dayofyear\": 22, \"counts\": 488}, {\"year\": 2020, \"dayofyear\": 23, \"counts\": 450}, {\"year\": 2020, \"dayofyear\": 24, \"counts\": 523}, {\"year\": 2020, \"dayofyear\": 25, \"counts\": 383}, {\"year\": 2020, \"dayofyear\": 26, \"counts\": 395}, {\"year\": 2020, \"dayofyear\": 27, \"counts\": 451}, {\"year\": 2020, \"dayofyear\": 28, \"counts\": 402}, {\"year\": 2020, \"dayofyear\": 29, \"counts\": 491}, {\"year\": 2020, \"dayofyear\": 30, \"counts\": 521}, {\"year\": 2020, \"dayofyear\": 31, \"counts\": 516}, {\"year\": 2020, \"dayofyear\": 32, \"counts\": 409}, {\"year\": 2020, \"dayofyear\": 33, \"counts\": 388}, {\"year\": 2020, \"dayofyear\": 34, \"counts\": 558}, {\"year\": 2020, \"dayofyear\": 35, \"counts\": 465}, {\"year\": 2020, \"dayofyear\": 36, \"counts\": 432}, {\"year\": 2020, \"dayofyear\": 37, \"counts\": 544}, {\"year\": 2020, \"dayofyear\": 38, \"counts\": 603}, {\"year\": 2020, \"dayofyear\": 39, \"counts\": 466}, {\"year\": 2020, \"dayofyear\": 40, \"counts\": 370}, {\"year\": 2020, \"dayofyear\": 41, \"counts\": 568}, {\"year\": 2020, \"dayofyear\": 42, \"counts\": 458}, {\"year\": 2020, \"dayofyear\": 43, \"counts\": 438}, {\"year\": 2020, \"dayofyear\": 44, \"counts\": 503}, {\"year\": 2020, \"dayofyear\": 45, \"counts\": 629}, {\"year\": 2020, \"dayofyear\": 46, \"counts\": 439}, {\"year\": 2020, \"dayofyear\": 47, \"counts\": 384}, {\"year\": 2020, \"dayofyear\": 48, \"counts\": 339}, {\"year\": 2020, \"dayofyear\": 49, \"counts\": 425}, {\"year\": 2020, \"dayofyear\": 50, \"counts\": 477}, {\"year\": 2020, \"dayofyear\": 51, \"counts\": 448}, {\"year\": 2020, \"dayofyear\": 52, \"counts\": 502}, {\"year\": 2020, \"dayofyear\": 53, \"counts\": 406}, {\"year\": 2020, \"dayofyear\": 54, \"counts\": 390}, {\"year\": 2020, \"dayofyear\": 55, \"counts\": 493}, {\"year\": 2020, \"dayofyear\": 56, \"counts\": 525}, {\"year\": 2020, \"dayofyear\": 57, \"counts\": 449}, {\"year\": 2020, \"dayofyear\": 58, \"counts\": 580}, {\"year\": 2020, \"dayofyear\": 59, \"counts\": 528}, {\"year\": 2020, \"dayofyear\": 60, \"counts\": 456}, {\"year\": 2020, \"dayofyear\": 61, \"counts\": 422}, {\"year\": 2020, \"dayofyear\": 62, \"counts\": 560}, {\"year\": 2020, \"dayofyear\": 63, \"counts\": 548}, {\"year\": 2020, \"dayofyear\": 64, \"counts\": 538}, {\"year\": 2020, \"dayofyear\": 65, \"counts\": 528}, {\"year\": 2020, \"dayofyear\": 66, \"counts\": 671}, {\"year\": 2020, \"dayofyear\": 67, \"counts\": 515}, {\"year\": 2020, \"dayofyear\": 68, \"counts\": 406}, {\"year\": 2020, \"dayofyear\": 69, \"counts\": 545}, {\"year\": 2020, \"dayofyear\": 70, \"counts\": 447}, {\"year\": 2020, \"dayofyear\": 71, \"counts\": 473}, {\"year\": 2020, \"dayofyear\": 72, \"counts\": 454}, {\"year\": 2020, \"dayofyear\": 73, \"counts\": 548}, {\"year\": 2020, \"dayofyear\": 74, \"counts\": 369}, {\"year\": 2020, \"dayofyear\": 75, \"counts\": 330}, {\"year\": 2020, \"dayofyear\": 76, \"counts\": 377}, {\"year\": 2020, \"dayofyear\": 77, \"counts\": 374}, {\"year\": 2020, \"dayofyear\": 78, \"counts\": 296}, {\"year\": 2020, \"dayofyear\": 79, \"counts\": 332}, {\"year\": 2020, \"dayofyear\": 80, \"counts\": 304}, {\"year\": 2020, \"dayofyear\": 81, \"counts\": 236}, {\"year\": 2020, \"dayofyear\": 82, \"counts\": 139}, {\"year\": 2020, \"dayofyear\": 83, \"counts\": 224}, {\"year\": 2020, \"dayofyear\": 84, \"counts\": 200}, {\"year\": 2020, \"dayofyear\": 85, \"counts\": 168}, {\"year\": 2020, \"dayofyear\": 86, \"counts\": 187}, {\"year\": 2020, \"dayofyear\": 87, \"counts\": 193}, {\"year\": 2020, \"dayofyear\": 88, \"counts\": 182}, {\"year\": 2020, \"dayofyear\": 89, \"counts\": 145}, {\"year\": 2020, \"dayofyear\": 90, \"counts\": 163}, {\"year\": 2020, \"dayofyear\": 91, \"counts\": 154}, {\"year\": 2020, \"dayofyear\": 92, \"counts\": 154}, {\"year\": 2020, \"dayofyear\": 93, \"counts\": 166}, {\"year\": 2020, \"dayofyear\": 94, \"counts\": 189}, {\"year\": 2020, \"dayofyear\": 95, \"counts\": 155}, {\"year\": 2020, \"dayofyear\": 96, \"counts\": 93}, {\"year\": 2020, \"dayofyear\": 97, \"counts\": 126}, {\"year\": 2020, \"dayofyear\": 98, \"counts\": 129}, {\"year\": 2020, \"dayofyear\": 99, \"counts\": 124}, {\"year\": 2020, \"dayofyear\": 100, \"counts\": 101}, {\"year\": 2020, \"dayofyear\": 101, \"counts\": 115}, {\"year\": 2020, \"dayofyear\": 102, \"counts\": 121}, {\"year\": 2020, \"dayofyear\": 103, \"counts\": 105}, {\"year\": 2020, \"dayofyear\": 104, \"counts\": 136}, {\"year\": 2020, \"dayofyear\": 105, \"counts\": 134}, {\"year\": 2020, \"dayofyear\": 106, \"counts\": 138}, {\"year\": 2020, \"dayofyear\": 107, \"counts\": 136}, {\"year\": 2020, \"dayofyear\": 108, \"counts\": 155}, {\"year\": 2020, \"dayofyear\": 109, \"counts\": 124}, {\"year\": 2020, \"dayofyear\": 110, \"counts\": 103}, {\"year\": 2020, \"dayofyear\": 111, \"counts\": 139}, {\"year\": 2020, \"dayofyear\": 112, \"counts\": 117}, {\"year\": 2020, \"dayofyear\": 113, \"counts\": 147}, {\"year\": 2020, \"dayofyear\": 114, \"counts\": 107}, {\"year\": 2020, \"dayofyear\": 115, \"counts\": 169}, {\"year\": 2020, \"dayofyear\": 116, \"counts\": 148}, {\"year\": 2020, \"dayofyear\": 117, \"counts\": 139}, {\"year\": 2020, \"dayofyear\": 118, \"counts\": 126}, {\"year\": 2020, \"dayofyear\": 119, \"counts\": 183}, {\"year\": 2020, \"dayofyear\": 120, \"counts\": 136}, {\"year\": 2020, \"dayofyear\": 121, \"counts\": 167}, {\"year\": 2020, \"dayofyear\": 122, \"counts\": 183}, {\"year\": 2020, \"dayofyear\": 123, \"counts\": 180}, {\"year\": 2020, \"dayofyear\": 124, \"counts\": 161}, {\"year\": 2020, \"dayofyear\": 125, \"counts\": 171}, {\"year\": 2020, \"dayofyear\": 126, \"counts\": 162}, {\"year\": 2020, \"dayofyear\": 127, \"counts\": 175}, {\"year\": 2020, \"dayofyear\": 128, \"counts\": 169}, {\"year\": 2020, \"dayofyear\": 129, \"counts\": 162}, {\"year\": 2020, \"dayofyear\": 130, \"counts\": 140}, {\"year\": 2020, \"dayofyear\": 131, \"counts\": 155}, {\"year\": 2020, \"dayofyear\": 132, \"counts\": 159}, {\"year\": 2020, \"dayofyear\": 133, \"counts\": 146}]}}, {\"mode\": \"vega-lite\"});\n",
       "</script>"
      ],
      "text/plain": [
       "alt.Chart(...)"
      ]
     },
     "execution_count": 13,
     "metadata": {
      "tags": []
     },
     "output_type": "execute_result"
    }
   ],
   "source": [
    "source = data_df.groupby(['year', 'dayofyear']).size().to_frame('counts').reset_index()\n",
    "\n",
    "max = source['counts'].max()\n",
    "min = source['counts'].min()\n",
    "\n",
    "alt.Chart(source).mark_rect().encode(\n",
    "    alt.X('dayofyear:O', title='Day of Year', axis=alt.Axis(labelAngle=-0, tickCount=30)),\n",
    "    alt.Y('year:O', title='Year', axis=alt.Axis(labelAngle=-0)),\n",
    "    alt.Color('counts', bin=alt.Bin(extent=[min, max], step=100), \n",
    "        scale=alt.Scale(scheme='yellowgreenblue'),\n",
    "        legend=alt.Legend(title='Total Records')\n",
    "    )\n",
    ").properties(\n",
    "    width=800\n",
    ")\n"
   ]
  },
  {
   "cell_type": "markdown",
   "metadata": {
    "colab_type": "text",
    "id": "_86quAOdBS2Z"
   },
   "source": [
    "### Month/Hour Heatmap"
   ]
  },
  {
   "cell_type": "code",
   "execution_count": 0,
   "metadata": {
    "colab": {
     "base_uri": "https://localhost:8080/",
     "height": 320
    },
    "colab_type": "code",
    "id": "Zgn5xw3VUmXB",
    "outputId": "570044b7-b925-4b09-bbea-65acf72da5a0"
   },
   "outputs": [
    {
     "data": {
      "text/html": [
       "\n",
       "<div id=\"altair-viz-dd34f221d8d0431fba44ac6d4ac963c1\"></div>\n",
       "<script type=\"text/javascript\">\n",
       "  (function(spec, embedOpt){\n",
       "    let outputDiv = document.currentScript.previousElementSibling;\n",
       "    if (outputDiv.id !== \"altair-viz-dd34f221d8d0431fba44ac6d4ac963c1\") {\n",
       "      outputDiv = document.getElementById(\"altair-viz-dd34f221d8d0431fba44ac6d4ac963c1\");\n",
       "    }\n",
       "    const paths = {\n",
       "      \"vega\": \"https://cdn.jsdelivr.net/npm//vega@5?noext\",\n",
       "      \"vega-lib\": \"https://cdn.jsdelivr.net/npm//vega-lib?noext\",\n",
       "      \"vega-lite\": \"https://cdn.jsdelivr.net/npm//vega-lite@4.8.1?noext\",\n",
       "      \"vega-embed\": \"https://cdn.jsdelivr.net/npm//vega-embed@6?noext\",\n",
       "    };\n",
       "\n",
       "    function loadScript(lib) {\n",
       "      return new Promise(function(resolve, reject) {\n",
       "        var s = document.createElement('script');\n",
       "        s.src = paths[lib];\n",
       "        s.async = true;\n",
       "        s.onload = () => resolve(paths[lib]);\n",
       "        s.onerror = () => reject(`Error loading script: ${paths[lib]}`);\n",
       "        document.getElementsByTagName(\"head\")[0].appendChild(s);\n",
       "      });\n",
       "    }\n",
       "\n",
       "    function showError(err) {\n",
       "      outputDiv.innerHTML = `<div class=\"error\" style=\"color:red;\">${err}</div>`;\n",
       "      throw err;\n",
       "    }\n",
       "\n",
       "    function displayChart(vegaEmbed) {\n",
       "      vegaEmbed(outputDiv, spec, embedOpt)\n",
       "        .catch(err => showError(`Javascript Error: ${err.message}<br>This usually means there's a typo in your chart specification. See the javascript console for the full traceback.`));\n",
       "    }\n",
       "\n",
       "    if(typeof define === \"function\" && define.amd) {\n",
       "      requirejs.config({paths});\n",
       "      require([\"vega-embed\"], displayChart, err => showError(`Error loading script: ${err.message}`));\n",
       "    } else if (typeof vegaEmbed === \"function\") {\n",
       "      displayChart(vegaEmbed);\n",
       "    } else {\n",
       "      loadScript(\"vega\")\n",
       "        .then(() => loadScript(\"vega-lite\"))\n",
       "        .then(() => loadScript(\"vega-embed\"))\n",
       "        .catch(showError)\n",
       "        .then(() => displayChart(vegaEmbed));\n",
       "    }\n",
       "  })({\"config\": {\"view\": {\"continuousWidth\": 400, \"continuousHeight\": 300}}, \"data\": {\"name\": \"data-6d150e3843f9210f150a24ac4032d9ef\"}, \"mark\": \"rect\", \"encoding\": {\"color\": {\"type\": \"quantitative\", \"bin\": {\"extent\": [1200, 11312], \"step\": 1000}, \"field\": \"counts\", \"legend\": {\"title\": \"Total Records\"}, \"scale\": {\"scheme\": \"greenblue\"}}, \"x\": {\"type\": \"ordinal\", \"axis\": {\"labelAngle\": 0}, \"field\": \"hour\"}, \"y\": {\"type\": \"ordinal\", \"field\": \"month\"}}, \"title\": \"Month By Hour \", \"width\": 600, \"$schema\": \"https://vega.github.io/schema/vega-lite/v4.8.1.json\", \"datasets\": {\"data-6d150e3843f9210f150a24ac4032d9ef\": [{\"month\": 1, \"hour\": 0, \"counts\": 3538}, {\"month\": 1, \"hour\": 1, \"counts\": 2043}, {\"month\": 1, \"hour\": 2, \"counts\": 1668}, {\"month\": 1, \"hour\": 3, \"counts\": 1438}, {\"month\": 1, \"hour\": 4, \"counts\": 1780}, {\"month\": 1, \"hour\": 5, \"counts\": 1996}, {\"month\": 1, \"hour\": 6, \"counts\": 3296}, {\"month\": 1, \"hour\": 7, \"counts\": 4323}, {\"month\": 1, \"hour\": 8, \"counts\": 8474}, {\"month\": 1, \"hour\": 9, \"counts\": 7921}, {\"month\": 1, \"hour\": 10, \"counts\": 7123}, {\"month\": 1, \"hour\": 11, \"counts\": 7196}, {\"month\": 1, \"hour\": 12, \"counts\": 7363}, {\"month\": 1, \"hour\": 13, \"counts\": 7866}, {\"month\": 1, \"hour\": 14, \"counts\": 9095}, {\"month\": 1, \"hour\": 15, \"counts\": 8288}, {\"month\": 1, \"hour\": 16, \"counts\": 9203}, {\"month\": 1, \"hour\": 17, \"counts\": 9107}, {\"month\": 1, \"hour\": 18, \"counts\": 8546}, {\"month\": 1, \"hour\": 19, \"counts\": 6714}, {\"month\": 1, \"hour\": 20, \"counts\": 5344}, {\"month\": 1, \"hour\": 21, \"counts\": 4279}, {\"month\": 1, \"hour\": 22, \"counts\": 3792}, {\"month\": 1, \"hour\": 23, \"counts\": 3026}, {\"month\": 2, \"hour\": 0, \"counts\": 3384}, {\"month\": 2, \"hour\": 1, \"counts\": 1801}, {\"month\": 2, \"hour\": 2, \"counts\": 1406}, {\"month\": 2, \"hour\": 3, \"counts\": 1269}, {\"month\": 2, \"hour\": 4, \"counts\": 1555}, {\"month\": 2, \"hour\": 5, \"counts\": 1742}, {\"month\": 2, \"hour\": 6, \"counts\": 2889}, {\"month\": 2, \"hour\": 7, \"counts\": 3863}, {\"month\": 2, \"hour\": 8, \"counts\": 8005}, {\"month\": 2, \"hour\": 9, \"counts\": 7357}, {\"month\": 2, \"hour\": 10, \"counts\": 6613}, {\"month\": 2, \"hour\": 11, \"counts\": 6739}, {\"month\": 2, \"hour\": 12, \"counts\": 6928}, {\"month\": 2, \"hour\": 13, \"counts\": 7302}, {\"month\": 2, \"hour\": 14, \"counts\": 8495}, {\"month\": 2, \"hour\": 15, \"counts\": 7698}, {\"month\": 2, \"hour\": 16, \"counts\": 8803}, {\"month\": 2, \"hour\": 17, \"counts\": 7796}, {\"month\": 2, \"hour\": 18, \"counts\": 7591}, {\"month\": 2, \"hour\": 19, \"counts\": 6413}, {\"month\": 2, \"hour\": 20, \"counts\": 5093}, {\"month\": 2, \"hour\": 21, \"counts\": 4030}, {\"month\": 2, \"hour\": 22, \"counts\": 3619}, {\"month\": 2, \"hour\": 23, \"counts\": 3008}, {\"month\": 3, \"hour\": 0, \"counts\": 3695}, {\"month\": 3, \"hour\": 1, \"counts\": 1878}, {\"month\": 3, \"hour\": 2, \"counts\": 1429}, {\"month\": 3, \"hour\": 3, \"counts\": 1372}, {\"month\": 3, \"hour\": 4, \"counts\": 1675}, {\"month\": 3, \"hour\": 5, \"counts\": 1916}, {\"month\": 3, \"hour\": 6, \"counts\": 3040}, {\"month\": 3, \"hour\": 7, \"counts\": 4359}, {\"month\": 3, \"hour\": 8, \"counts\": 8432}, {\"month\": 3, \"hour\": 9, \"counts\": 8027}, {\"month\": 3, \"hour\": 10, \"counts\": 7183}, {\"month\": 3, \"hour\": 11, \"counts\": 7266}, {\"month\": 3, \"hour\": 12, \"counts\": 7612}, {\"month\": 3, \"hour\": 13, \"counts\": 8141}, {\"month\": 3, \"hour\": 14, \"counts\": 9416}, {\"month\": 3, \"hour\": 15, \"counts\": 8808}, {\"month\": 3, \"hour\": 16, \"counts\": 10431}, {\"month\": 3, \"hour\": 17, \"counts\": 9503}, {\"month\": 3, \"hour\": 18, \"counts\": 7894}, {\"month\": 3, \"hour\": 19, \"counts\": 6445}, {\"month\": 3, \"hour\": 20, \"counts\": 5827}, {\"month\": 3, \"hour\": 21, \"counts\": 4701}, {\"month\": 3, \"hour\": 22, \"counts\": 4161}, {\"month\": 3, \"hour\": 23, \"counts\": 3292}, {\"month\": 4, \"hour\": 0, \"counts\": 3498}, {\"month\": 4, \"hour\": 1, \"counts\": 1917}, {\"month\": 4, \"hour\": 2, \"counts\": 1389}, {\"month\": 4, \"hour\": 3, \"counts\": 1200}, {\"month\": 4, \"hour\": 4, \"counts\": 1511}, {\"month\": 4, \"hour\": 5, \"counts\": 1655}, {\"month\": 4, \"hour\": 6, \"counts\": 2610}, {\"month\": 4, \"hour\": 7, \"counts\": 3987}, {\"month\": 4, \"hour\": 8, \"counts\": 7050}, {\"month\": 4, \"hour\": 9, \"counts\": 6610}, {\"month\": 4, \"hour\": 10, \"counts\": 6315}, {\"month\": 4, \"hour\": 11, \"counts\": 6589}, {\"month\": 4, \"hour\": 12, \"counts\": 7019}, {\"month\": 4, \"hour\": 13, \"counts\": 7392}, {\"month\": 4, \"hour\": 14, \"counts\": 8715}, {\"month\": 4, \"hour\": 15, \"counts\": 8128}, {\"month\": 4, \"hour\": 16, \"counts\": 9786}, {\"month\": 4, \"hour\": 17, \"counts\": 9298}, {\"month\": 4, \"hour\": 18, \"counts\": 7965}, {\"month\": 4, \"hour\": 19, \"counts\": 5804}, {\"month\": 4, \"hour\": 20, \"counts\": 5190}, {\"month\": 4, \"hour\": 21, \"counts\": 4382}, {\"month\": 4, \"hour\": 22, \"counts\": 3918}, {\"month\": 4, \"hour\": 23, \"counts\": 3185}, {\"month\": 5, \"hour\": 0, \"counts\": 4112}, {\"month\": 5, \"hour\": 1, \"counts\": 2147}, {\"month\": 5, \"hour\": 2, \"counts\": 1558}, {\"month\": 5, \"hour\": 3, \"counts\": 1357}, {\"month\": 5, \"hour\": 4, \"counts\": 1507}, {\"month\": 5, \"hour\": 5, \"counts\": 1706}, {\"month\": 5, \"hour\": 6, \"counts\": 2769}, {\"month\": 5, \"hour\": 7, \"counts\": 4390}, {\"month\": 5, \"hour\": 8, \"counts\": 7880}, {\"month\": 5, \"hour\": 9, \"counts\": 7455}, {\"month\": 5, \"hour\": 10, \"counts\": 6902}, {\"month\": 5, \"hour\": 11, \"counts\": 7327}, {\"month\": 5, \"hour\": 12, \"counts\": 7720}, {\"month\": 5, \"hour\": 13, \"counts\": 8113}, {\"month\": 5, \"hour\": 14, \"counts\": 9671}, {\"month\": 5, \"hour\": 15, \"counts\": 9286}, {\"month\": 5, \"hour\": 16, \"counts\": 10950}, {\"month\": 5, \"hour\": 17, \"counts\": 10635}, {\"month\": 5, \"hour\": 18, \"counts\": 9020}, {\"month\": 5, \"hour\": 19, \"counts\": 6821}, {\"month\": 5, \"hour\": 20, \"counts\": 5386}, {\"month\": 5, \"hour\": 21, \"counts\": 4792}, {\"month\": 5, \"hour\": 22, \"counts\": 4466}, {\"month\": 5, \"hour\": 23, \"counts\": 3656}, {\"month\": 6, \"hour\": 0, \"counts\": 4432}, {\"month\": 6, \"hour\": 1, \"counts\": 2183}, {\"month\": 6, \"hour\": 2, \"counts\": 1682}, {\"month\": 6, \"hour\": 3, \"counts\": 1314}, {\"month\": 6, \"hour\": 4, \"counts\": 1473}, {\"month\": 6, \"hour\": 5, \"counts\": 1595}, {\"month\": 6, \"hour\": 6, \"counts\": 2668}, {\"month\": 6, \"hour\": 7, \"counts\": 3708}, {\"month\": 6, \"hour\": 8, \"counts\": 7200}, {\"month\": 6, \"hour\": 9, \"counts\": 7084}, {\"month\": 6, \"hour\": 10, \"counts\": 6642}, {\"month\": 6, \"hour\": 11, \"counts\": 7275}, {\"month\": 6, \"hour\": 12, \"counts\": 7799}, {\"month\": 6, \"hour\": 13, \"counts\": 8203}, {\"month\": 6, \"hour\": 14, \"counts\": 9672}, {\"month\": 6, \"hour\": 15, \"counts\": 8959}, {\"month\": 6, \"hour\": 16, \"counts\": 10736}, {\"month\": 6, \"hour\": 17, \"counts\": 10536}, {\"month\": 6, \"hour\": 18, \"counts\": 8992}, {\"month\": 6, \"hour\": 19, \"counts\": 7317}, {\"month\": 6, \"hour\": 20, \"counts\": 5362}, {\"month\": 6, \"hour\": 21, \"counts\": 4723}, {\"month\": 6, \"hour\": 22, \"counts\": 4488}, {\"month\": 6, \"hour\": 23, \"counts\": 3791}, {\"month\": 7, \"hour\": 0, \"counts\": 4760}, {\"month\": 7, \"hour\": 1, \"counts\": 2613}, {\"month\": 7, \"hour\": 2, \"counts\": 1936}, {\"month\": 7, \"hour\": 3, \"counts\": 1612}, {\"month\": 7, \"hour\": 4, \"counts\": 1692}, {\"month\": 7, \"hour\": 5, \"counts\": 1771}, {\"month\": 7, \"hour\": 6, \"counts\": 2733}, {\"month\": 7, \"hour\": 7, \"counts\": 3639}, {\"month\": 7, \"hour\": 8, \"counts\": 6824}, {\"month\": 7, \"hour\": 9, \"counts\": 7641}, {\"month\": 7, \"hour\": 10, \"counts\": 7358}, {\"month\": 7, \"hour\": 11, \"counts\": 7890}, {\"month\": 7, \"hour\": 12, \"counts\": 8515}, {\"month\": 7, \"hour\": 13, \"counts\": 9113}, {\"month\": 7, \"hour\": 14, \"counts\": 10231}, {\"month\": 7, \"hour\": 15, \"counts\": 9329}, {\"month\": 7, \"hour\": 16, \"counts\": 11196}, {\"month\": 7, \"hour\": 17, \"counts\": 10985}, {\"month\": 7, \"hour\": 18, \"counts\": 9693}, {\"month\": 7, \"hour\": 19, \"counts\": 7736}, {\"month\": 7, \"hour\": 20, \"counts\": 6026}, {\"month\": 7, \"hour\": 21, \"counts\": 5531}, {\"month\": 7, \"hour\": 22, \"counts\": 5268}, {\"month\": 7, \"hour\": 23, \"counts\": 4394}, {\"month\": 8, \"hour\": 0, \"counts\": 4447}, {\"month\": 8, \"hour\": 1, \"counts\": 2495}, {\"month\": 8, \"hour\": 2, \"counts\": 1907}, {\"month\": 8, \"hour\": 3, \"counts\": 1547}, {\"month\": 8, \"hour\": 4, \"counts\": 1754}, {\"month\": 8, \"hour\": 5, \"counts\": 1801}, {\"month\": 8, \"hour\": 6, \"counts\": 2601}, {\"month\": 8, \"hour\": 7, \"counts\": 3416}, {\"month\": 8, \"hour\": 8, \"counts\": 6638}, {\"month\": 8, \"hour\": 9, \"counts\": 7400}, {\"month\": 8, \"hour\": 10, \"counts\": 7397}, {\"month\": 8, \"hour\": 11, \"counts\": 7804}, {\"month\": 8, \"hour\": 12, \"counts\": 8615}, {\"month\": 8, \"hour\": 13, \"counts\": 9097}, {\"month\": 8, \"hour\": 14, \"counts\": 10304}, {\"month\": 8, \"hour\": 15, \"counts\": 8984}, {\"month\": 8, \"hour\": 16, \"counts\": 11211}, {\"month\": 8, \"hour\": 17, \"counts\": 10812}, {\"month\": 8, \"hour\": 18, \"counts\": 9210}, {\"month\": 8, \"hour\": 19, \"counts\": 7322}, {\"month\": 8, \"hour\": 20, \"counts\": 6116}, {\"month\": 8, \"hour\": 21, \"counts\": 5557}, {\"month\": 8, \"hour\": 22, \"counts\": 5042}, {\"month\": 8, \"hour\": 23, \"counts\": 4183}, {\"month\": 9, \"hour\": 0, \"counts\": 4255}, {\"month\": 9, \"hour\": 1, \"counts\": 2341}, {\"month\": 9, \"hour\": 2, \"counts\": 1824}, {\"month\": 9, \"hour\": 3, \"counts\": 1434}, {\"month\": 9, \"hour\": 4, \"counts\": 1675}, {\"month\": 9, \"hour\": 5, \"counts\": 1969}, {\"month\": 9, \"hour\": 6, \"counts\": 3017}, {\"month\": 9, \"hour\": 7, \"counts\": 4400}, {\"month\": 9, \"hour\": 8, \"counts\": 8298}, {\"month\": 9, \"hour\": 9, \"counts\": 8282}, {\"month\": 9, \"hour\": 10, \"counts\": 7503}, {\"month\": 9, \"hour\": 11, \"counts\": 7647}, {\"month\": 9, \"hour\": 12, \"counts\": 8135}, {\"month\": 9, \"hour\": 13, \"counts\": 8449}, {\"month\": 9, \"hour\": 14, \"counts\": 9714}, {\"month\": 9, \"hour\": 15, \"counts\": 9556}, {\"month\": 9, \"hour\": 16, \"counts\": 11312}, {\"month\": 9, \"hour\": 17, \"counts\": 10320}, {\"month\": 9, \"hour\": 18, \"counts\": 8547}, {\"month\": 9, \"hour\": 19, \"counts\": 6847}, {\"month\": 9, \"hour\": 20, \"counts\": 6395}, {\"month\": 9, \"hour\": 21, \"counts\": 5413}, {\"month\": 9, \"hour\": 22, \"counts\": 4645}, {\"month\": 9, \"hour\": 23, \"counts\": 3746}, {\"month\": 10, \"hour\": 0, \"counts\": 4236}, {\"month\": 10, \"hour\": 1, \"counts\": 2227}, {\"month\": 10, \"hour\": 2, \"counts\": 1654}, {\"month\": 10, \"hour\": 3, \"counts\": 1480}, {\"month\": 10, \"hour\": 4, \"counts\": 1779}, {\"month\": 10, \"hour\": 5, \"counts\": 2033}, {\"month\": 10, \"hour\": 6, \"counts\": 3580}, {\"month\": 10, \"hour\": 7, \"counts\": 4846}, {\"month\": 10, \"hour\": 8, \"counts\": 9237}, {\"month\": 10, \"hour\": 9, \"counts\": 8662}, {\"month\": 10, \"hour\": 10, \"counts\": 7763}, {\"month\": 10, \"hour\": 11, \"counts\": 7824}, {\"month\": 10, \"hour\": 12, \"counts\": 8352}, {\"month\": 10, \"hour\": 13, \"counts\": 8645}, {\"month\": 10, \"hour\": 14, \"counts\": 10201}, {\"month\": 10, \"hour\": 15, \"counts\": 9425}, {\"month\": 10, \"hour\": 16, \"counts\": 11309}, {\"month\": 10, \"hour\": 17, \"counts\": 10331}, {\"month\": 10, \"hour\": 18, \"counts\": 8590}, {\"month\": 10, \"hour\": 19, \"counts\": 8130}, {\"month\": 10, \"hour\": 20, \"counts\": 6886}, {\"month\": 10, \"hour\": 21, \"counts\": 5411}, {\"month\": 10, \"hour\": 22, \"counts\": 4634}, {\"month\": 10, \"hour\": 23, \"counts\": 3742}, {\"month\": 11, \"hour\": 0, \"counts\": 4164}, {\"month\": 11, \"hour\": 1, \"counts\": 2192}, {\"month\": 11, \"hour\": 2, \"counts\": 1642}, {\"month\": 11, \"hour\": 3, \"counts\": 1584}, {\"month\": 11, \"hour\": 4, \"counts\": 1806}, {\"month\": 11, \"hour\": 5, \"counts\": 2029}, {\"month\": 11, \"hour\": 6, \"counts\": 3172}, {\"month\": 11, \"hour\": 7, \"counts\": 4564}, {\"month\": 11, \"hour\": 8, \"counts\": 8562}, {\"month\": 11, \"hour\": 9, \"counts\": 8159}, {\"month\": 11, \"hour\": 10, \"counts\": 7421}, {\"month\": 11, \"hour\": 11, \"counts\": 7699}, {\"month\": 11, \"hour\": 12, \"counts\": 7820}, {\"month\": 11, \"hour\": 13, \"counts\": 8327}, {\"month\": 11, \"hour\": 14, \"counts\": 9507}, {\"month\": 11, \"hour\": 15, \"counts\": 8651}, {\"month\": 11, \"hour\": 16, \"counts\": 9597}, {\"month\": 11, \"hour\": 17, \"counts\": 10499}, {\"month\": 11, \"hour\": 18, \"counts\": 9498}, {\"month\": 11, \"hour\": 19, \"counts\": 7928}, {\"month\": 11, \"hour\": 20, \"counts\": 6335}, {\"month\": 11, \"hour\": 21, \"counts\": 4954}, {\"month\": 11, \"hour\": 22, \"counts\": 4422}, {\"month\": 11, \"hour\": 23, \"counts\": 3568}, {\"month\": 12, \"hour\": 0, \"counts\": 4392}, {\"month\": 12, \"hour\": 1, \"counts\": 2455}, {\"month\": 12, \"hour\": 2, \"counts\": 1814}, {\"month\": 12, \"hour\": 3, \"counts\": 1708}, {\"month\": 12, \"hour\": 4, \"counts\": 1895}, {\"month\": 12, \"hour\": 5, \"counts\": 2068}, {\"month\": 12, \"hour\": 6, \"counts\": 3402}, {\"month\": 12, \"hour\": 7, \"counts\": 4101}, {\"month\": 12, \"hour\": 8, \"counts\": 7823}, {\"month\": 12, \"hour\": 9, \"counts\": 7592}, {\"month\": 12, \"hour\": 10, \"counts\": 7054}, {\"month\": 12, \"hour\": 11, \"counts\": 7356}, {\"month\": 12, \"hour\": 12, \"counts\": 8044}, {\"month\": 12, \"hour\": 13, \"counts\": 8435}, {\"month\": 12, \"hour\": 14, \"counts\": 9774}, {\"month\": 12, \"hour\": 15, \"counts\": 8488}, {\"month\": 12, \"hour\": 16, \"counts\": 9597}, {\"month\": 12, \"hour\": 17, \"counts\": 11060}, {\"month\": 12, \"hour\": 18, \"counts\": 10038}, {\"month\": 12, \"hour\": 19, \"counts\": 8216}, {\"month\": 12, \"hour\": 20, \"counts\": 6800}, {\"month\": 12, \"hour\": 21, \"counts\": 5259}, {\"month\": 12, \"hour\": 22, \"counts\": 4739}, {\"month\": 12, \"hour\": 23, \"counts\": 3941}]}}, {\"mode\": \"vega-lite\"});\n",
       "</script>"
      ],
      "text/plain": [
       "alt.Chart(...)"
      ]
     },
     "execution_count": 14,
     "metadata": {
      "tags": []
     },
     "output_type": "execute_result"
    }
   ],
   "source": [
    "source = data_df.groupby(['month', 'hour']).size().to_frame('counts').reset_index()\n",
    "\n",
    "max = source['counts'].max()\n",
    "min = source['counts'].min()\n",
    "\n",
    "alt.Chart(source).mark_rect().encode(\n",
    "    alt.X('hour:O', axis=alt.Axis(labelAngle=-0)),\n",
    "    alt.Y('month:O'),\n",
    "    alt.Color('counts', bin=alt.Bin(extent=[min, max], step=1000), \n",
    "        scale=alt.Scale(scheme='greenblue'),\n",
    "        legend=alt.Legend(title='Total Records')\n",
    "    )\n",
    ").properties(\n",
    "    width=600,\n",
    "    title='Month By Hour '\n",
    ")\n"
   ]
  },
  {
   "cell_type": "markdown",
   "metadata": {
    "colab_type": "text",
    "id": "rsMU9lLuBZHZ"
   },
   "source": [
    "### Weekday/Hour Heatmap"
   ]
  },
  {
   "cell_type": "code",
   "execution_count": 0,
   "metadata": {
    "colab": {
     "base_uri": "https://localhost:8080/",
     "height": 267
    },
    "colab_type": "code",
    "id": "wPQ_jBW-29XY",
    "outputId": "3eeaff4e-b628-4ed1-c2f9-8efc8b770323"
   },
   "outputs": [
    {
     "data": {
      "text/html": [
       "\n",
       "<div id=\"altair-viz-1fd517834e6c4b4c9e49ca19693feac0\"></div>\n",
       "<script type=\"text/javascript\">\n",
       "  (function(spec, embedOpt){\n",
       "    let outputDiv = document.currentScript.previousElementSibling;\n",
       "    if (outputDiv.id !== \"altair-viz-1fd517834e6c4b4c9e49ca19693feac0\") {\n",
       "      outputDiv = document.getElementById(\"altair-viz-1fd517834e6c4b4c9e49ca19693feac0\");\n",
       "    }\n",
       "    const paths = {\n",
       "      \"vega\": \"https://cdn.jsdelivr.net/npm//vega@5?noext\",\n",
       "      \"vega-lib\": \"https://cdn.jsdelivr.net/npm//vega-lib?noext\",\n",
       "      \"vega-lite\": \"https://cdn.jsdelivr.net/npm//vega-lite@4.8.1?noext\",\n",
       "      \"vega-embed\": \"https://cdn.jsdelivr.net/npm//vega-embed@6?noext\",\n",
       "    };\n",
       "\n",
       "    function loadScript(lib) {\n",
       "      return new Promise(function(resolve, reject) {\n",
       "        var s = document.createElement('script');\n",
       "        s.src = paths[lib];\n",
       "        s.async = true;\n",
       "        s.onload = () => resolve(paths[lib]);\n",
       "        s.onerror = () => reject(`Error loading script: ${paths[lib]}`);\n",
       "        document.getElementsByTagName(\"head\")[0].appendChild(s);\n",
       "      });\n",
       "    }\n",
       "\n",
       "    function showError(err) {\n",
       "      outputDiv.innerHTML = `<div class=\"error\" style=\"color:red;\">${err}</div>`;\n",
       "      throw err;\n",
       "    }\n",
       "\n",
       "    function displayChart(vegaEmbed) {\n",
       "      vegaEmbed(outputDiv, spec, embedOpt)\n",
       "        .catch(err => showError(`Javascript Error: ${err.message}<br>This usually means there's a typo in your chart specification. See the javascript console for the full traceback.`));\n",
       "    }\n",
       "\n",
       "    if(typeof define === \"function\" && define.amd) {\n",
       "      requirejs.config({paths});\n",
       "      require([\"vega-embed\"], displayChart, err => showError(`Error loading script: ${err.message}`));\n",
       "    } else if (typeof vegaEmbed === \"function\") {\n",
       "      displayChart(vegaEmbed);\n",
       "    } else {\n",
       "      loadScript(\"vega\")\n",
       "        .then(() => loadScript(\"vega-lite\"))\n",
       "        .then(() => loadScript(\"vega-embed\"))\n",
       "        .catch(showError)\n",
       "        .then(() => displayChart(vegaEmbed));\n",
       "    }\n",
       "  })({\"config\": {\"view\": {\"continuousWidth\": 400, \"continuousHeight\": 300}}, \"data\": {\"name\": \"data-7ef9e1918f6fe1afec188e03696c8d98\"}, \"mark\": \"rect\", \"encoding\": {\"color\": {\"type\": \"quantitative\", \"bin\": {\"extent\": [10856, 197156], \"step\": 2000}, \"field\": \"counts\", \"legend\": {\"title\": \"Total Records\"}, \"scale\": {\"scheme\": \"greenblue\"}}, \"x\": {\"type\": \"ordinal\", \"axis\": {\"labelAngle\": 0}, \"field\": \"peak\"}, \"y\": {\"type\": \"ordinal\", \"field\": \"weekday\"}}, \"title\": \"Weekday By Hour \", \"width\": 600, \"$schema\": \"https://vega.github.io/schema/vega-lite/v4.8.1.json\", \"datasets\": {\"data-7ef9e1918f6fe1afec188e03696c8d98\": [{\"weekday\": 0, \"peak\": \"Evening Peak\", \"counts\": 36298}, {\"weekday\": 0, \"peak\": \"Morning Peak\", \"counts\": 31765}, {\"weekday\": 0, \"peak\": \"Not Peak\", \"counts\": 172578}, {\"weekday\": 1, \"peak\": \"Evening Peak\", \"counts\": 37687}, {\"weekday\": 1, \"peak\": \"Morning Peak\", \"counts\": 33445}, {\"weekday\": 1, \"peak\": \"Not Peak\", \"counts\": 177847}, {\"weekday\": 2, \"peak\": \"Evening Peak\", \"counts\": 37307}, {\"weekday\": 2, \"peak\": \"Morning Peak\", \"counts\": 31768}, {\"weekday\": 2, \"peak\": \"Not Peak\", \"counts\": 177425}, {\"weekday\": 3, \"peak\": \"Evening Peak\", \"counts\": 37654}, {\"weekday\": 3, \"peak\": \"Morning Peak\", \"counts\": 32442}, {\"weekday\": 3, \"peak\": \"Not Peak\", \"counts\": 182244}, {\"weekday\": 4, \"peak\": \"Evening Peak\", \"counts\": 40075}, {\"weekday\": 4, \"peak\": \"Morning Peak\", \"counts\": 31207}, {\"weekday\": 4, \"peak\": \"Not Peak\", \"counts\": 197156}, {\"weekday\": 5, \"peak\": \"Evening Peak\", \"counts\": 29536}, {\"weekday\": 5, \"peak\": \"Morning Peak\", \"counts\": 15130}, {\"weekday\": 5, \"peak\": \"Not Peak\", \"counts\": 178331}, {\"weekday\": 6, \"peak\": \"Evening Peak\", \"counts\": 26456}, {\"weekday\": 6, \"peak\": \"Morning Peak\", \"counts\": 10856}, {\"weekday\": 6, \"peak\": \"Not Peak\", \"counts\": 159685}]}}, {\"mode\": \"vega-lite\"});\n",
       "</script>"
      ],
      "text/plain": [
       "alt.Chart(...)"
      ]
     },
     "execution_count": 17,
     "metadata": {
      "tags": []
     },
     "output_type": "execute_result"
    }
   ],
   "source": [
    "# source=source.loc[data_df[\"zip\"]]\n",
    "for index, row in data_df.iterrows():\n",
    "    # print(\"hello\")\n",
    "    if row[\"hour\"]>=8 and  row[\"hour\"]<10:\n",
    "      data_df.at[index, \"peak\"]=\"Morning Peak\"\n",
    "    elif row[\"hour\"]>=16 and  row[\"hour\"]<18:\n",
    "      data_df.at[index, \"peak\"]=\"Evening Peak\"\n",
    "    else:\n",
    "      data_df.at[index, \"peak\"]=\"Not Peak\"\n",
    "# print(data_df.head())\n",
    "source = data_df.groupby(['weekday', 'peak']).size().to_frame('counts').reset_index()\n",
    "\n",
    "max = source['counts'].max()\n",
    "min = source['counts'].min()\n",
    "\n",
    "alt.Chart(source).mark_rect().encode(\n",
    "    alt.X('peak:O', axis=alt.Axis(labelAngle=-0)),\n",
    "    alt.Y('weekday:O'),\n",
    "    alt.Color('counts', bin=alt.Bin(extent=[min, max], step=2000), \n",
    "        scale=alt.Scale(scheme='greenblue'),\n",
    "        legend=alt.Legend(title='Total Records')\n",
    "    )\n",
    ").properties(\n",
    "    width=600,\n",
    "    title='Weekday By Hour '\n",
    ")\n",
    "\n"
   ]
  },
  {
   "cell_type": "markdown",
   "metadata": {
    "colab_type": "text",
    "id": "i4liCRAh7_vs"
   },
   "source": [
    "### Zipcode"
   ]
  },
  {
   "cell_type": "code",
   "execution_count": 0,
   "metadata": {
    "colab": {},
    "colab_type": "code",
    "id": "I8Z0BYJJ65pr"
   },
   "outputs": [],
   "source": [
    "source = data_df.groupby(['borough', 'zip_code']).size().reset_index(name='counts')\n",
    "source=source.set_index(\"borough\")\n",
    "\n",
    "bronx=source.loc[\"BRONX\"]\n",
    "bronx=bronx.reset_index()\n",
    "bronx=bronx.loc[bronx[\"counts\"]!=0]\n",
    "bronx=bronx.loc[bronx[\"counts\"]>=bronx[\"counts\"].mean()]\n",
    "\n",
    "brooklyn=source.loc[\"BROOKLYN\"]\n",
    "brooklyn=brooklyn.reset_index()\n",
    "brooklyn=brooklyn.loc[brooklyn[\"counts\"]!=0]\n",
    "brooklyn=brooklyn.loc[brooklyn[\"counts\"]>=brooklyn[\"counts\"].mean()]\n",
    "\n",
    "manhattan=source.loc[\"MANHATTAN\"]\n",
    "manhattan=manhattan.reset_index()\n",
    "manhattan=manhattan.loc[manhattan[\"counts\"]!=0]\n",
    "manhattan=manhattan.loc[manhattan[\"counts\"]>=manhattan[\"counts\"].mean()]\n",
    "\n",
    "queens=source.loc[\"QUEENS\"]\n",
    "queens=queens.reset_index()\n",
    "queens=queens.loc[queens[\"counts\"]!=0]\n",
    "queens=queens.loc[queens[\"counts\"]>=queens[\"counts\"].mean()]\n",
    "\n",
    "staten_island=source.loc[\"STATEN ISLAND\"]\n",
    "staten_island=staten_island.reset_index()\n",
    "staten_island=staten_island.loc[staten_island[\"counts\"]!=0]\n",
    "# staten_island=staten_island.loc[staten_island[\"counts\"]>=staten_island[\"counts\"].mean()]\n",
    "\n",
    "chart1 = alt.Chart(bronx).mark_bar().encode(\n",
    "    alt.X('counts:Q'),\n",
    "    alt.Y('zip_code:O',sort='-x'),\n",
    "    \n",
    ").properties(\n",
    "    height=200,\n",
    "    width=200,\n",
    "     title='Bronx-Collision over Zipcode'\n",
    ")\n",
    "\n",
    "\n",
    "chart2 = alt.Chart(brooklyn).mark_bar().encode(\n",
    "    alt.X('counts:Q'),\n",
    "    alt.Y('zip_code:O',sort='-x'),\n",
    "    \n",
    ").properties(\n",
    "    height=200,\n",
    "    width=200,\n",
    "    title='Brooklyn-Collision over Zipcode'\n",
    ")\n",
    "\n",
    "chart3 = alt.Chart(manhattan).mark_bar().encode(\n",
    "    alt.X('counts:Q'),\n",
    "    alt.Y('zip_code:O',sort='-x'),\n",
    "    \n",
    ").properties(\n",
    "    height=200,\n",
    "    width=200,\n",
    "    title='Manhattan-Collision over Zipcode'\n",
    ")\n",
    "\n",
    "\n",
    "chart4 = alt.Chart(queens).mark_bar().encode(\n",
    "    alt.X('counts:Q'),\n",
    "    alt.Y('zip_code:O',sort='-x'),\n",
    "    \n",
    ").properties(\n",
    "  height=200,\n",
    "    width=200,\n",
    "    title='Queens-Collision over Zipcode'\n",
    ")\n",
    "\n",
    "chart5 = alt.Chart(staten_island).mark_bar().encode(\n",
    "    alt.X('counts:Q'),\n",
    "    alt.Y('zip_code:O',sort='-x'),\n",
    "    \n",
    ").properties(\n",
    "    height=200,\n",
    "    width=200,\n",
    "    title='Staten Island-Collision over Zipcode'\n",
    ")\n",
    "\n",
    "chart1 | chart2 | chart3 | chart4 | chart5\n",
    "# bronx.head()\n",
    "# chart1"
   ]
  },
  {
   "cell_type": "code",
   "execution_count": 0,
   "metadata": {
    "colab": {},
    "colab_type": "code",
    "id": "jll3A6pPmPQZ"
   },
   "outputs": [],
   "source": [
    "source = data_df.groupby(['borough', 'zip_code']).size().reset_index(name='counts')\n",
    "source['percentage'] = source.counts / source.counts.sum()\n",
    "source = source.sort_values('percentage', ascending=False).groupby('borough').head(5)\n",
    "\n",
    "bars = alt.Chart().mark_bar().encode(\n",
    "    x=alt.X('zip_code:N', sort='-y', axis=alt.Axis(labelAngle=-90)),\n",
    "    y=alt.Y('percentage:Q', axis=alt.Axis(format='%', labelAngle=-0), title=\"Percentage of Total Collisions\"),\n",
    "    color='borough',\n",
    "    text='counts:Q'\n",
    ")\n",
    "\n",
    "alt.layer(bars, data=source).properties(\n",
    "    height=300,\n",
    "    width=600,\n",
    "    title='Top 5 most dangerous zipcodes of each borough, sorted'\n",
    ")\n",
    "\n"
   ]
  },
  {
   "cell_type": "code",
   "execution_count": 0,
   "metadata": {
    "colab": {
     "base_uri": "https://localhost:8080/",
     "height": 533
    },
    "colab_type": "code",
    "id": "TkulaP0w8JlT",
    "outputId": "f0e77f71-a00b-49ef-bcd5-7d1d120fe8c6"
   },
   "outputs": [
    {
     "data": {
      "text/html": [
       "\n",
       "<div id=\"altair-viz-d9f4e885dd244b90b781b322bdede793\"></div>\n",
       "<script type=\"text/javascript\">\n",
       "  (function(spec, embedOpt){\n",
       "    let outputDiv = document.currentScript.previousElementSibling;\n",
       "    if (outputDiv.id !== \"altair-viz-d9f4e885dd244b90b781b322bdede793\") {\n",
       "      outputDiv = document.getElementById(\"altair-viz-d9f4e885dd244b90b781b322bdede793\");\n",
       "    }\n",
       "    const paths = {\n",
       "      \"vega\": \"https://cdn.jsdelivr.net/npm//vega@5?noext\",\n",
       "      \"vega-lib\": \"https://cdn.jsdelivr.net/npm//vega-lib?noext\",\n",
       "      \"vega-lite\": \"https://cdn.jsdelivr.net/npm//vega-lite@4.8.1?noext\",\n",
       "      \"vega-embed\": \"https://cdn.jsdelivr.net/npm//vega-embed@6?noext\",\n",
       "    };\n",
       "\n",
       "    function loadScript(lib) {\n",
       "      return new Promise(function(resolve, reject) {\n",
       "        var s = document.createElement('script');\n",
       "        s.src = paths[lib];\n",
       "        s.async = true;\n",
       "        s.onload = () => resolve(paths[lib]);\n",
       "        s.onerror = () => reject(`Error loading script: ${paths[lib]}`);\n",
       "        document.getElementsByTagName(\"head\")[0].appendChild(s);\n",
       "      });\n",
       "    }\n",
       "\n",
       "    function showError(err) {\n",
       "      outputDiv.innerHTML = `<div class=\"error\" style=\"color:red;\">${err}</div>`;\n",
       "      throw err;\n",
       "    }\n",
       "\n",
       "    function displayChart(vegaEmbed) {\n",
       "      vegaEmbed(outputDiv, spec, embedOpt)\n",
       "        .catch(err => showError(`Javascript Error: ${err.message}<br>This usually means there's a typo in your chart specification. See the javascript console for the full traceback.`));\n",
       "    }\n",
       "\n",
       "    if(typeof define === \"function\" && define.amd) {\n",
       "      requirejs.config({paths});\n",
       "      require([\"vega-embed\"], displayChart, err => showError(`Error loading script: ${err.message}`));\n",
       "    } else if (typeof vegaEmbed === \"function\") {\n",
       "      displayChart(vegaEmbed);\n",
       "    } else {\n",
       "      loadScript(\"vega\")\n",
       "        .then(() => loadScript(\"vega-lite\"))\n",
       "        .then(() => loadScript(\"vega-embed\"))\n",
       "        .catch(showError)\n",
       "        .then(() => displayChart(vegaEmbed));\n",
       "    }\n",
       "  })({\"config\": {\"view\": {\"continuousWidth\": 400, \"continuousHeight\": 300}}, \"hconcat\": [{\"data\": {\"name\": \"data-5c951f578b3a5f4aedc9b5163d8fce33\"}, \"facet\": {\"column\": {\"type\": \"nominal\", \"field\": \"peak\"}}, \"spec\": {\"mark\": \"bar\", \"encoding\": {\"x\": {\"type\": \"ordinal\", \"axis\": {\"labelAngle\": 0}, \"field\": \"zip_code\", \"sort\": \"-y\", \"title\": \"Zip Code\"}, \"y\": {\"type\": \"quantitative\", \"field\": \"counts\", \"title\": \"Total Collisions\"}}, \"height\": 400, \"title\": \"Most dangerous zipcode in each borough over the years\", \"width\": 400}}, {\"data\": {\"name\": \"data-e4bace1598edbadc5897d1e92c8201a6\"}, \"facet\": {\"column\": {\"type\": \"nominal\", \"field\": \"peak\"}}, \"spec\": {\"mark\": \"bar\", \"encoding\": {\"x\": {\"type\": \"ordinal\", \"axis\": {\"labelAngle\": 0}, \"field\": \"zip_code\", \"sort\": \"-y\", \"title\": \"Zip Code\"}, \"y\": {\"type\": \"quantitative\", \"field\": \"counts\", \"title\": \"Total Collisions\"}}, \"height\": 400, \"title\": \"Most dangerous zipcode in each borough over the years\", \"width\": 400}}], \"$schema\": \"https://vega.github.io/schema/vega-lite/v4.8.1.json\", \"datasets\": {\"data-5c951f578b3a5f4aedc9b5163d8fce33\": [{\"borough\": \"BROOKLYN\", \"zip_code\": \"11207\", \"peak\": \"Morning Peak\", \"counts\": 2300}, {\"borough\": \"BROOKLYN\", \"zip_code\": \"11203\", \"peak\": \"Morning Peak\", \"counts\": 1691}, {\"borough\": \"BROOKLYN\", \"zip_code\": \"11236\", \"peak\": \"Morning Peak\", \"counts\": 1665}, {\"borough\": \"BROOKLYN\", \"zip_code\": \"11201\", \"peak\": \"Morning Peak\", \"counts\": 1651}, {\"borough\": \"BROOKLYN\", \"zip_code\": \"11234\", \"peak\": \"Morning Peak\", \"counts\": 1516}], \"data-e4bace1598edbadc5897d1e92c8201a6\": [{\"borough\": \"BROOKLYN\", \"zip_code\": \"11207\", \"peak\": \"Evening Peak\", \"counts\": 3161}, {\"borough\": \"BROOKLYN\", \"zip_code\": \"11234\", \"peak\": \"Evening Peak\", \"counts\": 2207}, {\"borough\": \"BROOKLYN\", \"zip_code\": \"11203\", \"peak\": \"Evening Peak\", \"counts\": 2194}, {\"borough\": \"BROOKLYN\", \"zip_code\": \"11226\", \"peak\": \"Evening Peak\", \"counts\": 1999}, {\"borough\": \"BROOKLYN\", \"zip_code\": \"11236\", \"peak\": \"Evening Peak\", \"counts\": 1994}]}}, {\"mode\": \"vega-lite\"});\n",
       "</script>"
      ],
      "text/plain": [
       "alt.HConcatChart(...)"
      ]
     },
     "execution_count": 31,
     "metadata": {
      "tags": []
     },
     "output_type": "execute_result"
    }
   ],
   "source": [
    "source = data_df.groupby(['borough', 'zip_code', 'peak']).size().reset_index(name='counts')\n",
    "source=source.loc[source[\"borough\"]==\"BROOKLYN\"]\n",
    "source=source.loc[source[\"peak\"]==\"Morning Peak\"]\n",
    "source\n",
    "source = source.sort_values('counts', ascending=False).groupby([ 'peak']).head()\n",
    "base = alt.Chart(source).mark_bar().encode(\n",
    "    x=alt.X('zip_code:O', title='Zip Code',axis=alt.Axis(labelAngle=-0),sort=\"-y\"),\n",
    "    y=alt.Y('counts:Q', title=\"Total Collisions\"),\n",
    "    # color='peak:N',\n",
    ").properties(\n",
    "    height=400,\n",
    "    width=400,\n",
    "    title='Most dangerous zipcode in each borough over the years'\n",
    ").facet(\n",
    "    column=\"peak\"\n",
    ")\n",
    "\n",
    "source = data_df.groupby(['borough', 'zip_code', 'peak']).size().reset_index(name='counts')\n",
    "source=source.loc[source[\"borough\"]==\"BROOKLYN\"]\n",
    "source=source.loc[source[\"peak\"]==\"Evening Peak\"]\n",
    "source\n",
    "source = source.sort_values('counts', ascending=False).groupby([ 'peak']).head()\n",
    "base1 = alt.Chart(source).mark_bar().encode(\n",
    "    x=alt.X('zip_code:O', title='Zip Code',axis=alt.Axis(labelAngle=-0),sort=\"-y\"),\n",
    "    y=alt.Y('counts:Q', title=\"Total Collisions\"),\n",
    "    # color='peak:N',\n",
    ").properties(\n",
    "    height=400,\n",
    "    width=400,\n",
    "    title='Most dangerous zipcode in each borough over the years'\n",
    ").facet(\n",
    "    column=\"peak\"\n",
    ")\n",
    "base | base1\n",
    "\n",
    "# texts = base.mark_text(\n",
    "#     align='center',\n",
    "#     baseline='bottom',\n",
    "# ).encode(\n",
    "#     text='zip_code:Q'\n",
    "# )\n",
    "# alt.layer(base, texts, data=source)"
   ]
  },
  {
   "cell_type": "code",
   "execution_count": 0,
   "metadata": {
    "colab": {},
    "colab_type": "code",
    "id": "MN_qhb_l8OxF"
   },
   "outputs": [],
   "source": [
    "source = data_df.groupby(['borough', 'zip_code', 'year']).size().reset_index(name='counts')\n",
    "source = source.sort_values('counts', ascending=False).groupby(['borough', 'year']).head(1)\n",
    "base = alt.Chart(source).mark_area().encode(\n",
    "    x=alt.X('year:O', title='Year', axis=alt.Axis(labelAngle=-0)),\n",
    "    y=alt.Y('counts:Q', title=\"Total Collisions\"),\n",
    "    color='zip_code:N',\n",
    ").properties(\n",
    "    height=200,\n",
    "    width=300,\n",
    ")\n",
    "\n",
    "texts = base.mark_text(\n",
    "    align='center',\n",
    "    baseline='bottom',\n",
    ").encode(\n",
    "    text='zip_code:Q'\n",
    ")\n",
    "\n",
    "alt.layer(base, texts, data=source).facet(\n",
    "    column='borough',\n",
    "    title='Most dangerous zipcode in each borough over the years'\n",
    ")"
   ]
  },
  {
   "cell_type": "markdown",
   "metadata": {
    "colab_type": "text",
    "id": "QdtfkKm9aLxu"
   },
   "source": [
    "### Borough"
   ]
  },
  {
   "cell_type": "code",
   "execution_count": 0,
   "metadata": {
    "colab": {},
    "colab_type": "code",
    "id": "W3h6AJWOM_vH"
   },
   "outputs": [],
   "source": [
    "data_df['borough'] = data_df['borough'].astype('str') \n",
    "bor = data_df.groupby(['borough']).size().to_frame('counts')\n",
    "\n",
    "data_df=data_df.loc[data_df['borough']!='nan']\n",
    "data_df['borough'].unique()\n",
    "total=data_df['borough'].count()\n",
    "print(total)\n",
    "for index, row in bor.iterrows():\n",
    "    bor.at[index, \"normalized\"]=float((row[\"counts\"]/total)*100)\n",
    "bor=bor.reset_index()\n",
    "bor.head()\n",
    "\n",
    "chart1 = alt.Chart(bor).mark_bar().encode(\n",
    "    alt.X('counts:Q'),\n",
    "    alt.Y('borough:O',sort='-x'),\n",
    "    color='borough:N'\n",
    ").properties(\n",
    "    height=200,\n",
    "    width=200,\n",
    "    title='Collision over Borough-Count '\n",
    ")\n",
    "\n",
    "chart2 = alt.Chart(bor).mark_bar().encode(\n",
    "    alt.X('normalized:Q',axis=alt.Axis(title='percentage')),\n",
    "    alt.Y('borough:O',sort='-x'),\n",
    "    color='borough:N'\n",
    ").properties(\n",
    "    height=200,\n",
    "    width=200,\n",
    "    title='Collision over Borough-% '\n",
    ")\n",
    "\n",
    "chart1 | chart2"
   ]
  },
  {
   "cell_type": "code",
   "execution_count": 0,
   "metadata": {
    "colab": {},
    "colab_type": "code",
    "id": "NHWpPQO9L_-J"
   },
   "outputs": [],
   "source": [
    "\n",
    "bor = data_df.groupby(['borough',\"year\"]).size().to_frame('counts')\n",
    "\n",
    "data_df=data_df.loc[data_df['borough']!='nan']\n",
    "data_df['borough'].unique()\n",
    "total=data_df['year'].count()\n",
    "bor[\"normalized\"]=0.0\n",
    "for index, row in bor.iterrows():\n",
    "    bor.at[index, \"normalized\"]=float((row[\"counts\"]/total)*100)\n",
    "bor=bor.reset_index()\n",
    "bor.head()\n",
    "\n",
    "\n",
    "# chart2 = alt.Chart(bor).mark_bar().encode(\n",
    "#     alt.X('counts:Q',axis=alt.Axis(title='Count')),\n",
    "#     alt.Y('year:O',sort='-y'),\n",
    "    \n",
    "# ).properties(\n",
    "#     height=200,\n",
    "#     width=200,\n",
    "#     title='Collision over Borough countover years'\n",
    "# ).facet(\n",
    "#     column='borough:N',\n",
    "#     title='Type of vehicles in collision by Borough-% '\n",
    "# )\n",
    "\n",
    "alt.Chart(bor).mark_line().encode(\n",
    "    alt.X('year:O'),\n",
    "    alt.Y('normalized:Q',axis=alt.Axis(title='counts')),\n",
    "    color='borough:N'\n",
    ").properties(\n",
    "    width=450,\n",
    "    height=300,\n",
    "    title='Collision over Borough-count over year'\n",
    ")"
   ]
  },
  {
   "cell_type": "code",
   "execution_count": 0,
   "metadata": {
    "colab": {},
    "colab_type": "code",
    "id": "cJGFnDQgBpGg"
   },
   "outputs": [],
   "source": [
    "def normalize(df,data_df,col):\n",
    "  bor = data_df.groupby(['borough']).size().to_frame('counts')\n",
    "  bronx=pd.to_numeric(bor.loc[\"BRONX\"].counts)\n",
    "  brooklyn=pd.to_numeric(bor.loc[\"BROOKLYN\"].counts)\n",
    "  manhattan=pd.to_numeric(bor.loc[\"MANHATTAN\"].counts)\n",
    "  queens=pd.to_numeric(bor.loc[\"QUEENS\"].counts)\n",
    "  staten_island=pd.to_numeric(bor.loc[\"STATEN ISLAND\"].counts)\n",
    "  df[\"totalcount\"]=0\n",
    "\n",
    "  # for index, row in df.iterrows():\n",
    "  #   if row[\"borough\"]==\"BRONX\":\n",
    "  #     df.at[index, \"totalcount\"]=bronx\n",
    "  #   elif row[\"borough\"]==\"BROOKLYN\":\n",
    "  #     df.at[index, \"totalcount\"]=brooklyn\n",
    "  #   elif row[\"borough\"]==\"MANHATTAN\":\n",
    "  #     df.at[index, \"totalcount\"]=manhattan\n",
    "  #   elif row[\"borough\"]==\"QUEENS\":\n",
    "  #     df.at[index, \"totalcount\"]=queens\n",
    "  #   elif row[\"borough\"]==\"STATEN ISLAND\":\n",
    "  #     df.at[index, \"totalcount\"]=staten_island\n",
    "  # df=df.loc[df[\"totalcount\"]!=0]\n",
    "  # # print(\"hi\")\n",
    "  totalcount=data_df[col].count()\n",
    "  df[\"normalized\"]=0.0\n",
    "  for index, row in df.iterrows():\n",
    "    # print(\"hello\")\n",
    "    df.at[index, \"normalized\"]=float(float(row[\"counts\"])/float(totalcount))*100\n",
    "  print(df.head())\n",
    "\n",
    "  return df\n",
    "\n",
    "source = data_df.groupby(['weekday', 'borough']).size().to_frame('counts').reset_index()\n",
    "\n",
    "source=normalize(source,data_df,\"weekday\")\n",
    "print(source.columns)\n",
    "source.head()"
   ]
  },
  {
   "cell_type": "code",
   "execution_count": 0,
   "metadata": {
    "colab": {},
    "colab_type": "code",
    "id": "UP68flgpMlcj"
   },
   "outputs": [],
   "source": [
    "color= ['red', 'steelblue', 'chartreuse', '#F4D03F', '#D35400', '#7D3C98']\n",
    "alt.Chart(source).mark_line().encode(\n",
    "    alt.X('weekday:O'),\n",
    "    alt.Y('normalized:Q',axis=alt.Axis(title='percentage')),\n",
    "    color='borough:N'\n",
    ").properties(\n",
    "    width=450,\n",
    "    height=300*2,\n",
    "    title='Collision over Borough-% over weekday'\n",
    ")"
   ]
  },
  {
   "cell_type": "code",
   "execution_count": 0,
   "metadata": {
    "colab": {},
    "colab_type": "code",
    "id": "xYaOOptdy0u9"
   },
   "outputs": [],
   "source": [
    "source = data_df.groupby(['hour','borough']).size().to_frame('counts').reset_index()\n",
    "source=normalize(source,data_df,\"hour\")\n",
    "# source=source.set_index(\"weekday\")\n",
    "# source.dtypes\n",
    "# source=source.loc[[1,2,3,4,5]]\n",
    "source=source.reset_index()\n",
    "alt.Chart(source).mark_line().encode(\n",
    "    alt.X('hour:O'),\n",
    "    alt.Y('normalized:Q',axis=alt.Axis(title='percentage')),\n",
    "    color='borough:N'\n",
    ").properties(\n",
    "    width=400,\n",
    "    height=300*2,\n",
    "    title='Collision in Boroughs-% by hour'\n",
    ")\n",
    "\n",
    "for index, row in data_df.iterrows():\n",
    "    # print(\"hello\")\n",
    "    if row[\"hour\"]>=8 and  row[\"hour\"]<10:\n",
    "      data_df.at[index, \"peak\"]=\"Morning Peak\"\n",
    "    elif row[\"hour\"]>=16 and  row[\"hour\"]<18:\n",
    "      data_df.at[index, \"peak\"]=\"Evening Peak\"\n",
    "    else:\n",
    "      data_df.at[index, \"peak\"]=\"Not Peak\"\n",
    "print(data_df.head())"
   ]
  },
  {
   "cell_type": "code",
   "execution_count": 0,
   "metadata": {
    "colab": {},
    "colab_type": "code",
    "id": "kecg024Rz8BX"
   },
   "outputs": [],
   "source": [
    "source = data_df.groupby(['contributing_factor_vehicle_1','borough',\"peak\"]).size().to_frame('counts').reset_index()\n",
    "source=source.loc[source[\"contributing_factor_vehicle_1\"]!=\"UNSPECIFIED\"]\n",
    "source=source.loc[source[\"contributing_factor_vehicle_1\"]!=\"1\"]\n",
    "source=source.loc[source[\"contributing_factor_vehicle_1\"]!=\"80\"]\n",
    "source=source.loc[source[\"peak\"]!=\"Not Peak\"]\n",
    "source[\"contributing_factor_vehicle_1\"].unique()\n",
    "\n",
    "source=normalize(source,data_df,\"contributing_factor_vehicle_1\")\n",
    "# source=source.loc[source[\"normalized\"]>=source[\"normalized\"].mean()]\n",
    "source=source.loc[source[\"normalized\"]!=0]\n",
    "# source[\"normalized\"].mean()\n",
    "# source=source.set_index(\"weekday\")\n",
    "# source.dtypes\n",
    "# source=source.loc[[1,2,3,4,5]]\n",
    "source=source.reset_index()\n",
    "alt.Chart(source).mark_bar().encode(\n",
    "    alt.Y('contributing_factor_vehicle_1:O',sort='-x',axis=alt.Axis(title='Factor')),\n",
    "    alt.X('normalized:Q',axis=alt.Axis(title='percentage')),\n",
    "    color='borough:N'\n",
    ").properties(\n",
    "    width=200,\n",
    "    height=200,\n",
    ").facet(\n",
    "    column='borough:N',\n",
    "    title='Factors of collision by Borough-% '\n",
    ")\n"
   ]
  },
  {
   "cell_type": "code",
   "execution_count": 0,
   "metadata": {
    "colab": {},
    "colab_type": "code",
    "id": "1ntcoc1c4BzG"
   },
   "outputs": [],
   "source": [
    "source = data_df.groupby(['contributing_factor_vehicle_1','borough',\"peak\"]).size().to_frame('counts').reset_index()\n",
    "source=source.loc[source[\"contributing_factor_vehicle_1\"]!=\"UNSPECIFIED\"]\n",
    "source=source.loc[source[\"contributing_factor_vehicle_1\"]!=\"1\"]\n",
    "source=source.loc[source[\"contributing_factor_vehicle_1\"]!=\"80\"]\n",
    "source=source.loc[source[\"contributing_factor_vehicle_1\"]!=\"MISSING\"]\n",
    "source=source.loc[source[\"peak\"]!=\"Not Peak\"]\n",
    "# source[\"contributing_factor_vehicle_1\"].unique()\n",
    "\n",
    "source=normalize(source,data_df,\"peak\")\n",
    "source=source.loc[source[\"normalized\"]>=source[\"normalized\"].mean()]\n",
    "source=source.loc[source[\"normalized\"]!=0]\n",
    "# source=source.loc[source[\"borough\"]==\"STATEN ISLAND\"]\n",
    "source=source.reset_index()\n",
    "# alt.Chart(source).mark_bar().encode(\n",
    "#     alt.Y('contributing_factor_vehicle_1:O',sort='-x',axis=alt.Axis(title='Factor')),\n",
    "#     alt.X('normalized:Q',axis=alt.Axis(title='percentage')),\n",
    "#     color='borough:N'\n",
    "# ).properties(\n",
    "#     width=400,\n",
    "#     height=600,\n",
    "#     title='Factors of collision by  Borough-% '\n",
    "# )\n",
    "# alt.Chart(source).mark_bar().encode(\n",
    "#     alt.Y('contributing_factor_vehicle_1:O',sort='-x',axis=alt.Axis(title='Factor')),\n",
    "#     alt.X('normalized:Q',axis=alt.Axis(title='percentage')),\n",
    "#     color='borough:N'\n",
    "# ).properties(\n",
    "#     width=200,\n",
    "#     height=200,\n",
    "# ).facet(\n",
    "#     column='borough:N',\n",
    "#     title='Factors of collision by Borough-% '\n",
    "# )\n",
    "\n",
    "\n",
    "heatmap=alt.Chart(source).mark_bar().encode(\n",
    "    alt.X('normalized:Q'),\n",
    "    alt.Y('contributing_factor_vehicle_1:O',sort='-x'),\n",
    ").properties(\n",
    "    width=400,\n",
    "    height=600,\n",
    "    title='Contributing factor vehicle 1 in NYC by peak hour'\n",
    ").facet(\n",
    "    column='peak:N',\n",
    "    title='Contributing factor vehicle 1 in NYC by peak hour '\n",
    ")\n",
    " "
   ]
  },
  {
   "cell_type": "code",
   "execution_count": 0,
   "metadata": {
    "colab": {},
    "colab_type": "code",
    "id": "I3svGJmZn6RA"
   },
   "outputs": [],
   "source": [
    "heatmap"
   ]
  },
  {
   "cell_type": "code",
   "execution_count": 0,
   "metadata": {
    "colab": {},
    "colab_type": "code",
    "id": "M2BOmDxFaMQ4"
   },
   "outputs": [],
   "source": [
    "\n",
    "source = data_df.loc[data_df[\"zip_code\"]==\"11207\"]\n",
    "source = source.groupby(['contributing_factor_vehicle_1','borough',\"peak\"]).size().to_frame('counts').reset_index()\n",
    "source=source.loc[source[\"contributing_factor_vehicle_1\"]!=\"UNSPECIFIED\"]\n",
    "source=source.loc[source[\"contributing_factor_vehicle_1\"]!=\"1\"]\n",
    "source=source.loc[source[\"contributing_factor_vehicle_1\"]!=\"80\"]\n",
    "source=source.loc[source[\"contributing_factor_vehicle_1\"]!=\"MISSING\"]\n",
    "source=source.loc[source[\"peak\"]!=\"Not Peak\"]\n",
    "\n",
    "# source[\"contributing_factor_vehicle_1\"].unique()\n",
    "\n",
    "source=normalize(source,data_df,\"peak\")\n",
    "source=source.loc[source[\"normalized\"]>=source[\"normalized\"].mean()]\n",
    "source=source.loc[source[\"normalized\"]!=0]\n",
    "# source=source.loc[source[\"borough\"]==\"STATEN ISLAND\"]\n",
    "source=source.reset_index()\n",
    "# alt.Chart(source).mark_bar().encode(\n",
    "#     alt.Y('contributing_factor_vehicle_1:O',sort='-x',axis=alt.Axis(title='Factor')),\n",
    "#     alt.X('normalized:Q',axis=alt.Axis(title='percentage')),\n",
    "#     color='borough:N'\n",
    "# ).properties(\n",
    "#     width=400,\n",
    "#     height=600,\n",
    "#     title='Factors of collision by  Borough-% '\n",
    "# )\n",
    "# alt.Chart(source).mark_bar().encode(\n",
    "#     alt.Y('contributing_factor_vehicle_1:O',sort='-x',axis=alt.Axis(title='Factor')),\n",
    "#     alt.X('normalized:Q',axis=alt.Axis(title='percentage')),\n",
    "#     color='borough:N'\n",
    "# ).properties(\n",
    "#     width=200,\n",
    "#     height=200,\n",
    "# ).facet(\n",
    "#     column='borough:N',\n",
    "#     title='Factors of collision by Borough-% '\n",
    "# )\n",
    "\n",
    "\n",
    "heatmap=alt.Chart(source).mark_bar().encode(\n",
    "    alt.X('normalized:Q'),\n",
    "    alt.Y('contributing_factor_vehicle_1:O',sort='-x'),\n",
    ").properties(\n",
    "    width=400,\n",
    "    height=600,\n",
    "    title='Contributing factor vehicle 1 in 11207 by peak hour'\n",
    ").facet(\n",
    "    column='peak:O',\n",
    "    title='Contributing factor vehicle 1 in 11207 by peak hour '\n",
    ")\n",
    "heatmap"
   ]
  },
  {
   "cell_type": "code",
   "execution_count": 0,
   "metadata": {
    "colab": {},
    "colab_type": "code",
    "id": "ucMzC6r0n7WD"
   },
   "outputs": [],
   "source": [
    "source = data_df.groupby(['contributing_factor_vehicle_1','borough',\"hour\"]).size().to_frame('counts').reset_index()\n",
    "source=source.loc[source[\"contributing_factor_vehicle_1\"]!=\"UNSPECIFIED\"]\n",
    "source=source.loc[source[\"contributing_factor_vehicle_1\"]!=\"1\"]\n",
    "source=source.loc[source[\"contributing_factor_vehicle_1\"]!=\"80\"]\n",
    "source=source.loc[source[\"contributing_factor_vehicle_1\"]!=\"MISSING\"]\n",
    "\n",
    "# source[\"contributing_factor_vehicle_1\"].unique()\n",
    "\n",
    "source=normalize(source,data_df,\"hour\")\n",
    "source=source.loc[source[\"normalized\"]>=source[\"normalized\"].mean()]\n",
    "source=source.loc[source[\"normalized\"]!=0]\n",
    "source=source.loc[source[\"borough\"]==\"BROOKLYN\"]\n",
    "source=source.reset_index()\n",
    "# alt.Chart(source).mark_bar().encode(\n",
    "#     alt.Y('contributing_factor_vehicle_1:O',sort='-x',axis=alt.Axis(title='Factor')),\n",
    "#     alt.X('normalized:Q',axis=alt.Axis(title='percentage')),\n",
    "#     color='borough:N'\n",
    "# ).properties(\n",
    "#     width=400,\n",
    "#     height=600,\n",
    "#     title='Factors of collision by  Borough-% '\n",
    "# )\n",
    "\n",
    "\n",
    "heatmap=alt.Chart(source).mark_rect().encode(\n",
    "    alt.X('hour:O', axis=alt.Axis(labelAngle=-0)),\n",
    "    alt.Y('contributing_factor_vehicle_1:O'),\n",
    "    alt.Color('normalized')\n",
    ").properties(\n",
    "    width=400,\n",
    "    height=600,\n",
    "    title='Contributing factor vehicle 1 in BROOKLYN by hour'\n",
    ")\n",
    "\n",
    "heatmap "
   ]
  },
  {
   "cell_type": "code",
   "execution_count": 0,
   "metadata": {
    "colab": {},
    "colab_type": "code",
    "id": "lfHzq84ipVDK"
   },
   "outputs": [],
   "source": [
    "source = data_df.groupby(['contributing_factor_vehicle_2','borough',\"hour\"]).size().to_frame('counts').reset_index()\n",
    "source=source.loc[source[\"contributing_factor_vehicle_2\"]!=\"UNSPECIFIED\"]\n",
    "source=source.loc[source[\"contributing_factor_vehicle_2\"]!=\"1\"]\n",
    "source=source.loc[source[\"contributing_factor_vehicle_2\"]!=\"80\"]\n",
    "source=source.loc[source[\"contributing_factor_vehicle_2\"]!=\"MISSING\"]\n",
    "\n",
    "# source[\"contributing_factor_vehicle_1\"].unique()\n",
    "\n",
    "source=normalize(source,data_df,\"hour\")\n",
    "source=source.loc[source[\"normalized\"]>=source[\"normalized\"].mean()]\n",
    "source=source.loc[source[\"normalized\"]!=0]\n",
    "source=source.loc[source[\"borough\"]==\"BROOKLYN\"]\n",
    "source=source.reset_index()\n",
    "# alt.Chart(source).mark_bar().encode(\n",
    "#     alt.Y('contributing_factor_vehicle_1:O',sort='-x',axis=alt.Axis(title='Factor')),\n",
    "#     alt.X('normalized:Q',axis=alt.Axis(title='percentage')),\n",
    "#     color='borough:N'\n",
    "# ).properties(\n",
    "#     width=400,\n",
    "#     height=600,\n",
    "#     title='Factors of collision by  Borough-% '\n",
    "# )\n",
    "\n",
    "\n",
    "alt.Chart(source).mark_rect().encode(\n",
    "    alt.X('hour:O', axis=alt.Axis(labelAngle=-0)),\n",
    "    alt.Y('contributing_factor_vehicle_2:O'),\n",
    "    alt.Color('normalized')\n",
    ").properties(\n",
    "    width=400,\n",
    "    height=600,\n",
    "    title='Contributing factor vehicle2 in BROOKLYN by hour'\n",
    ")"
   ]
  },
  {
   "cell_type": "code",
   "execution_count": 0,
   "metadata": {
    "colab": {},
    "colab_type": "code",
    "id": "WgTaHomds7ue"
   },
   "outputs": [],
   "source": [
    "# source = data_df.loc[data_df[\"borough\"]==\"BROOKLYN\"]\n",
    "# sourcedf = source.groupby(['zip_code','peak']).size().to_frame('counts').reset_index()\n",
    "# sourcedf.head()\n",
    "# alt.Chart(sourcedf).mark_circle().encode(\n",
    "#     x = alt.X('peak:N'),\n",
    "#     y = alt.Y('zip_code:N'),\n",
    "#     size= 'counts:Q'\n",
    "# ).properties(\n",
    "#     width=600,\n",
    "#     height=600,\n",
    "#     title='Brooklyn zipcode collision by hour'\n",
    "# )\n",
    "\n",
    "source = data_df.loc[data_df[\"zip_code\"]==\"11207\"]\n",
    "source = source.groupby(['weekday', 'hour']).size().to_frame('counts').reset_index()\n",
    "\n",
    "max = source['counts'].max()\n",
    "min = source['counts'].min()\n",
    "\n",
    "alt.Chart(source).mark_rect().encode(\n",
    "    alt.X('hour:O', axis=alt.Axis(labelAngle=-0)),\n",
    "    alt.Y('weekday:O'),\n",
    "    alt.Color('counts')\n",
    "    \n",
    ").properties(\n",
    "    width=600,\n",
    "    title='Weekday By Hour '\n",
    ")\n",
    "# source.head()"
   ]
  },
  {
   "cell_type": "code",
   "execution_count": 0,
   "metadata": {
    "colab": {},
    "colab_type": "code",
    "id": "DFrvHcFUuzrB"
   },
   "outputs": [],
   "source": [
    "source = data_df.loc[data_df[\"borough\"]==\"BROOKLYN\"]\n",
    "source = source.loc[source[\"zip_code\"]==\"11207\"]\n",
    "\n",
    "sourcedf = source.groupby(['cross_street_name','peak']).size().to_frame('sum').reset_index()\n",
    "sourcedf.head()\n",
    "\n",
    "\n",
    "sourcem=sourcedf.loc[sourcedf[\"peak\"]==\"Morning Peak\"]\n",
    "sourcem=sourcem.loc[sourcem[\"sum\"]!=0]\n",
    "sourcem=sourcem.loc[sourcem[\"sum\"]>2]\n",
    "# alt.Chart(sourcedf).mark_rect().encode(\n",
    "#     alt.X('peak:N'),\n",
    "#     alt.Y('cross_street_name:N'),\n",
    "#     alt.Color('counts')\n",
    "# ).properties(\n",
    "#     width=400,\n",
    "#     height=500,\n",
    "#     title='BROOKLYN dangerous cross streets'\n",
    "# )\n",
    "morning= alt.Chart(sourcem).mark_bar().encode(\n",
    "    alt.Y('cross_street_name:O',sort='-x'),\n",
    "    alt.X('sum:Q'),\n",
    ").properties(\n",
    "    width=200,\n",
    "    height=200,\n",
    "    title='Cross streets at 11207 morning peak time'\n",
    ")\n",
    "\n",
    "sourcedf = source.groupby(['cross_street_name','peak']).size().to_frame('sum').reset_index()\n",
    "sourcee=sourcedf.loc[sourcedf[\"peak\"]==\"Evening Peak\"]\n",
    "sourcee=sourcee.loc[sourcee[\"sum\"]!=0]\n",
    "sourcee=sourcee.loc[sourcee[\"sum\"]>2]\n",
    "eve= alt.Chart(sourcee).mark_bar().encode(\n",
    "    alt.Y('cross_street_name:O',sort='-x',axis=alt.Axis(title='Factor')),\n",
    "    alt.X('sum:Q'),\n",
    ").properties(\n",
    "    width=200,\n",
    "    height=200,\n",
    "    title='Cross streets at 11207 evening peak time'\n",
    ")\n",
    "\n",
    "\n",
    "sourcen=sourcedf.loc[sourcedf[\"peak\"]==\"Not Peak\"]\n",
    "sourcen=sourcen.loc[sourcen[\"sum\"]!=0]\n",
    "sourcen=sourcen.loc[sourcen[\"sum\"]>7]\n",
    "notp= alt.Chart(sourcen).mark_bar().encode(\n",
    "    alt.Y('cross_street_name:O',sort='-x',axis=alt.Axis(title='Factor')),\n",
    "    alt.X('sum:Q'),\n",
    ").properties(\n",
    "    width=200,\n",
    "    height=200,\n",
    "    title='Cross streets at 11207 non-peak time'\n",
    ")\n",
    "\n",
    "\n",
    "morning |eve |notp\n",
    "# | eve | notp"
   ]
  },
  {
   "cell_type": "code",
   "execution_count": 0,
   "metadata": {
    "colab": {},
    "colab_type": "code",
    "id": "wKcFGWU1lYFp"
   },
   "outputs": [],
   "source": [
    "source = data_df.loc[data_df[\"borough\"]==\"BROOKLYN\"]\n",
    "source = source.loc[source[\"zip_code\"]==\"11207\"]\n",
    "\n",
    "sourcedf = source.groupby(['cross_street_name','peak']).size().to_frame('counts').reset_index()\n",
    "sourcee=sourcedf.loc[sourcedf[\"peak\"]==\"Evening Peak\"]\n",
    "sourcee=sourcee.loc[sourcee[\"counts\"]!=0]\n",
    "sourcee=sourcee.loc[sourcee[\"counts\"]>2]\n",
    "alt.Chart(sourcee).mark_bar().encode(\n",
    "    alt.Y('cross_street_name:O',sort='-x',axis=alt.Axis(title='Factor')),\n",
    "    alt.X('counts:Q',axis=alt.Axis(title='percentage')),\n",
    ").properties(\n",
    "    width=200,\n",
    "    height=200,\n",
    ")"
   ]
  },
  {
   "cell_type": "code",
   "execution_count": 0,
   "metadata": {
    "colab": {},
    "colab_type": "code",
    "id": "1yzFEz3wnK1H"
   },
   "outputs": [],
   "source": [
    "#maps of streets\n",
    "source = data_df.loc[data_df[\"borough\"]==\"BROOKLYN\"]\n",
    "source = source.loc[source[\"zip_code\"]==\"11207\"]"
   ]
  },
  {
   "cell_type": "code",
   "execution_count": 0,
   "metadata": {
    "colab": {},
    "colab_type": "code",
    "id": "Pwb5uxsa0G-a"
   },
   "outputs": [],
   "source": [
    "source = data_df.groupby(['vehicle_type_code1','borough']).size().to_frame('counts').reset_index()\n",
    "\n",
    "source=normalize(source,data_df)\n",
    "# source=source.reset_index()\n",
    "source=source.loc[source[\"normalized\"]!=0]\n",
    "source=source.loc[source[\"normalized\"]>=source[\"normalized\"].mean()]\n",
    "alt.Chart(source).mark_bar().encode(\n",
    "    alt.Y('vehicle_type_code1:O',sort=\"-x\",axis=alt.Axis(title='Vehicle Type')),\n",
    "    alt.X('normalized:Q',axis=alt.Axis(title='percentage')),\n",
    "    color='borough:N'\n",
    ").properties(\n",
    "    width=200,\n",
    "    height=200,\n",
    ").facet(\n",
    "    column='borough:N',\n",
    "    title='Type of vehicles in collision by Borough-% '\n",
    ")"
   ]
  },
  {
   "cell_type": "markdown",
   "metadata": {
    "colab_type": "text",
    "id": "m-LkCxPNaUKP"
   },
   "source": [
    "### Passenger Group"
   ]
  },
  {
   "cell_type": "code",
   "execution_count": 0,
   "metadata": {
    "colab": {},
    "colab_type": "code",
    "id": "PFYgsCsl24nl"
   },
   "outputs": [],
   "source": [
    "#  number_of_persons_injured      1672483 non-null  object\n",
    "#  4   number_of_persons_killed       1672469 non-null  object\n",
    "#  5   number_of_pedestrians_injured  1672500 non-null  object\n",
    "#  6   number_of_pedestrians_killed   1672500 non-null  object\n",
    "#  7   number_of_cyclist_injured      1672500 non-null  object\n",
    "#  8   number_of_cyclist_killed       1672500 non-null  object\n",
    "#  9   number_of_motorist_injured     1672500 non-null  object\n",
    "#  10  number_of_motorist_killed      1672500 non-null  object\n",
    "# groups = data_df.groupby(['borough']).size().to_frame('counts')\n",
    "alldata=data_df.groupby([\"year\"]).size().to_frame('counts').reset_index()\n",
    "\n",
    "\n",
    "nohurt=data_df.loc[(data_df[\"number_of_persons_killed\"]==\"0\") & (data_df[\"number_of_persons_injured\"]==\"0\")]\n",
    "nohurt_gruop=nohurt.groupby([\"year\",\"borough\"]).size().to_frame('counts').reset_index()\n",
    "nohurt_gruop=nohurt_gruop.rename(columns={\"counts\":\"noinjury\"})\n",
    "result = pd.merge(nohurt_gruop, alldata, on=[\"year\"])\n",
    "for index, row in result.iterrows():\n",
    "    # print(\"hello\")\n",
    "    result.at[index, \"normalized\"]=float(float(row[\"noinjury\"])/float(row[\"counts\"]))*100\n",
    "\n",
    "result=result.drop([\"noinjury\",\"counts\"],axis=1)\n",
    "result=result.rename(columns={\"normalized\":\"noinjury\"})\n",
    "\n",
    "\n",
    "injured=data_df.loc[data_df[\"number_of_persons_injured\"]!=\"0\"]\n",
    "injured_gruop=injured.groupby([\"year\",\"borough\"]).size().to_frame('sum').reset_index()\n",
    "injured_gruop=injured_gruop.rename(columns={\"sum\":\"injured\"})\n",
    "result1 = pd.merge(injured_gruop, alldata, on=[\"year\"])\n",
    "for index, row in result1.iterrows():\n",
    "    # print(\"hello\")\n",
    "    result1.at[index, \"normalized\"]=float(float(row[\"injured\"])/float(row[\"counts\"]))*100\n",
    "result1=result1.drop([\"injured\",\"counts\"],axis=1)\n",
    "result1=result1.rename(columns={\"normalized\":\"injured\"})\n",
    "\n",
    "\n",
    "killed=data_df.loc[data_df[\"number_of_persons_killed\"]!=\"0\"]\n",
    "killed_group=killed.groupby([\"year\",\"borough\"]).size().to_frame('sum').reset_index()\n",
    "killed_group=killed_group.rename(columns={\"sum\":\"killed\"})\n",
    "result2 = pd.merge(killed_group, alldata, on=[\"year\"])\n",
    "for index, row in result2.iterrows():\n",
    "    # print(\"hello\")\n",
    "    result2.at[index, \"normalized\"]=float(float(row[\"killed\"])/float(row[\"counts\"]))*100\n",
    "result2=result2.drop([\"killed\",\"counts\"],axis=1)\n",
    "result2=result2.rename(columns={\"normalized\":\"killed\"})\n",
    "\n",
    "\n",
    "\n",
    "final = pd.merge(result, result1, on=[\"year\",\"borough\"])\n",
    "\n",
    "final = pd.merge(final, result2, on=[\"year\",\"borough\"])\n",
    "final.head()\n",
    "\n",
    "chart1 = alt.Chart(final).mark_bar().encode(\n",
    "    alt.X('noinjury:Q',stack=\"normalize\"),\n",
    "    alt.Y('year:O'),\n",
    "    color='borough:N'\n",
    ").properties(\n",
    "    height=200,\n",
    "    width=200,\n",
    "    title='Persons without Injury by  Borough and year'\n",
    ")\n",
    "\n",
    "chart2 = alt.Chart(final).mark_bar().encode(\n",
    "    alt.X('injured:Q',stack=\"normalize\"),\n",
    "    alt.Y('year:O'),\n",
    "    color='borough:N'\n",
    ").properties(\n",
    "    height=200,\n",
    "    width=200,\n",
    "     title='Persons with Injury by  Borough and year'\n",
    ")\n",
    "\n",
    "chart3 = alt.Chart(final).mark_bar().encode(\n",
    "    alt.X('killed:Q',stack=\"normalize\"),\n",
    "    alt.Y('year:O'),\n",
    "    color='borough:N'\n",
    ").properties(\n",
    "    height=200,\n",
    "    width=200,\n",
    "     title='Persons Killed by  Borough and year'\n",
    ")\n",
    "\n",
    "# chart1 | chart2 | chart3\n",
    "alt.vconcat(chart1, chart2,chart3)"
   ]
  },
  {
   "cell_type": "code",
   "execution_count": 0,
   "metadata": {
    "colab": {},
    "colab_type": "code",
    "id": "2DUuzRZzeBUN"
   },
   "outputs": [],
   "source": [
    "data_df[[\"number_of_pedestrians_injured\",\"number_of_pedestrians_killed\",\"number_of_cyclist_injured\",\"number_of_cyclist_killed\",\"number_of_motorist_injured\",\"number_of_motorist_killed\"]] = data_df[[\"number_of_pedestrians_injured\",\"number_of_pedestrians_killed\",\"number_of_cyclist_injured\",\"number_of_cyclist_killed\",\"number_of_motorist_injured\",\"number_of_motorist_killed\"]].apply(pd.to_numeric) \n",
    "\n",
    "# alldata.head()"
   ]
  },
  {
   "cell_type": "code",
   "execution_count": 0,
   "metadata": {
    "colab": {},
    "colab_type": "code",
    "id": "xlZfV9tnWeB7"
   },
   "outputs": [],
   "source": [
    "source = data_df.loc[data_df[\"borough\"]==\"BROOKLYN\"]\n",
    "source = source.loc[source[\"zip_code\"]==\"11207\"]\n",
    "groups=source[[\"year\",\"borough\",\"number_of_pedestrians_injured\",\"number_of_pedestrians_killed\",\"number_of_cyclist_injured\",\"number_of_cyclist_killed\",\"number_of_motorist_injured\",\"number_of_motorist_killed\"]]\n",
    "\n",
    "groups=groups.reset_index()\n",
    "for index, row in groups.iterrows():\n",
    "    groups.at[index, \"Cyclist\"]=int(row[\"number_of_cyclist_injured\"])+int(row[\"number_of_cyclist_killed\"])\n",
    "    groups.at[index, \"Pedastrian\"]=int(row[\"number_of_pedestrians_injured\"])+int(row[\"number_of_pedestrians_killed\"])\n",
    "    groups.at[index, \"Motorist\"]=int(row[\"number_of_motorist_injured\"])+int(row[\"number_of_motorist_killed\"])"
   ]
  },
  {
   "cell_type": "code",
   "execution_count": 0,
   "metadata": {
    "colab": {},
    "colab_type": "code",
    "id": "lbeNtyQciHxb"
   },
   "outputs": [],
   "source": [
    "groups.head()"
   ]
  },
  {
   "cell_type": "code",
   "execution_count": 0,
   "metadata": {
    "colab": {},
    "colab_type": "code",
    "id": "JYlZrIyEiwPe"
   },
   "outputs": [],
   "source": [
    "groups_year=groups.groupby([\"year\",\"borough\"]).sum()\n",
    "groups_year=groups_year.reset_index()\n",
    "groups_year=groups_year[[\"year\",\"borough\",\"Cyclist\",\"Pedastrian\",\"Motorist\"]]\n",
    "groups_year.head()\n",
    "\n",
    "groups_year=groups_year.melt(id_vars=[\"year\",\"borough\"], \n",
    "        var_name=\"group\", \n",
    "        value_name=\"Value\")\n",
    "groups_year.head()\n",
    "groups_year=groups_year.groupby([\"year\",\"group\",\"borough\"]).sum()\n",
    "groups_year.head()\n",
    "groups_year=groups_year.reset_index()\n"
   ]
  },
  {
   "cell_type": "code",
   "execution_count": 0,
   "metadata": {
    "colab": {},
    "colab_type": "code",
    "id": "TS6SJJETjJPQ"
   },
   "outputs": [],
   "source": [
    "\n",
    "# alt.Chart(groups_year).mark_rect().encode(\n",
    "#     alt.X('Value:Q',axis=alt.Axis(title='Percentage')),\n",
    "#     alt.Y('year:O'),\n",
    "#     color=\"borough:N\",\n",
    "#     column='group:N'\n",
    "# ).properties(\n",
    "#     height=200,\n",
    "#     width=200,\n",
    "#     title='Group of passengers Borough and year'\n",
    "# )\n",
    "\n",
    "# alt.Chart(sourcedf).mark_rect().encode(\n",
    "#     alt.X('hour:N'),\n",
    "#     alt.Y('cross_street_name:N'),\n",
    "#     alt.Color('counts')\n",
    "# ).properties(\n",
    "#     width=400,\n",
    "#     height=1500,\n",
    "#     title='BROOKLYN dangerous cross streets'\n",
    "# )\n",
    "\n",
    "\n",
    "# alt.Chart(groups_year).mark_rect().encode(\n",
    "#     alt.X('year:O', axis=alt.Axis(labelAngle=-0)),\n",
    "#     alt.Y('borough:O'),\n",
    "#     alt.Color('Value')\n",
    "# ).properties(\n",
    "#     width=400,\n",
    "#     height=600,\n",
    "# ).facet(\n",
    "#     column='group:N',\n",
    "#     title='Group of passengers Borough and year '\n",
    "# )\n",
    "alt.Chart(groups_year).mark_line().encode(\n",
    "    alt.X('year:O'),\n",
    "    alt.Y('Value:Q',axis=alt.Axis(title='percentage')),\n",
    "    color='group:N',\n",
    ").properties(\n",
    "    width=400,\n",
    "    height=300,\n",
    "    title='Group of passengers Brooklyn-11207 and year'\n",
    ").facet(\n",
    "    column='borough:N',\n",
    "    title='Factors of collision by Borough-% '\n",
    ")\n"
   ]
  },
  {
   "cell_type": "code",
   "execution_count": 0,
   "metadata": {
    "colab": {},
    "colab_type": "code",
    "id": "ImqZ2M00nMn5"
   },
   "outputs": [],
   "source": [
    "source_map = data_df.groupby(['borough', 'zip_code']).size().reset_index(name='counts')\n",
    "\n",
    "source_map=source_map.set_index(\"borough\")\n",
    "brooklyn=source_map.loc[\"BROOKLYN\"]\n",
    "rooklyn=brooklyn.reset_index()\n",
    "brooklyn=brooklyn.loc[brooklyn[\"counts\"]!=0]\n",
    "brooklyn\n",
    "#brooklyn=brooklyn.loc[brooklyn[\"counts\"]>=brooklyn[\"counts\"].mean()]\n",
    "\n",
    "#brooklyn_data = data_df.loc[data_df[\"borough\"]==\"BROOKLYN\"]\n",
    "#quantile_doamin = [brooklyn[\"counts\"].min(), brooklyn['counts'].quantile(.25), brooklyn['counts'].median(), brooklyn['counts'].quantile(.75), brooklyn['counts'].max()]\n",
    "to_plot = brooklyn.groupby('zip_code').size().reset_index(name='count')\n",
    "to_plot\n",
    "\n",
    "borough_geo = alt.Data(url='boroughs.geojson.txt', format=alt.DataFormat(property='features',type='json'))\n",
    "\n",
    "nyc_background = alt.Chart(borough_geo).mark_geoshape(\n",
    "    stroke='white',\n",
    "    strokeWidth=2\n",
    ").encode(\n",
    "    color=alt.value('#eee'),\n",
    ").properties(\n",
    "    width=500,\n",
    "    height=300\n",
    ")\n",
    "\n",
    "nyc_background\n",
    "# create geo data for brooklyn \n",
    "alt.Chart(borough_geo).mark_geoshape().encode(\n",
    "    color='count:Q'\n",
    ").transform_lookup(\n",
    "    lookup='id',\n",
    "    from_=alt.LookupData(to_plot, 'zip_code', ['counts'])\n",
    ").properties(\n",
    "    width=500,\n",
    "    height=300\n",
    ")"
   ]
  },
  {
   "cell_type": "code",
   "execution_count": 0,
   "metadata": {
    "colab": {},
    "colab_type": "code",
    "id": "JD1tzpphTog0"
   },
   "outputs": [],
   "source": []
  }
 ],
 "metadata": {
  "colab": {
   "collapsed_sections": [],
   "name": "Mini-Project-Vehicle Collisions.ipynb",
   "provenance": []
  },
  "kernelspec": {
   "display_name": "Python 3",
   "language": "python",
   "name": "python3"
  },
  "language_info": {
   "codemirror_mode": {
    "name": "ipython",
    "version": 3
   },
   "file_extension": ".py",
   "mimetype": "text/x-python",
   "name": "python",
   "nbconvert_exporter": "python",
   "pygments_lexer": "ipython3",
   "version": "3.7.5"
  }
 },
 "nbformat": 4,
 "nbformat_minor": 1
}
